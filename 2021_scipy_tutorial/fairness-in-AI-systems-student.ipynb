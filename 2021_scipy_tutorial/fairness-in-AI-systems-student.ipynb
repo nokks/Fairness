{
  "cells": [
    {
      "cell_type": "markdown",
      "metadata": {
        "id": "view-in-github",
        "colab_type": "text"
      },
      "source": [
        "<a href=\"https://colab.research.google.com/github/nokks/Fairness/blob/main/2021_scipy_tutorial/fairness-in-AI-systems-student.ipynb\" target=\"_parent\"><img src=\"https://colab.research.google.com/assets/colab-badge.svg\" alt=\"Open In Colab\"/></a>"
      ]
    },
    {
      "cell_type": "markdown",
      "metadata": {
        "id": "NDxtnoIr7mIN"
      },
      "source": [
        "# SciPy 2021 Tutorial <br>_Fairness in AI systems: <br>From social context to practice using Fairlearn_\n",
        "\n",
        "---\n",
        "\n",
        "_SciPy 2021 Tutorial: Fairness in AI systems: From social context to practice using Fairlearn by Manojit Nandi, Miroslav Dudík, Triveni Gandhi, Lisa Ibañez, Adrin Jalali, Michael Madaio, Hanna Wallach, Hilde Weerts is licensed under\n",
        "[CC BY 4.0](https://creativecommons.org/licenses/by/4.0/)._\n",
        "\n",
        "---"
      ]
    },
    {
      "cell_type": "markdown",
      "metadata": {
        "id": "Sch9KDWg7SL8"
      },
      "source": [
        "Fairness in AI systems is an interdisciplinary field of research and practice that aims to understand and address some of the negative impacts of AI systems on society. In this tutorial, we will walk through the process of assessing and mitigating fairness-related harms in the context of the U.S. criminal justice system. This tutorial will consist of a mix of instructional content and hands-on demonstrations using Jupyter notebooks. Participants will use the Fairlearn library to assess ML models for performance disparities across different racial groups and mitigate those disparities using a variety of algorithmic techniques."
      ]
    },
    {
      "cell_type": "markdown",
      "metadata": {
        "id": "fboVvqvVvpKz"
      },
      "source": [
        "# **Prepare environment**"
      ]
    },
    {
      "cell_type": "markdown",
      "metadata": {
        "id": "o0p461hmgrmz"
      },
      "source": [
        "## Install packages"
      ]
    },
    {
      "cell_type": "code",
      "execution_count": 33,
      "metadata": {
        "colab": {
          "base_uri": "https://localhost:8080/"
        },
        "id": "w_uVNMHUdb2w",
        "outputId": "41d365ea-50df-4d99-b6eb-9fcd7cf40c4f"
      },
      "outputs": [
        {
          "output_type": "stream",
          "name": "stdout",
          "text": [
            "Requirement already satisfied: fairlearn==0.7.0 in /usr/local/lib/python3.10/dist-packages (0.7.0)\n",
            "Requirement already satisfied: numpy>=1.17.2 in /usr/local/lib/python3.10/dist-packages (from fairlearn==0.7.0) (1.25.2)\n",
            "Requirement already satisfied: pandas>=0.25.1 in /usr/local/lib/python3.10/dist-packages (from fairlearn==0.7.0) (2.0.3)\n",
            "Requirement already satisfied: scikit-learn>=0.22.1 in /usr/local/lib/python3.10/dist-packages (from fairlearn==0.7.0) (1.5.1)\n",
            "Requirement already satisfied: scipy>=1.4.1 in /usr/local/lib/python3.10/dist-packages (from fairlearn==0.7.0) (1.11.4)\n",
            "Requirement already satisfied: python-dateutil>=2.8.2 in /usr/local/lib/python3.10/dist-packages (from pandas>=0.25.1->fairlearn==0.7.0) (2.8.2)\n",
            "Requirement already satisfied: pytz>=2020.1 in /usr/local/lib/python3.10/dist-packages (from pandas>=0.25.1->fairlearn==0.7.0) (2023.4)\n",
            "Requirement already satisfied: tzdata>=2022.1 in /usr/local/lib/python3.10/dist-packages (from pandas>=0.25.1->fairlearn==0.7.0) (2024.1)\n",
            "Requirement already satisfied: joblib>=1.2.0 in /usr/local/lib/python3.10/dist-packages (from scikit-learn>=0.22.1->fairlearn==0.7.0) (1.4.2)\n",
            "Requirement already satisfied: threadpoolctl>=3.1.0 in /usr/local/lib/python3.10/dist-packages (from scikit-learn>=0.22.1->fairlearn==0.7.0) (3.5.0)\n",
            "Requirement already satisfied: six>=1.5 in /usr/local/lib/python3.10/dist-packages (from python-dateutil>=2.8.2->pandas>=0.25.1->fairlearn==0.7.0) (1.16.0)\n",
            "Requirement already satisfied: scikit-learn in /usr/local/lib/python3.10/dist-packages (1.5.1)\n",
            "Requirement already satisfied: numpy>=1.19.5 in /usr/local/lib/python3.10/dist-packages (from scikit-learn) (1.25.2)\n",
            "Requirement already satisfied: scipy>=1.6.0 in /usr/local/lib/python3.10/dist-packages (from scikit-learn) (1.11.4)\n",
            "Requirement already satisfied: joblib>=1.2.0 in /usr/local/lib/python3.10/dist-packages (from scikit-learn) (1.4.2)\n",
            "Requirement already satisfied: threadpoolctl>=3.1.0 in /usr/local/lib/python3.10/dist-packages (from scikit-learn) (3.5.0)\n",
            "Requirement already satisfied: seaborn in /usr/local/lib/python3.10/dist-packages (0.13.2)\n",
            "Requirement already satisfied: numpy!=1.24.0,>=1.20 in /usr/local/lib/python3.10/dist-packages (from seaborn) (1.25.2)\n",
            "Requirement already satisfied: pandas>=1.2 in /usr/local/lib/python3.10/dist-packages (from seaborn) (2.0.3)\n",
            "Requirement already satisfied: matplotlib!=3.6.1,>=3.4 in /usr/local/lib/python3.10/dist-packages (from seaborn) (3.7.1)\n",
            "Requirement already satisfied: contourpy>=1.0.1 in /usr/local/lib/python3.10/dist-packages (from matplotlib!=3.6.1,>=3.4->seaborn) (1.2.1)\n",
            "Requirement already satisfied: cycler>=0.10 in /usr/local/lib/python3.10/dist-packages (from matplotlib!=3.6.1,>=3.4->seaborn) (0.12.1)\n",
            "Requirement already satisfied: fonttools>=4.22.0 in /usr/local/lib/python3.10/dist-packages (from matplotlib!=3.6.1,>=3.4->seaborn) (4.53.0)\n",
            "Requirement already satisfied: kiwisolver>=1.0.1 in /usr/local/lib/python3.10/dist-packages (from matplotlib!=3.6.1,>=3.4->seaborn) (1.4.5)\n",
            "Requirement already satisfied: packaging>=20.0 in /usr/local/lib/python3.10/dist-packages (from matplotlib!=3.6.1,>=3.4->seaborn) (24.1)\n",
            "Requirement already satisfied: pillow>=6.2.0 in /usr/local/lib/python3.10/dist-packages (from matplotlib!=3.6.1,>=3.4->seaborn) (9.4.0)\n",
            "Requirement already satisfied: pyparsing>=2.3.1 in /usr/local/lib/python3.10/dist-packages (from matplotlib!=3.6.1,>=3.4->seaborn) (3.1.2)\n",
            "Requirement already satisfied: python-dateutil>=2.7 in /usr/local/lib/python3.10/dist-packages (from matplotlib!=3.6.1,>=3.4->seaborn) (2.8.2)\n",
            "Requirement already satisfied: pytz>=2020.1 in /usr/local/lib/python3.10/dist-packages (from pandas>=1.2->seaborn) (2023.4)\n",
            "Requirement already satisfied: tzdata>=2022.1 in /usr/local/lib/python3.10/dist-packages (from pandas>=1.2->seaborn) (2024.1)\n",
            "Requirement already satisfied: six>=1.5 in /usr/local/lib/python3.10/dist-packages (from python-dateutil>=2.7->matplotlib!=3.6.1,>=3.4->seaborn) (1.16.0)\n"
          ]
        }
      ],
      "source": [
        "!pip install --upgrade fairlearn==0.7.0\n",
        "!pip install --upgrade scikit-learn\n",
        "!pip install --upgrade seaborn"
      ]
    },
    {
      "cell_type": "markdown",
      "metadata": {
        "id": "fVtpwFGJLcgU"
      },
      "source": [
        "## Import and set up packages"
      ]
    },
    {
      "cell_type": "code",
      "execution_count": 34,
      "metadata": {
        "id": "cEwLsWyTLgJn"
      },
      "outputs": [],
      "source": [
        "import numpy as np\n",
        "import pandas as pd\n",
        "\n",
        "pd.set_option(\"display.float_format\", \"{:.3f}\".format)"
      ]
    },
    {
      "cell_type": "code",
      "execution_count": 47,
      "metadata": {
        "id": "wBOSsyc48MK0"
      },
      "outputs": [],
      "source": [
        "import matplotlib.pyplot as plt\n",
        "import seaborn as sns\n",
        "\n",
        "sns.set()"
      ]
    },
    {
      "cell_type": "code",
      "source": [
        "!pip install -U setuptools==70.2.0"
      ],
      "metadata": {
        "colab": {
          "base_uri": "https://localhost:8080/"
        },
        "id": "3NVBt07IxXK6",
        "outputId": "8b7f8610-b910-4c7b-fa87-8697b868bf8f"
      },
      "execution_count": 36,
      "outputs": [
        {
          "output_type": "stream",
          "name": "stdout",
          "text": [
            "Requirement already satisfied: setuptools==70.2.0 in /usr/local/lib/python3.10/dist-packages (70.2.0)\n"
          ]
        }
      ]
    },
    {
      "cell_type": "code",
      "source": [
        "!pip install sklearn"
      ],
      "metadata": {
        "colab": {
          "base_uri": "https://localhost:8080/"
        },
        "id": "zD6Im8Aqyjgu",
        "outputId": "3b5696b1-9968-44ae-a874-02475a83241b"
      },
      "execution_count": 48,
      "outputs": [
        {
          "output_type": "stream",
          "name": "stdout",
          "text": [
            "Collecting sklearn\n",
            "  Using cached sklearn-0.0.post12.tar.gz (2.6 kB)\n",
            "  \u001b[1;31merror\u001b[0m: \u001b[1msubprocess-exited-with-error\u001b[0m\n",
            "  \n",
            "  \u001b[31m×\u001b[0m \u001b[32mpython setup.py egg_info\u001b[0m did not run successfully.\n",
            "  \u001b[31m│\u001b[0m exit code: \u001b[1;36m1\u001b[0m\n",
            "  \u001b[31m╰─>\u001b[0m See above for output.\n",
            "  \n",
            "  \u001b[1;35mnote\u001b[0m: This error originates from a subprocess, and is likely not a problem with pip.\n",
            "  Preparing metadata (setup.py) ... \u001b[?25l\u001b[?25herror\n",
            "\u001b[1;31merror\u001b[0m: \u001b[1mmetadata-generation-failed\u001b[0m\n",
            "\n",
            "\u001b[31m×\u001b[0m Encountered error while generating package metadata.\n",
            "\u001b[31m╰─>\u001b[0m See above for output.\n",
            "\n",
            "\u001b[1;35mnote\u001b[0m: This is an issue with the package mentioned above, not pip.\n",
            "\u001b[1;36mhint\u001b[0m: See above for details.\n"
          ]
        }
      ]
    },
    {
      "cell_type": "code",
      "execution_count": 49,
      "metadata": {
        "id": "VhbFzU6GLgW0"
      },
      "outputs": [],
      "source": [
        "from sklearn.linear_model import LogisticRegression\n",
        "from sklearn.model_selection import train_test_split\n",
        "from sklearn.preprocessing import StandardScaler\n",
        "from sklearn.pipeline import Pipeline\n",
        "from sklearn.utils import Bunch\n",
        "from sklearn.metrics import (\n",
        "    balanced_accuracy_score,\n",
        "    roc_auc_score,\n",
        "    accuracy_score,\n",
        "    recall_score,\n",
        "    confusion_matrix,\n",
        "    roc_curve,\n",
        "    RocCurveDisplay,\n",
        "    ConfusionMatrixDisplay)\n",
        "from sklearn import set_config\n",
        "\n",
        "set_config(display=\"diagram\")"
      ]
    },
    {
      "cell_type": "code",
      "execution_count": 50,
      "metadata": {
        "id": "GcilMnWhLgaT"
      },
      "outputs": [],
      "source": [
        "from fairlearn.metrics import (\n",
        "    MetricFrame,\n",
        "    true_positive_rate,\n",
        "    false_positive_rate,\n",
        "    false_negative_rate,\n",
        "    selection_rate,\n",
        "    count,\n",
        "    false_negative_rate_difference\n",
        ")\n",
        "\n",
        "from fairlearn.postprocessing import ThresholdOptimizer, plot_threshold_optimizer\n",
        "from fairlearn.postprocessing._interpolated_thresholder import InterpolatedThresholder\n",
        "from fairlearn.postprocessing._threshold_operation import ThresholdOperation\n",
        "from fairlearn.reductions import ExponentiatedGradient, EqualizedOdds, TruePositiveRateParity"
      ]
    },
    {
      "cell_type": "code",
      "execution_count": 51,
      "metadata": {
        "id": "S4ANMj1M8k0h"
      },
      "outputs": [],
      "source": [
        "from IPython import display\n",
        "from datetime import date"
      ]
    },
    {
      "cell_type": "markdown",
      "metadata": {
        "id": "4OoPTetsDv-v"
      },
      "source": [
        "# **Overview of fairness in AI systems**"
      ]
    },
    {
      "cell_type": "markdown",
      "metadata": {
        "id": "0gZTFumIxCfK"
      },
      "source": [
        "# **Introduction of Fairlearn and other tutorial resources**\n"
      ]
    },
    {
      "cell_type": "markdown",
      "metadata": {
        "id": "7KhsuCB-imFk"
      },
      "source": [
        "This tutorial builds on the following open source projects:\n",
        "\n",
        "* **machine learning and data processing**: _scikit-learn_, _pandas_, _numpy_\n",
        "* **plotting**: _seaborn_, _matplotlib_\n",
        "* **AI fairness**: _Fairlearn_"
      ]
    },
    {
      "cell_type": "markdown",
      "metadata": {
        "id": "ORfTAukTuEPN"
      },
      "source": [
        "### [Fairlearn](https://fairlearn.org)\n",
        "\n",
        "Fairlearn is an open-source, community-driven project to help data scientists improve fairness of AI systems. It includes:\n",
        "\n",
        "* A Python library for fairness assessment and improvement (fairness metrics, mitigation algorithms, plotting, etc.)\n",
        "\n",
        "* Educational resources covering organizational and technical processes for unfairness mitigation (user guide, case studies, Jupyter notebooks, etc.)\n",
        "\n",
        "The project was started in 2018 at Microsoft Research. In 2021 it adopted neutral governance structure and since then it is completely community-driven."
      ]
    },
    {
      "cell_type": "markdown",
      "metadata": {
        "id": "_j1vtg6TD7Fi"
      },
      "source": [
        "# **Introduction to the recidivism, likelihood to reoffend scenario**"
      ]
    },
    {
      "cell_type": "markdown",
      "metadata": {
        "id": "HUkG_zdEylGU"
      },
      "source": [
        "Our scenario builds on previous research that highlighted racial disparities in the accuracy of the recidvism scores in the U.S criminal justice system. ([Larson et al., 2016](https://www.propublica.org/article/machine-bias-risk-assessments-in-criminal-sentencing)).\n",
        "Motivated by that work, in this research we wil evaluate the fairness in the algorithm used to score recidivism.\n",
        "\n",
        "**Convenience restriction**\n",
        "\n",
        "* In practice, the modeling of recidivism needs would use large data sets covering a wide range of scores. In this tutorial, we will work with a [publicly available dataset](https://raw.githubusercontent.com/propublica/compas-analysis/master/compas-scores-two-years.csv) that focuses on recidivism scoring in defendants in Broward county, Florida over 2 years. 2013 and 2014."
      ]
    },
    {
      "cell_type": "markdown",
      "metadata": {
        "id": "q-j4KN95wLLS"
      },
      "source": [
        "## Dataset and task"
      ]
    },
    {
      "cell_type": "markdown",
      "metadata": {
        "id": "zOwrRsB7wEeM"
      },
      "source": [
        "We will be working with a recidivism scores dataset over a two-year period (2013-2014) in the US. Each record represents a defendant's personal details, priors count, recid score, etc.\n",
        "\n",
        "The features describing each defendant include demographics, gender, age, race, juvenile felony count and misdemeanor count, decile score, count of days in jail, charge_degree, is_recid score, is_violent_recid score.\n",
        "\n",
        "We would like to develop a classification model, which predicts whether a defendants is likely to recid or not this can be used to determine their decile score. The prediction will determine the defendants risk of recidivism.\n",
        "\n",
        "**Decision point: Task definition**\n",
        "\n",
        "* A high decile score can be viewed as a proxy that the defendant will reoffend within 2 years of release.\n",
        "\n",
        "* TODO Because of the class imbalance, we will be measuring our performance via **balanced accuracy**. Another key performance consideration is how many patients are recommended for care, metric we refer to as **selection rate**.\n",
        "\n"
      ]
    },
    {
      "cell_type": "markdown",
      "metadata": {
        "id": "2BE26iXWwUqr"
      },
      "source": [
        "## Fairness considerations"
      ]
    },
    {
      "cell_type": "markdown",
      "metadata": {
        "id": "eZUcQVZYyRvz"
      },
      "source": [
        "* _Which groups are most likely to be disproportionately negatively affected?_ Previous work suggests that groups with different race and ethnicity can be differently affected.\n",
        "\n",
        "* _What are the harms?_ The key harms here are allocation harms. In particular, false positives, i.e., do not keep in jail someone who is unlikely to reoffend.\n",
        "\n",
        "* _How should we measure those harms?_\n"
      ]
    },
    {
      "cell_type": "markdown",
      "metadata": {
        "id": "2kD6G-yF1Tcf"
      },
      "source": [
        "In the remainder of the tutorial we will:\n",
        "* First examine the dataset and our choice of label with an eye towards a variety of fairness issues.\n",
        "* Then train a logistic regression model and assess its performance as well as fairness.\n",
        "* Finally, look at two unfairness mitigation strategies."
      ]
    },
    {
      "cell_type": "markdown",
      "metadata": {
        "id": "FkTmOAh8Bp1D"
      },
      "source": [
        "\n",
        "## Fairness-related harms\n",
        "\n",
        "* How can we determine which type of harm is relevant in a particular scenario?\n",
        "* What are ways to find out which (groups of) individuals are most likely to be disproportionately negatively affected?\n"
      ]
    },
    {
      "cell_type": "markdown",
      "metadata": {
        "id": "R7tpRumX_4Nh"
      },
      "source": [
        "# Task definition and dataset characteristics"
      ]
    },
    {
      "cell_type": "markdown",
      "metadata": {
        "id": "3iJGhfCgPiy-"
      },
      "source": [
        "Two critical decisions when desiging an AI system are\n",
        "1. how we define the machine learning task\n",
        "2. what dataset we use to train our models\n",
        "\n",
        "These choices are often intertwined, because the dataset is often a convenience dataset, based on availability, which leads to a specific choice of label and performance metric (that's also the case in our scenario).\n",
        "\n",
        "In this part we load the dataset, and then we examine it for a variety of fairness issues:\n",
        "1. sample sizes of different demographic groups, and in particular different racial groups\n",
        "2. appropriateness of our choice of label (two_year_recid)\n",
        "3. representativeness/informativeness of different features for different groups\n",
        "\n",
        "Besides dataset characteristics, one additional aspect of dataset fairness is whether the data was collected in a manner that respects the autonomy of individuals in the dataset.\n",
        "\n",
        "The dataset characteristics can be systematically documented through the **datasheets** practice. By documenting our understanding of the dataset, we communicate any concerns we have about the data and highlight downstream issues that may arise during the model training, evaluation and deployment.\n",
        "\n"
      ]
    },
    {
      "cell_type": "markdown",
      "metadata": {
        "id": "3-ABnntZT8Fn"
      },
      "source": [
        "## Load the dataset\n"
      ]
    },
    {
      "cell_type": "markdown",
      "metadata": {
        "id": "bvyHqcLIT8Fo"
      },
      "source": [
        "We next load the dataset and review the meaning of its columns.\n"
      ]
    },
    {
      "cell_type": "code",
      "source": [
        "from google.colab import files\n",
        "uploaded = files.upload()\n"
      ],
      "metadata": {
        "id": "ON9px2yi4I_Q",
        "outputId": "8413a591-c6a6-4cfc-b0fd-12d77d499bbb",
        "colab": {
          "base_uri": "https://localhost:8080/",
          "height": 73
        }
      },
      "execution_count": 10,
      "outputs": [
        {
          "output_type": "display_data",
          "data": {
            "text/plain": [
              "<IPython.core.display.HTML object>"
            ],
            "text/html": [
              "\n",
              "     <input type=\"file\" id=\"files-a4eecd54-be55-452b-97ae-965d3bcd8784\" name=\"files[]\" multiple disabled\n",
              "        style=\"border:none\" />\n",
              "     <output id=\"result-a4eecd54-be55-452b-97ae-965d3bcd8784\">\n",
              "      Upload widget is only available when the cell has been executed in the\n",
              "      current browser session. Please rerun this cell to enable.\n",
              "      </output>\n",
              "      <script>// Copyright 2017 Google LLC\n",
              "//\n",
              "// Licensed under the Apache License, Version 2.0 (the \"License\");\n",
              "// you may not use this file except in compliance with the License.\n",
              "// You may obtain a copy of the License at\n",
              "//\n",
              "//      http://www.apache.org/licenses/LICENSE-2.0\n",
              "//\n",
              "// Unless required by applicable law or agreed to in writing, software\n",
              "// distributed under the License is distributed on an \"AS IS\" BASIS,\n",
              "// WITHOUT WARRANTIES OR CONDITIONS OF ANY KIND, either express or implied.\n",
              "// See the License for the specific language governing permissions and\n",
              "// limitations under the License.\n",
              "\n",
              "/**\n",
              " * @fileoverview Helpers for google.colab Python module.\n",
              " */\n",
              "(function(scope) {\n",
              "function span(text, styleAttributes = {}) {\n",
              "  const element = document.createElement('span');\n",
              "  element.textContent = text;\n",
              "  for (const key of Object.keys(styleAttributes)) {\n",
              "    element.style[key] = styleAttributes[key];\n",
              "  }\n",
              "  return element;\n",
              "}\n",
              "\n",
              "// Max number of bytes which will be uploaded at a time.\n",
              "const MAX_PAYLOAD_SIZE = 100 * 1024;\n",
              "\n",
              "function _uploadFiles(inputId, outputId) {\n",
              "  const steps = uploadFilesStep(inputId, outputId);\n",
              "  const outputElement = document.getElementById(outputId);\n",
              "  // Cache steps on the outputElement to make it available for the next call\n",
              "  // to uploadFilesContinue from Python.\n",
              "  outputElement.steps = steps;\n",
              "\n",
              "  return _uploadFilesContinue(outputId);\n",
              "}\n",
              "\n",
              "// This is roughly an async generator (not supported in the browser yet),\n",
              "// where there are multiple asynchronous steps and the Python side is going\n",
              "// to poll for completion of each step.\n",
              "// This uses a Promise to block the python side on completion of each step,\n",
              "// then passes the result of the previous step as the input to the next step.\n",
              "function _uploadFilesContinue(outputId) {\n",
              "  const outputElement = document.getElementById(outputId);\n",
              "  const steps = outputElement.steps;\n",
              "\n",
              "  const next = steps.next(outputElement.lastPromiseValue);\n",
              "  return Promise.resolve(next.value.promise).then((value) => {\n",
              "    // Cache the last promise value to make it available to the next\n",
              "    // step of the generator.\n",
              "    outputElement.lastPromiseValue = value;\n",
              "    return next.value.response;\n",
              "  });\n",
              "}\n",
              "\n",
              "/**\n",
              " * Generator function which is called between each async step of the upload\n",
              " * process.\n",
              " * @param {string} inputId Element ID of the input file picker element.\n",
              " * @param {string} outputId Element ID of the output display.\n",
              " * @return {!Iterable<!Object>} Iterable of next steps.\n",
              " */\n",
              "function* uploadFilesStep(inputId, outputId) {\n",
              "  const inputElement = document.getElementById(inputId);\n",
              "  inputElement.disabled = false;\n",
              "\n",
              "  const outputElement = document.getElementById(outputId);\n",
              "  outputElement.innerHTML = '';\n",
              "\n",
              "  const pickedPromise = new Promise((resolve) => {\n",
              "    inputElement.addEventListener('change', (e) => {\n",
              "      resolve(e.target.files);\n",
              "    });\n",
              "  });\n",
              "\n",
              "  const cancel = document.createElement('button');\n",
              "  inputElement.parentElement.appendChild(cancel);\n",
              "  cancel.textContent = 'Cancel upload';\n",
              "  const cancelPromise = new Promise((resolve) => {\n",
              "    cancel.onclick = () => {\n",
              "      resolve(null);\n",
              "    };\n",
              "  });\n",
              "\n",
              "  // Wait for the user to pick the files.\n",
              "  const files = yield {\n",
              "    promise: Promise.race([pickedPromise, cancelPromise]),\n",
              "    response: {\n",
              "      action: 'starting',\n",
              "    }\n",
              "  };\n",
              "\n",
              "  cancel.remove();\n",
              "\n",
              "  // Disable the input element since further picks are not allowed.\n",
              "  inputElement.disabled = true;\n",
              "\n",
              "  if (!files) {\n",
              "    return {\n",
              "      response: {\n",
              "        action: 'complete',\n",
              "      }\n",
              "    };\n",
              "  }\n",
              "\n",
              "  for (const file of files) {\n",
              "    const li = document.createElement('li');\n",
              "    li.append(span(file.name, {fontWeight: 'bold'}));\n",
              "    li.append(span(\n",
              "        `(${file.type || 'n/a'}) - ${file.size} bytes, ` +\n",
              "        `last modified: ${\n",
              "            file.lastModifiedDate ? file.lastModifiedDate.toLocaleDateString() :\n",
              "                                    'n/a'} - `));\n",
              "    const percent = span('0% done');\n",
              "    li.appendChild(percent);\n",
              "\n",
              "    outputElement.appendChild(li);\n",
              "\n",
              "    const fileDataPromise = new Promise((resolve) => {\n",
              "      const reader = new FileReader();\n",
              "      reader.onload = (e) => {\n",
              "        resolve(e.target.result);\n",
              "      };\n",
              "      reader.readAsArrayBuffer(file);\n",
              "    });\n",
              "    // Wait for the data to be ready.\n",
              "    let fileData = yield {\n",
              "      promise: fileDataPromise,\n",
              "      response: {\n",
              "        action: 'continue',\n",
              "      }\n",
              "    };\n",
              "\n",
              "    // Use a chunked sending to avoid message size limits. See b/62115660.\n",
              "    let position = 0;\n",
              "    do {\n",
              "      const length = Math.min(fileData.byteLength - position, MAX_PAYLOAD_SIZE);\n",
              "      const chunk = new Uint8Array(fileData, position, length);\n",
              "      position += length;\n",
              "\n",
              "      const base64 = btoa(String.fromCharCode.apply(null, chunk));\n",
              "      yield {\n",
              "        response: {\n",
              "          action: 'append',\n",
              "          file: file.name,\n",
              "          data: base64,\n",
              "        },\n",
              "      };\n",
              "\n",
              "      let percentDone = fileData.byteLength === 0 ?\n",
              "          100 :\n",
              "          Math.round((position / fileData.byteLength) * 100);\n",
              "      percent.textContent = `${percentDone}% done`;\n",
              "\n",
              "    } while (position < fileData.byteLength);\n",
              "  }\n",
              "\n",
              "  // All done.\n",
              "  yield {\n",
              "    response: {\n",
              "      action: 'complete',\n",
              "    }\n",
              "  };\n",
              "}\n",
              "\n",
              "scope.google = scope.google || {};\n",
              "scope.google.colab = scope.google.colab || {};\n",
              "scope.google.colab._files = {\n",
              "  _uploadFiles,\n",
              "  _uploadFilesContinue,\n",
              "};\n",
              "})(self);\n",
              "</script> "
            ]
          },
          "metadata": {}
        },
        {
          "output_type": "stream",
          "name": "stdout",
          "text": [
            "Saving compas-scores-two-years-clean.csv to compas-scores-two-years-clean.csv\n"
          ]
        }
      ]
    },
    {
      "cell_type": "code",
      "execution_count": 52,
      "metadata": {
        "id": "gkfwniFQT8Fp"
      },
      "outputs": [],
      "source": [
        "# df = pd.read_csv(\"https://raw.githubusercontent.com/propublica/compas-analysis/master/compas-scores-two-years.csv\")\n",
        "\n",
        "df = pd.read_csv('compas-scores-two-years-clean.csv')"
      ]
    },
    {
      "cell_type": "code",
      "execution_count": 53,
      "metadata": {
        "id": "mIFN96kiT8Fq",
        "outputId": "f8ef50c6-a089-44c6-ef58-efacfc23b501",
        "colab": {
          "base_uri": "https://localhost:8080/",
          "height": 325
        }
      },
      "outputs": [
        {
          "output_type": "execute_result",
          "data": {
            "text/plain": [
              "    sex  age          age_cat              race  juv_fel_count  \\\n",
              "0  Male   69  Greater than 45             Other              0   \n",
              "1  Male   34          25 - 45  African-American              0   \n",
              "2  Male   24     Less than 25  African-American              0   \n",
              "3  Male   23     Less than 25  African-American              0   \n",
              "4  Male   43          25 - 45             Other              0   \n",
              "\n",
              "   g_decile_score  juv_misd_count  juv_other_count  c_jail_days  \\\n",
              "0               1               0                0            1   \n",
              "1               3               0                0           10   \n",
              "2               4               0                1            1   \n",
              "3               8               1                0            0   \n",
              "4               1               0                0            0   \n",
              "\n",
              "   c_days_from_compas  ... is_violent_recid  decile_score  score_text  \\\n",
              "0               1.000  ...                0             1         Low   \n",
              "1               1.000  ...                1             3         Low   \n",
              "2               1.000  ...                0             4         Low   \n",
              "3               1.000  ...                0             8        High   \n",
              "4              76.000  ...                0             1         Low   \n",
              "\n",
              "   v_decile_score v_score_text  priors_count start   end  event  \\\n",
              "0               1          Low             0     0   327      0   \n",
              "1               1          Low             0     9   159      1   \n",
              "2               3          Low             4     0    63      0   \n",
              "3               6       Medium             1     0  1174      0   \n",
              "4               1          Low             2     0  1102      0   \n",
              "\n",
              "   two_year_recid  \n",
              "0               0  \n",
              "1               1  \n",
              "2               1  \n",
              "3               0  \n",
              "4               0  \n",
              "\n",
              "[5 rows x 22 columns]"
            ],
            "text/html": [
              "\n",
              "  <div id=\"df-abae8d54-256b-4159-9b94-894918a0b632\" class=\"colab-df-container\">\n",
              "    <div>\n",
              "<style scoped>\n",
              "    .dataframe tbody tr th:only-of-type {\n",
              "        vertical-align: middle;\n",
              "    }\n",
              "\n",
              "    .dataframe tbody tr th {\n",
              "        vertical-align: top;\n",
              "    }\n",
              "\n",
              "    .dataframe thead th {\n",
              "        text-align: right;\n",
              "    }\n",
              "</style>\n",
              "<table border=\"1\" class=\"dataframe\">\n",
              "  <thead>\n",
              "    <tr style=\"text-align: right;\">\n",
              "      <th></th>\n",
              "      <th>sex</th>\n",
              "      <th>age</th>\n",
              "      <th>age_cat</th>\n",
              "      <th>race</th>\n",
              "      <th>juv_fel_count</th>\n",
              "      <th>g_decile_score</th>\n",
              "      <th>juv_misd_count</th>\n",
              "      <th>juv_other_count</th>\n",
              "      <th>c_jail_days</th>\n",
              "      <th>c_days_from_compas</th>\n",
              "      <th>...</th>\n",
              "      <th>is_violent_recid</th>\n",
              "      <th>decile_score</th>\n",
              "      <th>score_text</th>\n",
              "      <th>v_decile_score</th>\n",
              "      <th>v_score_text</th>\n",
              "      <th>priors_count</th>\n",
              "      <th>start</th>\n",
              "      <th>end</th>\n",
              "      <th>event</th>\n",
              "      <th>two_year_recid</th>\n",
              "    </tr>\n",
              "  </thead>\n",
              "  <tbody>\n",
              "    <tr>\n",
              "      <th>0</th>\n",
              "      <td>Male</td>\n",
              "      <td>69</td>\n",
              "      <td>Greater than 45</td>\n",
              "      <td>Other</td>\n",
              "      <td>0</td>\n",
              "      <td>1</td>\n",
              "      <td>0</td>\n",
              "      <td>0</td>\n",
              "      <td>1</td>\n",
              "      <td>1.000</td>\n",
              "      <td>...</td>\n",
              "      <td>0</td>\n",
              "      <td>1</td>\n",
              "      <td>Low</td>\n",
              "      <td>1</td>\n",
              "      <td>Low</td>\n",
              "      <td>0</td>\n",
              "      <td>0</td>\n",
              "      <td>327</td>\n",
              "      <td>0</td>\n",
              "      <td>0</td>\n",
              "    </tr>\n",
              "    <tr>\n",
              "      <th>1</th>\n",
              "      <td>Male</td>\n",
              "      <td>34</td>\n",
              "      <td>25 - 45</td>\n",
              "      <td>African-American</td>\n",
              "      <td>0</td>\n",
              "      <td>3</td>\n",
              "      <td>0</td>\n",
              "      <td>0</td>\n",
              "      <td>10</td>\n",
              "      <td>1.000</td>\n",
              "      <td>...</td>\n",
              "      <td>1</td>\n",
              "      <td>3</td>\n",
              "      <td>Low</td>\n",
              "      <td>1</td>\n",
              "      <td>Low</td>\n",
              "      <td>0</td>\n",
              "      <td>9</td>\n",
              "      <td>159</td>\n",
              "      <td>1</td>\n",
              "      <td>1</td>\n",
              "    </tr>\n",
              "    <tr>\n",
              "      <th>2</th>\n",
              "      <td>Male</td>\n",
              "      <td>24</td>\n",
              "      <td>Less than 25</td>\n",
              "      <td>African-American</td>\n",
              "      <td>0</td>\n",
              "      <td>4</td>\n",
              "      <td>0</td>\n",
              "      <td>1</td>\n",
              "      <td>1</td>\n",
              "      <td>1.000</td>\n",
              "      <td>...</td>\n",
              "      <td>0</td>\n",
              "      <td>4</td>\n",
              "      <td>Low</td>\n",
              "      <td>3</td>\n",
              "      <td>Low</td>\n",
              "      <td>4</td>\n",
              "      <td>0</td>\n",
              "      <td>63</td>\n",
              "      <td>0</td>\n",
              "      <td>1</td>\n",
              "    </tr>\n",
              "    <tr>\n",
              "      <th>3</th>\n",
              "      <td>Male</td>\n",
              "      <td>23</td>\n",
              "      <td>Less than 25</td>\n",
              "      <td>African-American</td>\n",
              "      <td>0</td>\n",
              "      <td>8</td>\n",
              "      <td>1</td>\n",
              "      <td>0</td>\n",
              "      <td>0</td>\n",
              "      <td>1.000</td>\n",
              "      <td>...</td>\n",
              "      <td>0</td>\n",
              "      <td>8</td>\n",
              "      <td>High</td>\n",
              "      <td>6</td>\n",
              "      <td>Medium</td>\n",
              "      <td>1</td>\n",
              "      <td>0</td>\n",
              "      <td>1174</td>\n",
              "      <td>0</td>\n",
              "      <td>0</td>\n",
              "    </tr>\n",
              "    <tr>\n",
              "      <th>4</th>\n",
              "      <td>Male</td>\n",
              "      <td>43</td>\n",
              "      <td>25 - 45</td>\n",
              "      <td>Other</td>\n",
              "      <td>0</td>\n",
              "      <td>1</td>\n",
              "      <td>0</td>\n",
              "      <td>0</td>\n",
              "      <td>0</td>\n",
              "      <td>76.000</td>\n",
              "      <td>...</td>\n",
              "      <td>0</td>\n",
              "      <td>1</td>\n",
              "      <td>Low</td>\n",
              "      <td>1</td>\n",
              "      <td>Low</td>\n",
              "      <td>2</td>\n",
              "      <td>0</td>\n",
              "      <td>1102</td>\n",
              "      <td>0</td>\n",
              "      <td>0</td>\n",
              "    </tr>\n",
              "  </tbody>\n",
              "</table>\n",
              "<p>5 rows × 22 columns</p>\n",
              "</div>\n",
              "    <div class=\"colab-df-buttons\">\n",
              "\n",
              "  <div class=\"colab-df-container\">\n",
              "    <button class=\"colab-df-convert\" onclick=\"convertToInteractive('df-abae8d54-256b-4159-9b94-894918a0b632')\"\n",
              "            title=\"Convert this dataframe to an interactive table.\"\n",
              "            style=\"display:none;\">\n",
              "\n",
              "  <svg xmlns=\"http://www.w3.org/2000/svg\" height=\"24px\" viewBox=\"0 -960 960 960\">\n",
              "    <path d=\"M120-120v-720h720v720H120Zm60-500h600v-160H180v160Zm220 220h160v-160H400v160Zm0 220h160v-160H400v160ZM180-400h160v-160H180v160Zm440 0h160v-160H620v160ZM180-180h160v-160H180v160Zm440 0h160v-160H620v160Z\"/>\n",
              "  </svg>\n",
              "    </button>\n",
              "\n",
              "  <style>\n",
              "    .colab-df-container {\n",
              "      display:flex;\n",
              "      gap: 12px;\n",
              "    }\n",
              "\n",
              "    .colab-df-convert {\n",
              "      background-color: #E8F0FE;\n",
              "      border: none;\n",
              "      border-radius: 50%;\n",
              "      cursor: pointer;\n",
              "      display: none;\n",
              "      fill: #1967D2;\n",
              "      height: 32px;\n",
              "      padding: 0 0 0 0;\n",
              "      width: 32px;\n",
              "    }\n",
              "\n",
              "    .colab-df-convert:hover {\n",
              "      background-color: #E2EBFA;\n",
              "      box-shadow: 0px 1px 2px rgba(60, 64, 67, 0.3), 0px 1px 3px 1px rgba(60, 64, 67, 0.15);\n",
              "      fill: #174EA6;\n",
              "    }\n",
              "\n",
              "    .colab-df-buttons div {\n",
              "      margin-bottom: 4px;\n",
              "    }\n",
              "\n",
              "    [theme=dark] .colab-df-convert {\n",
              "      background-color: #3B4455;\n",
              "      fill: #D2E3FC;\n",
              "    }\n",
              "\n",
              "    [theme=dark] .colab-df-convert:hover {\n",
              "      background-color: #434B5C;\n",
              "      box-shadow: 0px 1px 3px 1px rgba(0, 0, 0, 0.15);\n",
              "      filter: drop-shadow(0px 1px 2px rgba(0, 0, 0, 0.3));\n",
              "      fill: #FFFFFF;\n",
              "    }\n",
              "  </style>\n",
              "\n",
              "    <script>\n",
              "      const buttonEl =\n",
              "        document.querySelector('#df-abae8d54-256b-4159-9b94-894918a0b632 button.colab-df-convert');\n",
              "      buttonEl.style.display =\n",
              "        google.colab.kernel.accessAllowed ? 'block' : 'none';\n",
              "\n",
              "      async function convertToInteractive(key) {\n",
              "        const element = document.querySelector('#df-abae8d54-256b-4159-9b94-894918a0b632');\n",
              "        const dataTable =\n",
              "          await google.colab.kernel.invokeFunction('convertToInteractive',\n",
              "                                                    [key], {});\n",
              "        if (!dataTable) return;\n",
              "\n",
              "        const docLinkHtml = 'Like what you see? Visit the ' +\n",
              "          '<a target=\"_blank\" href=https://colab.research.google.com/notebooks/data_table.ipynb>data table notebook</a>'\n",
              "          + ' to learn more about interactive tables.';\n",
              "        element.innerHTML = '';\n",
              "        dataTable['output_type'] = 'display_data';\n",
              "        await google.colab.output.renderOutput(dataTable, element);\n",
              "        const docLink = document.createElement('div');\n",
              "        docLink.innerHTML = docLinkHtml;\n",
              "        element.appendChild(docLink);\n",
              "      }\n",
              "    </script>\n",
              "  </div>\n",
              "\n",
              "\n",
              "<div id=\"df-97f206ec-3d03-4725-a19a-ecad4bf8a9b6\">\n",
              "  <button class=\"colab-df-quickchart\" onclick=\"quickchart('df-97f206ec-3d03-4725-a19a-ecad4bf8a9b6')\"\n",
              "            title=\"Suggest charts\"\n",
              "            style=\"display:none;\">\n",
              "\n",
              "<svg xmlns=\"http://www.w3.org/2000/svg\" height=\"24px\"viewBox=\"0 0 24 24\"\n",
              "     width=\"24px\">\n",
              "    <g>\n",
              "        <path d=\"M19 3H5c-1.1 0-2 .9-2 2v14c0 1.1.9 2 2 2h14c1.1 0 2-.9 2-2V5c0-1.1-.9-2-2-2zM9 17H7v-7h2v7zm4 0h-2V7h2v10zm4 0h-2v-4h2v4z\"/>\n",
              "    </g>\n",
              "</svg>\n",
              "  </button>\n",
              "\n",
              "<style>\n",
              "  .colab-df-quickchart {\n",
              "      --bg-color: #E8F0FE;\n",
              "      --fill-color: #1967D2;\n",
              "      --hover-bg-color: #E2EBFA;\n",
              "      --hover-fill-color: #174EA6;\n",
              "      --disabled-fill-color: #AAA;\n",
              "      --disabled-bg-color: #DDD;\n",
              "  }\n",
              "\n",
              "  [theme=dark] .colab-df-quickchart {\n",
              "      --bg-color: #3B4455;\n",
              "      --fill-color: #D2E3FC;\n",
              "      --hover-bg-color: #434B5C;\n",
              "      --hover-fill-color: #FFFFFF;\n",
              "      --disabled-bg-color: #3B4455;\n",
              "      --disabled-fill-color: #666;\n",
              "  }\n",
              "\n",
              "  .colab-df-quickchart {\n",
              "    background-color: var(--bg-color);\n",
              "    border: none;\n",
              "    border-radius: 50%;\n",
              "    cursor: pointer;\n",
              "    display: none;\n",
              "    fill: var(--fill-color);\n",
              "    height: 32px;\n",
              "    padding: 0;\n",
              "    width: 32px;\n",
              "  }\n",
              "\n",
              "  .colab-df-quickchart:hover {\n",
              "    background-color: var(--hover-bg-color);\n",
              "    box-shadow: 0 1px 2px rgba(60, 64, 67, 0.3), 0 1px 3px 1px rgba(60, 64, 67, 0.15);\n",
              "    fill: var(--button-hover-fill-color);\n",
              "  }\n",
              "\n",
              "  .colab-df-quickchart-complete:disabled,\n",
              "  .colab-df-quickchart-complete:disabled:hover {\n",
              "    background-color: var(--disabled-bg-color);\n",
              "    fill: var(--disabled-fill-color);\n",
              "    box-shadow: none;\n",
              "  }\n",
              "\n",
              "  .colab-df-spinner {\n",
              "    border: 2px solid var(--fill-color);\n",
              "    border-color: transparent;\n",
              "    border-bottom-color: var(--fill-color);\n",
              "    animation:\n",
              "      spin 1s steps(1) infinite;\n",
              "  }\n",
              "\n",
              "  @keyframes spin {\n",
              "    0% {\n",
              "      border-color: transparent;\n",
              "      border-bottom-color: var(--fill-color);\n",
              "      border-left-color: var(--fill-color);\n",
              "    }\n",
              "    20% {\n",
              "      border-color: transparent;\n",
              "      border-left-color: var(--fill-color);\n",
              "      border-top-color: var(--fill-color);\n",
              "    }\n",
              "    30% {\n",
              "      border-color: transparent;\n",
              "      border-left-color: var(--fill-color);\n",
              "      border-top-color: var(--fill-color);\n",
              "      border-right-color: var(--fill-color);\n",
              "    }\n",
              "    40% {\n",
              "      border-color: transparent;\n",
              "      border-right-color: var(--fill-color);\n",
              "      border-top-color: var(--fill-color);\n",
              "    }\n",
              "    60% {\n",
              "      border-color: transparent;\n",
              "      border-right-color: var(--fill-color);\n",
              "    }\n",
              "    80% {\n",
              "      border-color: transparent;\n",
              "      border-right-color: var(--fill-color);\n",
              "      border-bottom-color: var(--fill-color);\n",
              "    }\n",
              "    90% {\n",
              "      border-color: transparent;\n",
              "      border-bottom-color: var(--fill-color);\n",
              "    }\n",
              "  }\n",
              "</style>\n",
              "\n",
              "  <script>\n",
              "    async function quickchart(key) {\n",
              "      const quickchartButtonEl =\n",
              "        document.querySelector('#' + key + ' button');\n",
              "      quickchartButtonEl.disabled = true;  // To prevent multiple clicks.\n",
              "      quickchartButtonEl.classList.add('colab-df-spinner');\n",
              "      try {\n",
              "        const charts = await google.colab.kernel.invokeFunction(\n",
              "            'suggestCharts', [key], {});\n",
              "      } catch (error) {\n",
              "        console.error('Error during call to suggestCharts:', error);\n",
              "      }\n",
              "      quickchartButtonEl.classList.remove('colab-df-spinner');\n",
              "      quickchartButtonEl.classList.add('colab-df-quickchart-complete');\n",
              "    }\n",
              "    (() => {\n",
              "      let quickchartButtonEl =\n",
              "        document.querySelector('#df-97f206ec-3d03-4725-a19a-ecad4bf8a9b6 button');\n",
              "      quickchartButtonEl.style.display =\n",
              "        google.colab.kernel.accessAllowed ? 'block' : 'none';\n",
              "    })();\n",
              "  </script>\n",
              "</div>\n",
              "\n",
              "    </div>\n",
              "  </div>\n"
            ],
            "application/vnd.google.colaboratory.intrinsic+json": {
              "type": "dataframe",
              "variable_name": "df"
            }
          },
          "metadata": {},
          "execution_count": 53
        }
      ],
      "source": [
        "df.head()"
      ]
    },
    {
      "cell_type": "code",
      "source": [
        "print(df.shape)"
      ],
      "metadata": {
        "colab": {
          "base_uri": "https://localhost:8080/"
        },
        "id": "e-C5oyq0DUM3",
        "outputId": "cdfea774-6fe3-499e-d3f2-c389b0ac90e5"
      },
      "execution_count": 54,
      "outputs": [
        {
          "output_type": "stream",
          "name": "stdout",
          "text": [
            "(7214, 22)\n"
          ]
        }
      ]
    },
    {
      "cell_type": "code",
      "source": [
        "# TODO: Include justification of dropping columns\n",
        "# df = df.drop(['id', 'type_of_assessment', 'v_type_of_assessment', 'c_jail_in', 'c_jail_out', 'g_priors_count', 'days_b_screening_arrest', 'c_charge_desc'], axis=1)"
      ],
      "metadata": {
        "id": "L60IoDNh79Zy"
      },
      "execution_count": 14,
      "outputs": []
    },
    {
      "cell_type": "code",
      "source": [
        "print(df.columns)"
      ],
      "metadata": {
        "colab": {
          "base_uri": "https://localhost:8080/"
        },
        "id": "kbRTIifwDlpO",
        "outputId": "ebf313d1-3378-486d-da9e-068111a02db1"
      },
      "execution_count": 55,
      "outputs": [
        {
          "output_type": "stream",
          "name": "stdout",
          "text": [
            "Index(['sex', 'age', 'age_cat', 'race', 'juv_fel_count', 'g_decile_score',\n",
            "       'juv_misd_count', 'juv_other_count', 'c_jail_days',\n",
            "       'c_days_from_compas', 'c_charge_degree', 'is_recid', 'is_violent_recid',\n",
            "       'decile_score', 'score_text', 'v_decile_score', 'v_score_text',\n",
            "       'priors_count', 'start', 'end', 'event', 'two_year_recid'],\n",
            "      dtype='object')\n"
          ]
        }
      ]
    },
    {
      "cell_type": "code",
      "source": [
        "print(df.shape) # c_jail_days = c_jail_out - c_jail_in"
      ],
      "metadata": {
        "id": "dvl16ADqE1Ju",
        "outputId": "a336f061-9a70-46c2-8e37-da89d6b3146d",
        "colab": {
          "base_uri": "https://localhost:8080/"
        }
      },
      "execution_count": 56,
      "outputs": [
        {
          "output_type": "stream",
          "name": "stdout",
          "text": [
            "(7214, 22)\n"
          ]
        }
      ]
    },
    {
      "cell_type": "code",
      "source": [
        "df.head()"
      ],
      "metadata": {
        "id": "tSwVSJo2GvH4",
        "outputId": "8a7f1c1b-1627-4094-cb0f-6d8ca35d48df",
        "colab": {
          "base_uri": "https://localhost:8080/",
          "height": 325
        }
      },
      "execution_count": 57,
      "outputs": [
        {
          "output_type": "execute_result",
          "data": {
            "text/plain": [
              "    sex  age          age_cat              race  juv_fel_count  \\\n",
              "0  Male   69  Greater than 45             Other              0   \n",
              "1  Male   34          25 - 45  African-American              0   \n",
              "2  Male   24     Less than 25  African-American              0   \n",
              "3  Male   23     Less than 25  African-American              0   \n",
              "4  Male   43          25 - 45             Other              0   \n",
              "\n",
              "   g_decile_score  juv_misd_count  juv_other_count  c_jail_days  \\\n",
              "0               1               0                0            1   \n",
              "1               3               0                0           10   \n",
              "2               4               0                1            1   \n",
              "3               8               1                0            0   \n",
              "4               1               0                0            0   \n",
              "\n",
              "   c_days_from_compas  ... is_violent_recid  decile_score  score_text  \\\n",
              "0               1.000  ...                0             1         Low   \n",
              "1               1.000  ...                1             3         Low   \n",
              "2               1.000  ...                0             4         Low   \n",
              "3               1.000  ...                0             8        High   \n",
              "4              76.000  ...                0             1         Low   \n",
              "\n",
              "   v_decile_score v_score_text  priors_count start   end  event  \\\n",
              "0               1          Low             0     0   327      0   \n",
              "1               1          Low             0     9   159      1   \n",
              "2               3          Low             4     0    63      0   \n",
              "3               6       Medium             1     0  1174      0   \n",
              "4               1          Low             2     0  1102      0   \n",
              "\n",
              "   two_year_recid  \n",
              "0               0  \n",
              "1               1  \n",
              "2               1  \n",
              "3               0  \n",
              "4               0  \n",
              "\n",
              "[5 rows x 22 columns]"
            ],
            "text/html": [
              "\n",
              "  <div id=\"df-d4aa5912-9728-493d-b785-5cda19e30eac\" class=\"colab-df-container\">\n",
              "    <div>\n",
              "<style scoped>\n",
              "    .dataframe tbody tr th:only-of-type {\n",
              "        vertical-align: middle;\n",
              "    }\n",
              "\n",
              "    .dataframe tbody tr th {\n",
              "        vertical-align: top;\n",
              "    }\n",
              "\n",
              "    .dataframe thead th {\n",
              "        text-align: right;\n",
              "    }\n",
              "</style>\n",
              "<table border=\"1\" class=\"dataframe\">\n",
              "  <thead>\n",
              "    <tr style=\"text-align: right;\">\n",
              "      <th></th>\n",
              "      <th>sex</th>\n",
              "      <th>age</th>\n",
              "      <th>age_cat</th>\n",
              "      <th>race</th>\n",
              "      <th>juv_fel_count</th>\n",
              "      <th>g_decile_score</th>\n",
              "      <th>juv_misd_count</th>\n",
              "      <th>juv_other_count</th>\n",
              "      <th>c_jail_days</th>\n",
              "      <th>c_days_from_compas</th>\n",
              "      <th>...</th>\n",
              "      <th>is_violent_recid</th>\n",
              "      <th>decile_score</th>\n",
              "      <th>score_text</th>\n",
              "      <th>v_decile_score</th>\n",
              "      <th>v_score_text</th>\n",
              "      <th>priors_count</th>\n",
              "      <th>start</th>\n",
              "      <th>end</th>\n",
              "      <th>event</th>\n",
              "      <th>two_year_recid</th>\n",
              "    </tr>\n",
              "  </thead>\n",
              "  <tbody>\n",
              "    <tr>\n",
              "      <th>0</th>\n",
              "      <td>Male</td>\n",
              "      <td>69</td>\n",
              "      <td>Greater than 45</td>\n",
              "      <td>Other</td>\n",
              "      <td>0</td>\n",
              "      <td>1</td>\n",
              "      <td>0</td>\n",
              "      <td>0</td>\n",
              "      <td>1</td>\n",
              "      <td>1.000</td>\n",
              "      <td>...</td>\n",
              "      <td>0</td>\n",
              "      <td>1</td>\n",
              "      <td>Low</td>\n",
              "      <td>1</td>\n",
              "      <td>Low</td>\n",
              "      <td>0</td>\n",
              "      <td>0</td>\n",
              "      <td>327</td>\n",
              "      <td>0</td>\n",
              "      <td>0</td>\n",
              "    </tr>\n",
              "    <tr>\n",
              "      <th>1</th>\n",
              "      <td>Male</td>\n",
              "      <td>34</td>\n",
              "      <td>25 - 45</td>\n",
              "      <td>African-American</td>\n",
              "      <td>0</td>\n",
              "      <td>3</td>\n",
              "      <td>0</td>\n",
              "      <td>0</td>\n",
              "      <td>10</td>\n",
              "      <td>1.000</td>\n",
              "      <td>...</td>\n",
              "      <td>1</td>\n",
              "      <td>3</td>\n",
              "      <td>Low</td>\n",
              "      <td>1</td>\n",
              "      <td>Low</td>\n",
              "      <td>0</td>\n",
              "      <td>9</td>\n",
              "      <td>159</td>\n",
              "      <td>1</td>\n",
              "      <td>1</td>\n",
              "    </tr>\n",
              "    <tr>\n",
              "      <th>2</th>\n",
              "      <td>Male</td>\n",
              "      <td>24</td>\n",
              "      <td>Less than 25</td>\n",
              "      <td>African-American</td>\n",
              "      <td>0</td>\n",
              "      <td>4</td>\n",
              "      <td>0</td>\n",
              "      <td>1</td>\n",
              "      <td>1</td>\n",
              "      <td>1.000</td>\n",
              "      <td>...</td>\n",
              "      <td>0</td>\n",
              "      <td>4</td>\n",
              "      <td>Low</td>\n",
              "      <td>3</td>\n",
              "      <td>Low</td>\n",
              "      <td>4</td>\n",
              "      <td>0</td>\n",
              "      <td>63</td>\n",
              "      <td>0</td>\n",
              "      <td>1</td>\n",
              "    </tr>\n",
              "    <tr>\n",
              "      <th>3</th>\n",
              "      <td>Male</td>\n",
              "      <td>23</td>\n",
              "      <td>Less than 25</td>\n",
              "      <td>African-American</td>\n",
              "      <td>0</td>\n",
              "      <td>8</td>\n",
              "      <td>1</td>\n",
              "      <td>0</td>\n",
              "      <td>0</td>\n",
              "      <td>1.000</td>\n",
              "      <td>...</td>\n",
              "      <td>0</td>\n",
              "      <td>8</td>\n",
              "      <td>High</td>\n",
              "      <td>6</td>\n",
              "      <td>Medium</td>\n",
              "      <td>1</td>\n",
              "      <td>0</td>\n",
              "      <td>1174</td>\n",
              "      <td>0</td>\n",
              "      <td>0</td>\n",
              "    </tr>\n",
              "    <tr>\n",
              "      <th>4</th>\n",
              "      <td>Male</td>\n",
              "      <td>43</td>\n",
              "      <td>25 - 45</td>\n",
              "      <td>Other</td>\n",
              "      <td>0</td>\n",
              "      <td>1</td>\n",
              "      <td>0</td>\n",
              "      <td>0</td>\n",
              "      <td>0</td>\n",
              "      <td>76.000</td>\n",
              "      <td>...</td>\n",
              "      <td>0</td>\n",
              "      <td>1</td>\n",
              "      <td>Low</td>\n",
              "      <td>1</td>\n",
              "      <td>Low</td>\n",
              "      <td>2</td>\n",
              "      <td>0</td>\n",
              "      <td>1102</td>\n",
              "      <td>0</td>\n",
              "      <td>0</td>\n",
              "    </tr>\n",
              "  </tbody>\n",
              "</table>\n",
              "<p>5 rows × 22 columns</p>\n",
              "</div>\n",
              "    <div class=\"colab-df-buttons\">\n",
              "\n",
              "  <div class=\"colab-df-container\">\n",
              "    <button class=\"colab-df-convert\" onclick=\"convertToInteractive('df-d4aa5912-9728-493d-b785-5cda19e30eac')\"\n",
              "            title=\"Convert this dataframe to an interactive table.\"\n",
              "            style=\"display:none;\">\n",
              "\n",
              "  <svg xmlns=\"http://www.w3.org/2000/svg\" height=\"24px\" viewBox=\"0 -960 960 960\">\n",
              "    <path d=\"M120-120v-720h720v720H120Zm60-500h600v-160H180v160Zm220 220h160v-160H400v160Zm0 220h160v-160H400v160ZM180-400h160v-160H180v160Zm440 0h160v-160H620v160ZM180-180h160v-160H180v160Zm440 0h160v-160H620v160Z\"/>\n",
              "  </svg>\n",
              "    </button>\n",
              "\n",
              "  <style>\n",
              "    .colab-df-container {\n",
              "      display:flex;\n",
              "      gap: 12px;\n",
              "    }\n",
              "\n",
              "    .colab-df-convert {\n",
              "      background-color: #E8F0FE;\n",
              "      border: none;\n",
              "      border-radius: 50%;\n",
              "      cursor: pointer;\n",
              "      display: none;\n",
              "      fill: #1967D2;\n",
              "      height: 32px;\n",
              "      padding: 0 0 0 0;\n",
              "      width: 32px;\n",
              "    }\n",
              "\n",
              "    .colab-df-convert:hover {\n",
              "      background-color: #E2EBFA;\n",
              "      box-shadow: 0px 1px 2px rgba(60, 64, 67, 0.3), 0px 1px 3px 1px rgba(60, 64, 67, 0.15);\n",
              "      fill: #174EA6;\n",
              "    }\n",
              "\n",
              "    .colab-df-buttons div {\n",
              "      margin-bottom: 4px;\n",
              "    }\n",
              "\n",
              "    [theme=dark] .colab-df-convert {\n",
              "      background-color: #3B4455;\n",
              "      fill: #D2E3FC;\n",
              "    }\n",
              "\n",
              "    [theme=dark] .colab-df-convert:hover {\n",
              "      background-color: #434B5C;\n",
              "      box-shadow: 0px 1px 3px 1px rgba(0, 0, 0, 0.15);\n",
              "      filter: drop-shadow(0px 1px 2px rgba(0, 0, 0, 0.3));\n",
              "      fill: #FFFFFF;\n",
              "    }\n",
              "  </style>\n",
              "\n",
              "    <script>\n",
              "      const buttonEl =\n",
              "        document.querySelector('#df-d4aa5912-9728-493d-b785-5cda19e30eac button.colab-df-convert');\n",
              "      buttonEl.style.display =\n",
              "        google.colab.kernel.accessAllowed ? 'block' : 'none';\n",
              "\n",
              "      async function convertToInteractive(key) {\n",
              "        const element = document.querySelector('#df-d4aa5912-9728-493d-b785-5cda19e30eac');\n",
              "        const dataTable =\n",
              "          await google.colab.kernel.invokeFunction('convertToInteractive',\n",
              "                                                    [key], {});\n",
              "        if (!dataTable) return;\n",
              "\n",
              "        const docLinkHtml = 'Like what you see? Visit the ' +\n",
              "          '<a target=\"_blank\" href=https://colab.research.google.com/notebooks/data_table.ipynb>data table notebook</a>'\n",
              "          + ' to learn more about interactive tables.';\n",
              "        element.innerHTML = '';\n",
              "        dataTable['output_type'] = 'display_data';\n",
              "        await google.colab.output.renderOutput(dataTable, element);\n",
              "        const docLink = document.createElement('div');\n",
              "        docLink.innerHTML = docLinkHtml;\n",
              "        element.appendChild(docLink);\n",
              "      }\n",
              "    </script>\n",
              "  </div>\n",
              "\n",
              "\n",
              "<div id=\"df-9f112584-04a5-47a5-8eca-e1fbc3aea45f\">\n",
              "  <button class=\"colab-df-quickchart\" onclick=\"quickchart('df-9f112584-04a5-47a5-8eca-e1fbc3aea45f')\"\n",
              "            title=\"Suggest charts\"\n",
              "            style=\"display:none;\">\n",
              "\n",
              "<svg xmlns=\"http://www.w3.org/2000/svg\" height=\"24px\"viewBox=\"0 0 24 24\"\n",
              "     width=\"24px\">\n",
              "    <g>\n",
              "        <path d=\"M19 3H5c-1.1 0-2 .9-2 2v14c0 1.1.9 2 2 2h14c1.1 0 2-.9 2-2V5c0-1.1-.9-2-2-2zM9 17H7v-7h2v7zm4 0h-2V7h2v10zm4 0h-2v-4h2v4z\"/>\n",
              "    </g>\n",
              "</svg>\n",
              "  </button>\n",
              "\n",
              "<style>\n",
              "  .colab-df-quickchart {\n",
              "      --bg-color: #E8F0FE;\n",
              "      --fill-color: #1967D2;\n",
              "      --hover-bg-color: #E2EBFA;\n",
              "      --hover-fill-color: #174EA6;\n",
              "      --disabled-fill-color: #AAA;\n",
              "      --disabled-bg-color: #DDD;\n",
              "  }\n",
              "\n",
              "  [theme=dark] .colab-df-quickchart {\n",
              "      --bg-color: #3B4455;\n",
              "      --fill-color: #D2E3FC;\n",
              "      --hover-bg-color: #434B5C;\n",
              "      --hover-fill-color: #FFFFFF;\n",
              "      --disabled-bg-color: #3B4455;\n",
              "      --disabled-fill-color: #666;\n",
              "  }\n",
              "\n",
              "  .colab-df-quickchart {\n",
              "    background-color: var(--bg-color);\n",
              "    border: none;\n",
              "    border-radius: 50%;\n",
              "    cursor: pointer;\n",
              "    display: none;\n",
              "    fill: var(--fill-color);\n",
              "    height: 32px;\n",
              "    padding: 0;\n",
              "    width: 32px;\n",
              "  }\n",
              "\n",
              "  .colab-df-quickchart:hover {\n",
              "    background-color: var(--hover-bg-color);\n",
              "    box-shadow: 0 1px 2px rgba(60, 64, 67, 0.3), 0 1px 3px 1px rgba(60, 64, 67, 0.15);\n",
              "    fill: var(--button-hover-fill-color);\n",
              "  }\n",
              "\n",
              "  .colab-df-quickchart-complete:disabled,\n",
              "  .colab-df-quickchart-complete:disabled:hover {\n",
              "    background-color: var(--disabled-bg-color);\n",
              "    fill: var(--disabled-fill-color);\n",
              "    box-shadow: none;\n",
              "  }\n",
              "\n",
              "  .colab-df-spinner {\n",
              "    border: 2px solid var(--fill-color);\n",
              "    border-color: transparent;\n",
              "    border-bottom-color: var(--fill-color);\n",
              "    animation:\n",
              "      spin 1s steps(1) infinite;\n",
              "  }\n",
              "\n",
              "  @keyframes spin {\n",
              "    0% {\n",
              "      border-color: transparent;\n",
              "      border-bottom-color: var(--fill-color);\n",
              "      border-left-color: var(--fill-color);\n",
              "    }\n",
              "    20% {\n",
              "      border-color: transparent;\n",
              "      border-left-color: var(--fill-color);\n",
              "      border-top-color: var(--fill-color);\n",
              "    }\n",
              "    30% {\n",
              "      border-color: transparent;\n",
              "      border-left-color: var(--fill-color);\n",
              "      border-top-color: var(--fill-color);\n",
              "      border-right-color: var(--fill-color);\n",
              "    }\n",
              "    40% {\n",
              "      border-color: transparent;\n",
              "      border-right-color: var(--fill-color);\n",
              "      border-top-color: var(--fill-color);\n",
              "    }\n",
              "    60% {\n",
              "      border-color: transparent;\n",
              "      border-right-color: var(--fill-color);\n",
              "    }\n",
              "    80% {\n",
              "      border-color: transparent;\n",
              "      border-right-color: var(--fill-color);\n",
              "      border-bottom-color: var(--fill-color);\n",
              "    }\n",
              "    90% {\n",
              "      border-color: transparent;\n",
              "      border-bottom-color: var(--fill-color);\n",
              "    }\n",
              "  }\n",
              "</style>\n",
              "\n",
              "  <script>\n",
              "    async function quickchart(key) {\n",
              "      const quickchartButtonEl =\n",
              "        document.querySelector('#' + key + ' button');\n",
              "      quickchartButtonEl.disabled = true;  // To prevent multiple clicks.\n",
              "      quickchartButtonEl.classList.add('colab-df-spinner');\n",
              "      try {\n",
              "        const charts = await google.colab.kernel.invokeFunction(\n",
              "            'suggestCharts', [key], {});\n",
              "      } catch (error) {\n",
              "        console.error('Error during call to suggestCharts:', error);\n",
              "      }\n",
              "      quickchartButtonEl.classList.remove('colab-df-spinner');\n",
              "      quickchartButtonEl.classList.add('colab-df-quickchart-complete');\n",
              "    }\n",
              "    (() => {\n",
              "      let quickchartButtonEl =\n",
              "        document.querySelector('#df-9f112584-04a5-47a5-8eca-e1fbc3aea45f button');\n",
              "      quickchartButtonEl.style.display =\n",
              "        google.colab.kernel.accessAllowed ? 'block' : 'none';\n",
              "    })();\n",
              "  </script>\n",
              "</div>\n",
              "\n",
              "    </div>\n",
              "  </div>\n"
            ],
            "application/vnd.google.colaboratory.intrinsic+json": {
              "type": "dataframe",
              "variable_name": "df"
            }
          },
          "metadata": {},
          "execution_count": 57
        }
      ]
    },
    {
      "cell_type": "code",
      "source": [
        "print(df.dtypes)"
      ],
      "metadata": {
        "id": "orfd0TeI7pmL",
        "outputId": "408f417b-ef25-4936-87be-fab113ecac00",
        "colab": {
          "base_uri": "https://localhost:8080/"
        }
      },
      "execution_count": 58,
      "outputs": [
        {
          "output_type": "stream",
          "name": "stdout",
          "text": [
            "sex                    object\n",
            "age                     int64\n",
            "age_cat                object\n",
            "race                   object\n",
            "juv_fel_count           int64\n",
            "g_decile_score          int64\n",
            "juv_misd_count          int64\n",
            "juv_other_count         int64\n",
            "c_jail_days             int64\n",
            "c_days_from_compas    float64\n",
            "c_charge_degree        object\n",
            "is_recid                int64\n",
            "is_violent_recid        int64\n",
            "decile_score            int64\n",
            "score_text             object\n",
            "v_decile_score          int64\n",
            "v_score_text           object\n",
            "priors_count            int64\n",
            "start                   int64\n",
            "end                     int64\n",
            "event                   int64\n",
            "two_year_recid          int64\n",
            "dtype: object\n"
          ]
        }
      ]
    },
    {
      "cell_type": "code",
      "source": [
        "categorical_features = df.select_dtypes(include=['object']).columns\n",
        "print(categorical_features)\n",
        "\n",
        "for col in categorical_features:\n",
        "  df[col] =df[col].astype('category')"
      ],
      "metadata": {
        "id": "hwoquAYAHBsx",
        "outputId": "07c6912f-3aab-4486-d296-53efb5aef1ac",
        "colab": {
          "base_uri": "https://localhost:8080/"
        }
      },
      "execution_count": 59,
      "outputs": [
        {
          "output_type": "stream",
          "name": "stdout",
          "text": [
            "Index(['sex', 'age_cat', 'race', 'c_charge_degree', 'score_text',\n",
            "       'v_score_text'],\n",
            "      dtype='object')\n"
          ]
        }
      ]
    },
    {
      "cell_type": "code",
      "source": [
        "df['c_days_from_compas'] = df['c_days_from_compas'].replace([np.inf, -np.inf], np.nan)\n",
        "df = df.dropna(subset=['c_days_from_compas'])"
      ],
      "metadata": {
        "id": "fYeQkHC2qLMX"
      },
      "execution_count": 60,
      "outputs": []
    },
    {
      "cell_type": "code",
      "source": [
        "df[\"c_days_from_compas\"] = df[\"c_days_from_compas\"].astype('int64')"
      ],
      "metadata": {
        "id": "tGVIeGadXI6Z"
      },
      "execution_count": 61,
      "outputs": []
    },
    {
      "cell_type": "code",
      "source": [
        "print(df.dtypes)"
      ],
      "metadata": {
        "colab": {
          "base_uri": "https://localhost:8080/"
        },
        "id": "KdinA5UpMFq5",
        "outputId": "b3dc609d-b785-4eb0-cb20-23848016d2a1"
      },
      "execution_count": 62,
      "outputs": [
        {
          "output_type": "stream",
          "name": "stdout",
          "text": [
            "sex                   category\n",
            "age                      int64\n",
            "age_cat               category\n",
            "race                  category\n",
            "juv_fel_count            int64\n",
            "g_decile_score           int64\n",
            "juv_misd_count           int64\n",
            "juv_other_count          int64\n",
            "c_jail_days              int64\n",
            "c_days_from_compas       int64\n",
            "c_charge_degree       category\n",
            "is_recid                 int64\n",
            "is_violent_recid         int64\n",
            "decile_score             int64\n",
            "score_text            category\n",
            "v_decile_score           int64\n",
            "v_score_text          category\n",
            "priors_count             int64\n",
            "start                    int64\n",
            "end                      int64\n",
            "event                    int64\n",
            "two_year_recid           int64\n",
            "dtype: object\n"
          ]
        }
      ]
    },
    {
      "cell_type": "code",
      "source": [
        "# check for missing values\n",
        "missing_values = df.isnull().sum()\n",
        "print(missing_values)"
      ],
      "metadata": {
        "id": "ofk46eMFJXJ4",
        "outputId": "90e695d7-8ae7-4b74-8411-a746446b05cd",
        "colab": {
          "base_uri": "https://localhost:8080/"
        }
      },
      "execution_count": 63,
      "outputs": [
        {
          "output_type": "stream",
          "name": "stdout",
          "text": [
            "sex                   0\n",
            "age                   0\n",
            "age_cat               0\n",
            "race                  0\n",
            "juv_fel_count         0\n",
            "g_decile_score        0\n",
            "juv_misd_count        0\n",
            "juv_other_count       0\n",
            "c_jail_days           0\n",
            "c_days_from_compas    0\n",
            "c_charge_degree       0\n",
            "is_recid              0\n",
            "is_violent_recid      0\n",
            "decile_score          0\n",
            "score_text            0\n",
            "v_decile_score        0\n",
            "v_score_text          0\n",
            "priors_count          0\n",
            "start                 0\n",
            "end                   0\n",
            "event                 0\n",
            "two_year_recid        0\n",
            "dtype: int64\n"
          ]
        }
      ]
    },
    {
      "cell_type": "code",
      "source": [
        "print(df.shape)"
      ],
      "metadata": {
        "id": "ulq3Z2qxKmqN",
        "outputId": "e6f0aa12-1abd-4679-aa6f-f7217f898b0e",
        "colab": {
          "base_uri": "https://localhost:8080/"
        }
      },
      "execution_count": 64,
      "outputs": [
        {
          "output_type": "stream",
          "name": "stdout",
          "text": [
            "(7192, 22)\n"
          ]
        }
      ]
    },
    {
      "cell_type": "markdown",
      "metadata": {
        "id": "KXQNItgRT8Fu"
      },
      "source": [
        "The columns contain mostly int64 and categorical data.\n",
        "\n",
        "\n",
        "|features| description|\n",
        "|---|---|\n",
        "| race, gender, age | demographic features |\n",
        "| juv_fel_count,priors_count, juv_misd_count, juv_other_count | previous arrests |\n",
        "|g_decile_score, decile_score, v_decile_score, mission_source_id | Compas score* |\n",
        "| is_recid, is_violent_recid | likelihood to reoffend within 2 years |\n",
        "| two_year_recid | target class |\n",
        "\n",
        "*COMPAS scores for each defendant ranged from 1 to 10, with ten being the highest risk. Scores 1 to 4 were labeled by COMPAS as “Low”; 5 to 7 were labeled “Medium”; and 8 to 10 were labeled “High.”\n",
        "\n",
        "\n",
        "\n"
      ]
    },
    {
      "cell_type": "code",
      "execution_count": 65,
      "metadata": {
        "id": "wEGJjCrOm4q9",
        "outputId": "d46a45bd-84d9-44e0-8b38-7883fdb9bb0a",
        "colab": {
          "base_uri": "https://localhost:8080/"
        }
      },
      "outputs": [
        {
          "output_type": "execute_result",
          "data": {
            "text/plain": [
              "race\n",
              "African-American    3687\n",
              "Caucasian           2449\n",
              "Hispanic             631\n",
              "Other                376\n",
              "Asian                 32\n",
              "Native American       17\n",
              "Name: count, dtype: int64"
            ]
          },
          "metadata": {},
          "execution_count": 65
        }
      ],
      "source": [
        "df[\"race\"].value_counts()"
      ]
    },
    {
      "cell_type": "code",
      "execution_count": 66,
      "metadata": {
        "id": "HznSDLWEm4q-",
        "outputId": "5f203d80-5d73-45a6-db28-2b2fe8f408b5",
        "colab": {
          "base_uri": "https://localhost:8080/",
          "height": 574
        }
      },
      "outputs": [
        {
          "output_type": "display_data",
          "data": {
            "text/plain": [
              "<Figure size 640x480 with 1 Axes>"
            ],
            "image/png": "[encoded data removed]"
          },
          "metadata": {}
        }
      ],
      "source": [
        "df[\"race\"].value_counts().plot(kind='bar', rot=90);"
      ]
    },
    {
      "cell_type": "code",
      "source": [
        "# Group by race and sex, and count occurrences in each group\n",
        "race_sex_count = df.groupby(['race', 'sex']).size().reset_index(name='count')\n",
        "\n",
        "# Display the result\n",
        "print(race_sex_count)\n",
        "\n",
        "# Pivot the DataFrame to make plotting easier\n",
        "pivot_df = race_sex_count.pivot(index='race', columns='sex', values='count')\n",
        "\n",
        "# Plotting\n",
        "pivot_df.plot(kind='bar', stacked=False)\n",
        "plt.title('Counts by Race and Sex')\n",
        "plt.xlabel('Race')\n",
        "plt.ylabel('Count')\n",
        "plt.xticks(rotation=90)\n",
        "plt.legend(title='Sex')\n",
        "plt.show()"
      ],
      "metadata": {
        "id": "JqZQzvwCBWB0",
        "outputId": "d99de950-fafd-4e11-a16b-ab54122568f9",
        "colab": {
          "base_uri": "https://localhost:8080/",
          "height": 823
        }
      },
      "execution_count": 27,
      "outputs": [
        {
          "output_type": "stream",
          "name": "stdout",
          "text": [
            "                race     sex  count\n",
            "0   African-American  Female    648\n",
            "1   African-American    Male   3039\n",
            "2              Asian  Female      2\n",
            "3              Asian    Male     30\n",
            "4          Caucasian  Female    566\n",
            "5          Caucasian    Male   1883\n",
            "6           Hispanic  Female    103\n",
            "7           Hispanic    Male    528\n",
            "8    Native American  Female      4\n",
            "9    Native American    Male     13\n",
            "10             Other  Female     66\n",
            "11             Other    Male    310\n"
          ]
        },
        {
          "output_type": "display_data",
          "data": {
            "text/plain": [
              "<Figure size 640x480 with 1 Axes>"
            ],
            "image/png": "[encoded data removed]"
          },
          "metadata": {}
        }
      ]
    },
    {
      "cell_type": "code",
      "source": [
        "age_count = df['age_cat'].value_counts().sort_index()\n",
        "\n",
        "# Plotting\n",
        "age_count.plot(kind='bar', color='skyblue')\n",
        "plt.title('Counts by Age (years)')\n",
        "plt.xlabel('Age group')\n",
        "plt.ylabel('Count')\n",
        "plt.xticks(rotation=0)\n",
        "plt.show()"
      ],
      "metadata": {
        "id": "m_XNxptMTHCi",
        "outputId": "e2d06519-1440-4ec6-e48a-11e52e81cda1",
        "colab": {
          "base_uri": "https://localhost:8080/",
          "height": 480
        }
      },
      "execution_count": 28,
      "outputs": [
        {
          "output_type": "display_data",
          "data": {
            "text/plain": [
              "<Figure size 640x480 with 1 Axes>"
            ],
            "image/png": "[encoded data removed]"
          },
          "metadata": {}
        }
      ]
    },
    {
      "cell_type": "code",
      "source": [
        "# Group by race and age_cat, and count occurrences in each group\n",
        "race_age_cat_count = df.groupby(['race', 'age_cat']).size().reset_index(name='count')\n",
        "\n",
        "# Pivot the DataFrame to make plotting easier\n",
        "pivot_df = race_age_cat_count.pivot(index='race', columns='age_cat', values='count')\n",
        "\n",
        "# Plotting\n",
        "pivot_df.plot(kind='bar', stacked=False)\n",
        "plt.title('Counts by Race and Age_cat')\n",
        "plt.xlabel('Race')\n",
        "plt.ylabel('Count')\n",
        "plt.xticks(rotation=90)\n",
        "plt.legend(title='Age_cat')\n",
        "plt.show()"
      ],
      "metadata": {
        "colab": {
          "base_uri": "https://localhost:8080/",
          "height": 597
        },
        "id": "1vrV3GYjFY3s",
        "outputId": "b4f1addf-e2d8-4a10-d808-03aac0206d3f"
      },
      "execution_count": 29,
      "outputs": [
        {
          "output_type": "display_data",
          "data": {
            "text/plain": [
              "<Figure size 640x480 with 1 Axes>"
            ],
            "image/png": "[encoded data removed]"
          },
          "metadata": {}
        }
      ]
    },
    {
      "cell_type": "markdown",
      "metadata": {
        "id": "6LTax67Em4q8"
      },
      "source": [
        "## Group sample sizes"
      ]
    },
    {
      "cell_type": "markdown",
      "metadata": {
        "id": "ft28kXKHm4q9"
      },
      "source": [
        "From the perspective of fairness assessment, a key data characteristic is the sample size of groups with respect to which we conduct fairness assessment.\n",
        "\n",
        "Small sample sizes have two implications:\n",
        "\n",
        "* **assessment**: the impacts of the AI system on smaller groups are harder to assess, because due to fewer data points we have a much larger uncertainty (error bars) in our estimates\n",
        "\n",
        "* **model training**: fewer training data points mean that our model fails to appropriately capture any data patterns specific to smaller groups, which means that its predictive performance on these groups could be worse\n",
        "\n",
        "Let's examine the sample sizes of the groups according to `race`:\n",
        "\n"
      ]
    },
    {
      "cell_type": "markdown",
      "metadata": {
        "id": "ZkI6KA3rm4q-"
      },
      "source": [
        "Normalized as frequencies:"
      ]
    },
    {
      "cell_type": "code",
      "execution_count": 68,
      "metadata": {
        "id": "qE2UoDU3m4q-",
        "outputId": "e720f569-77e6-44a5-ecd2-c3e8dc905a7f",
        "colab": {
          "base_uri": "https://localhost:8080/"
        }
      },
      "outputs": [
        {
          "output_type": "execute_result",
          "data": {
            "text/plain": [
              "race\n",
              "African-American   0.513\n",
              "Caucasian          0.341\n",
              "Hispanic           0.088\n",
              "Other              0.052\n",
              "Asian              0.004\n",
              "Native American    0.002\n",
              "Name: proportion, dtype: float64"
            ]
          },
          "metadata": {},
          "execution_count": 68
        }
      ],
      "source": [
        "race_distribution = df[\"race\"].value_counts(normalize=True)\n",
        "race_distribution"
      ]
    },
    {
      "cell_type": "markdown",
      "metadata": {
        "id": "DEUrg6J3m4q_"
      },
      "source": [
        "In our dataset, the defendants are predominantly *African-American* (51%). The next largest racial group is *Caucasian*, making up 34% of the defendants and Hispanic 8%. The remaining race categories (including *Other*) compose about 6% of the data."
      ]
    },
    {
      "cell_type": "markdown",
      "metadata": {
        "id": "xIdDhgtAm4rA"
      },
      "source": [
        "We also examine the dataset composition by `gender`:"
      ]
    },
    {
      "cell_type": "code",
      "execution_count": 69,
      "metadata": {
        "id": "0h26CH50m4rA",
        "outputId": "7535f3bd-c47f-44d1-d134-f2861f64717f",
        "colab": {
          "base_uri": "https://localhost:8080/"
        }
      },
      "outputs": [
        {
          "output_type": "execute_result",
          "data": {
            "text/plain": [
              "sex\n",
              "Male      5803\n",
              "Female    1389\n",
              "Name: count, dtype: int64"
            ]
          },
          "metadata": {},
          "execution_count": 69
        }
      ],
      "source": [
        "df[\"sex\"].value_counts() # counts"
      ]
    },
    {
      "cell_type": "code",
      "execution_count": 70,
      "metadata": {
        "id": "UTbI5v48m4rA",
        "outputId": "7009f7ff-2b83-49b6-c81b-ab6684b01c20",
        "colab": {
          "base_uri": "https://localhost:8080/"
        }
      },
      "outputs": [
        {
          "output_type": "execute_result",
          "data": {
            "text/plain": [
              "sex\n",
              "Male     0.807\n",
              "Female   0.193\n",
              "Name: proportion, dtype: float64"
            ]
          },
          "metadata": {},
          "execution_count": 70
        }
      ],
      "source": [
        "df[\"sex\"].value_counts(normalize=True) # frequencies"
      ]
    },
    {
      "cell_type": "markdown",
      "metadata": {
        "id": "i3xBANdpm4rA"
      },
      "source": [
        "Gender is in our case effectively binary (and we have no further information how it was operationalized), with both *Female* represented at 19% and *Male* represented at 80%."
      ]
    },
    {
      "cell_type": "markdown",
      "metadata": {
        "id": "NyLBXpKWm4rA"
      },
      "source": [
        "### Decision point: How do we address smaller group sizes?"
      ]
    },
    {
      "cell_type": "markdown",
      "metadata": {
        "id": "wT-BPQ2Gm4rB"
      },
      "source": [
        "When the data set lacks coverage of certain groups, it means that we will not be able to reliably assess any fairness-related issues. There are three interventions (which could be carried out in a combination):\n",
        "\n",
        "* **collect more data**: collect more data for groups with fewer samples\n",
        "* **buckets**: merge some of the groups\n",
        "* **drop small groups**\n",
        "\n",
        "The choice of strategy depends on our existing understanding of which groups are at the greatest risk of a harm. In particular, pooling the groups with widely different risks could mask the extent of harms. We generally caution against dropping small groups as this leads to the representational harm of erasure the model will not be inclusive.\n",
        "\n",
        "If any groups are merged or dropped, these decisions should be annotated / explained (in the datasheet, which we discuss below).\n",
        "\n",
        "In our case, we will:\n",
        "\n",
        "* merge the three smallest race groups *Asian*, *Hispanic*, *Native American*, *Other* (similar to [Strack et al., 2014](https://www.hindawi.com/journals/bmri/2014/781670/)), but also retain the original groups for auxiliary assessments\n",
        "\n"
      ]
    },
    {
      "cell_type": "code",
      "execution_count": null,
      "metadata": {
        "id": "iBN_fIhpm4rB"
      },
      "outputs": [],
      "source": [
        "\n",
        "# retain the original race as race_all, and merge Asian+Hispanic+Native American+Other\n",
        "# df[\"race_all\"] = df[\"race\"]\n",
        "# df[\"race\"] = df[\"race\"].replace({\"Asian\": \"Other\", \"Hispanic\": \"Other\", \"Native American\": \"Other\"})"
      ]
    },
    {
      "cell_type": "markdown",
      "metadata": {
        "id": "ns1Tr9wLm4rB"
      },
      "source": [
        "Examine the distribution of the `age` feature in the dataset."
      ]
    },
    {
      "cell_type": "code",
      "execution_count": 31,
      "metadata": {
        "id": "UOn4j1o8m4rB",
        "outputId": "5c247948-e5aa-4db4-df3f-fc692ce62559",
        "colab": {
          "base_uri": "https://localhost:8080/"
        }
      },
      "outputs": [
        {
          "output_type": "execute_result",
          "data": {
            "text/plain": [
              "age\n",
              "24    363\n",
              "25    332\n",
              "26    330\n",
              "23    321\n",
              "27    320\n",
              "     ... \n",
              "96      1\n",
              "73      1\n",
              "80      1\n",
              "76      1\n",
              "79      1\n",
              "Name: count, Length: 65, dtype: int64"
            ]
          },
          "metadata": {},
          "execution_count": 31
        }
      ],
      "source": [
        "df[\"age\"].value_counts()"
      ]
    },
    {
      "cell_type": "code",
      "execution_count": null,
      "metadata": {
        "id": "ns7RxP5um4rB"
      },
      "outputs": [],
      "source": [
        "# df[\"age\"].value_counts().plot(kind='bar', rot=90, width=2, fontsize=6);\n",
        "# Count occurrences by age\n",
        "age_count = df['age'].value_counts().sort_index()\n",
        "\n",
        "# Plotting\n",
        "ax = age_count.plot(kind='bar', color='blue', width=1, fontsize=6)  # Adjust bar width\n",
        "plt.title('Counts by Age', fontsize=14)                       # Adjust title font size\n",
        "plt.xlabel('Age', fontsize=14)                                # Adjust x-label font size\n",
        "plt.ylabel('Count', fontsize=14)                              # Adjust y-label font size\n",
        "plt.xticks(rotation=90)\n",
        "\n",
        "# Adjust space between bars\n",
        "ax.set_xticks(ax.get_xticks()[::1])  # Adjust ticks frequency\n",
        "ax.set_xticklabels(age_count.index)  # Adjust tick labels\n",
        "plt.tight_layout()                   # Adjust layout\n",
        "\n",
        "plt.show()"
      ]
    },
    {
      "cell_type": "markdown",
      "metadata": {
        "id": "HAXa7MoQnjq4"
      },
      "source": [
        "Most defendants in our data set belong to the *Under 40 years* category. Although we will not be assessing for age-based fairness-related harms in this tutorial, we will want to document the age imbalance in our dataset."
      ]
    },
    {
      "cell_type": "markdown",
      "metadata": {
        "id": "pK0LbF_sylTU"
      },
      "source": [
        "## Examining the choice of label"
      ]
    },
    {
      "cell_type": "markdown",
      "metadata": {
        "id": "AtgLr5Cs_YhF"
      },
      "source": [
        "Next we dive into the question of whether our choice of label (recidivism) aligns with our goal (release defendants that are unlikely to reoffend within 2 years of release).\n",
        "\n",
        "A framework particularly suited for this analysis is called _measurement modeling_ (see, e.g., [Jacobs and Wallach, 2021](https://arxiv.org/abs/1912.05511)). The goal of measurement modeling is to describe the relationship between what we care about and what we can measure. The thing that we care about is referred to as the _construct_ and what we can observe is referred to as the _measurement_. In our case:\n",
        "* **construct** = greatest benefit from a fairer risk assessment\n",
        "* **measurement** = recidivism within 2 years\n",
        "\n",
        "In our case, the **measurement** coincides with the **classification label**.\n",
        "\n",
        "The act of _operationalizing_ the construct via a specific measurement corresponds to making certain assumptions. In our case, we are making the following assumption: **the greatest benefit to society from risk assessment would would be for false high risk defendants that are** (in the absence of risk assessment) **least likely to reoffend within 2 years get released and high risk defendants get detained.**"
      ]
    },
    {
      "cell_type": "markdown",
      "metadata": {
        "id": "fA19isovvCew"
      },
      "source": [
        "### How can we check whether our assumptions apply?"
      ]
    },
    {
      "cell_type": "markdown",
      "metadata": {
        "id": "oY95_kOFO6Wb"
      },
      "source": [
        "In the terminology of measurement modeling, how do we establish _construct validity_? Following, [Jacobs and Wallach, 2021](https://arxiv.org/abs/1912.05511),\n",
        "\n",
        "> Establishing construct\n",
        "validity means demonstrating, in a variety of ways, that the measurements obtained from measurement model are both meaningful\n",
        "and useful:\n",
        "> * Does the operationalization capture all relevant aspects\n",
        "of the construct purported to be measured?\n",
        "> * Do the measurements\n",
        "look plausible?\n",
        "> * Do they correlate with other measurements of the\n",
        "same construct? Or do they vary in ways that suggest that the\n",
        "operationalization may be inadvertently capturing aspects of other\n",
        "constructs?\n",
        "> * Are the measurements predictive of measurements of\n",
        "any relevant observable properties (and other unobservable theoretical constructs) thought to be related to the construct, but not incorporated into the operationalization?\n",
        "\n",
        "We focus on one aspect of construct validity, called _predictive validity_, which refers to the extent\n",
        "to which the measurements obtained from a measurement model\n",
        "are predictive of measurements of any relevant observable properties\n",
        "related to the construct purported to be measured, but not incorporated into the operationalization.\n",
        "\n",
        "The predictions do not need to be chronological, meaning that we do not necessarily need to be predicting future from the past. Also, the predictions do not need to be causal (going from causes to effects). We just need to ensure that the predicted property is not part of the measurement whose validity we're checking.  \n"
      ]
    },
    {
      "cell_type": "markdown",
      "metadata": {
        "id": "8IBUG3Sa96LX"
      },
      "source": [
        "### Predictive validity"
      ]
    },
    {
      "cell_type": "markdown",
      "metadata": {
        "id": "rVrLpuwy98uG"
      },
      "source": [
        "We would like to show that our measurement `two_year_recid` is correlated with defendant characteristics that are related to our construct \"low risk defendants are released and high risk detained\". One such characteristic is the priors_count, where we expect that defendants with high prior offences are likely to recid.\n",
        "\n",
        "While our data does not contain full criminal records that would enable us to holistically measure general criminality, the data does contain two relevant features: `priors_count` and `c_jail_days`, which indicate how many days the defendant spent in jail before release from arrest date.\n",
        "\n",
        "To establish predictive validity, we would like to show that our measurement `two_year_recid` is predictive of these two characteristics."
      ]
    },
    {
      "cell_type": "markdown",
      "metadata": {
        "id": "BQWxJEN-M6VD"
      },
      "source": [
        "First, let's check the rate at which the defendants with different `two_year_recid` labels reoffended:"
      ]
    },
    {
      "cell_type": "code",
      "execution_count": 71,
      "metadata": {
        "id": "3t11OgTgZfV8",
        "colab": {
          "base_uri": "https://localhost:8080/",
          "height": 458
        },
        "outputId": "54875bc9-0267-4a2b-f95d-d2b5dbeb1197"
      },
      "outputs": [
        {
          "output_type": "display_data",
          "data": {
            "text/plain": [
              "<Figure size 640x480 with 1 Axes>"
            ],
            "image/png": "[encoded data removed]"
          },
          "metadata": {}
        }
      ],
      "source": [
        "sns.pointplot(y=\"priors_count\", x=\"two_year_recid\",\n",
        "              data=df, errorbar=('ci', 95), linestyle='none');"
      ]
    },
    {
      "cell_type": "markdown",
      "metadata": {
        "id": "Ptl-tHkDf_GJ"
      },
      "source": [
        "The plot shows that indeed defendants with have a low prior_count have a lower rate of recidivism `two_year_recid=0`, whereas defendants with `two_year_recid=1` have a higher prior_count. (The vertical lines indicate 95% confidence intervals obtained via boostrapping.)\n",
        "\n",
        " Non-recidivists (two_year_recid = 0):\n",
        "\n",
        " The average number of prior offenses is lower for individuals who did not reoffend within two years.\n",
        " The confidence interval is narrow, indicating a precise estimate of the mean priors count.\n",
        "\n",
        " Recidivists (two_year_recid = 1):\n",
        " The average number of prior offenses is higher for individuals who reoffended within two years.\n",
        " The confidence interval is also narrow, showing a precise estimate for this group as well.\n",
        " Conclusion:\n",
        " The plot clearly shows that individuals who recidivated within two years had, on average, a higher number of prior offenses compared to those who did not recidivate. The narrow confidence intervals suggest that this difference is statistically significant and not due to random variation. This indicates a positive correlation between the number of prior offenses and the likelihood of recidivism within two years."
      ]
    },
    {
      "cell_type": "markdown",
      "metadata": {
        "id": "07GU8IGIY9KC"
      },
      "source": [
        "We see a similar pattern when `c_jail_days`(TODO: explain variable) is used to predict the two_year_recid, the longer the c_jail_days the higher the rate of recidivism whilst defendants who have shorter c_jail_days have a low recidivism.  "
      ]
    },
    {
      "cell_type": "code",
      "execution_count": 72,
      "metadata": {
        "id": "GuPPVpXrO5uE",
        "colab": {
          "base_uri": "https://localhost:8080/",
          "height": 458
        },
        "outputId": "601edabb-a9d9-4855-ed05-482ea73ff3a8"
      },
      "outputs": [
        {
          "output_type": "display_data",
          "data": {
            "text/plain": [
              "<Figure size 640x480 with 1 Axes>"
            ],
            "image/png": "[encoded data removed]"
          },
          "metadata": {}
        }
      ],
      "source": [
        "sns.pointplot(y=\"c_jail_days\", x=\"two_year_recid\",\n",
        "              data=df, errorbar=('ci', 95), linestyle='none');"
      ]
    },
    {
      "cell_type": "markdown",
      "metadata": {
        "id": "wN8NU8QkRMqM"
      },
      "source": [
        "Now let's take a look whether the predictiveness is similar across different race groups. First, let's check how well `priors_count`  predicts :`two_year_recid`\n",
        "\n",
        "c_jail_days plot interpretation\n",
        " Non-recidivists (two_year_recid = 0):\n",
        "\n",
        " The average number of jail days is lower for individuals who did not reoffend within two years.\n",
        " The confidence interval is present, indicating a range within which the true mean likely falls.\n",
        " Recidivists (two_year_recid = 1):\n",
        "\n",
        " The average number of jail days is higher for individuals who reoffended within two years.\n",
        " The confidence interval for this group also indicates a range for the mean jail days.\n",
        " Conclusion:\n",
        " The plot indicates that individuals who recidivated within two years spent, on average, more days in jail compared to those who did not recidivate. This suggests a positive correlation between the number of days spent in jail and the likelihood of recidivism within two years. The presence of confidence intervals helps in understanding the variability and reliability of these estimates.\n"
      ]
    },
    {
      "cell_type": "code",
      "execution_count": null,
      "metadata": {
        "id": "tgLhUlZzOvHC"
      },
      "outputs": [],
      "source": [
        "# Visualize predictiveness using a categorical pointplot\n",
        "sns.catplot(y=\"priors_count\", x=\"two_year_recid\", hue=\"race\", data=df,\n",
        "            kind=\"point\", errorbar=('ci', 95), linestyle='none', dodge=True);"
      ]
    },
    {
      "cell_type": "markdown",
      "source": [
        "Key Observations by Race:\n",
        " General Trend:\n",
        "\n",
        " Across all races, individuals who recidivated within two years (two_year_recid = 1) generally have a higher average number of prior offenses compared to those who did not recidivate (two_year_recid = 0).\n",
        " Race-Specific Insights:\n",
        "\n",
        " African-American:\n",
        " Non-recidivists: The average priors count is lower compared to recidivists.\n",
        " Recidivists: They show a higher average priors count. The confidence interval is relatively tight, indicating a reliable estimate.\n",
        " Caucasian:\n",
        " Non-recidivists: Similar trend as African-Americans, but with slightly different average priors count.\n",
        " Recidivists: Higher average priors count, but the increase compared to non-recidivists might differ in magnitude.\n",
        " Other Races (e.g., Hispanic, Asian):\n",
        " The pattern generally holds where recidivists have more priors count.\n",
        " Some racial groups might have larger confidence intervals, indicating more variability or less data for those groups.\n",
        " Detailed Conclusions:\n",
        " Higher Priors Count for Recidivists:\n",
        "\n",
        " The consistent trend across all racial groups that individuals who recidivated had more prior offenses suggests that a higher priors count might be associated with factors contributing to recidivism, such as the severity of offenses or a history of criminal behavior.\n",
        " Racial Differences:\n",
        "\n",
        " There are observable differences in the average number of prior offenses across races. For instance, African-Americans and Caucasians show differences in both the average number of prior offenses and the magnitude of difference between recidivists and non-recidivists. This might point to systemic issues such as differences in policing, access to legal resources, or other socio-economic factors.\n",
        " Precision and Variability:\n",
        "\n",
        " The confidence intervals provide insight into the precision of the estimates. Tighter confidence intervals for certain racial groups indicate more reliable estimates, while wider intervals suggest greater variability or a smaller sample size for that group."
      ],
      "metadata": {
        "id": "4NV8xlvz3snx"
      }
    },
    {
      "cell_type": "code",
      "execution_count": null,
      "metadata": {
        "id": "Kx52yWYNQuSH"
      },
      "outputs": [],
      "source": [
        "sns.catplot(y=\"c_jail_days\", x=\"two_year_recid\", hue=\"race\", data=df, kind=\"point\",  errorbar=('ci', 95), linestyle='none', dodge=True);"
      ]
    },
    {
      "cell_type": "markdown",
      "source": [
        " Key Observations by Race:\n",
        " General Trend:\n",
        "\n",
        " Across all races, individuals who recidivated within two years (two_year_recid = 1) generally spent more days in jail on average compared to those who did not recidivate (two_year_recid = 0).\n",
        " Race-Specific Insights:\n",
        "\n",
        " African-American:\n",
        " Non-recidivists: The average number of jail days is lower compared to recidivists.<br>\n",
        " Recidivists: They show a higher average number of jail days. The confidence interval is relatively tight, indicating a reliable estimate.\n",
        " Caucasian:\n",
        " Non-recidivists: Similar trend as African-Americans, but with slightly different average jail days.<br>\n",
        " Recidivists: Higher average jail days, but the increase compared to non-recidivists might differ in magnitude.\n",
        " Other Races (e.g., Hispanic, Asian):\n",
        " The pattern generally holds where recidivists spend more days in jail.\n",
        " Some racial groups might have larger confidence intervals, indicating more variability or less data for those groups.<br>\n",
        "\n",
        " Detailed Conclusions:<br>\n",
        " Higher Jail Days for Recidivists:\n",
        "\n",
        " The consistent trend across all racial groups that individuals who recidivated spent more days in jail suggests that a higher number of jail days might be associated with factors contributing to recidivism, such as the severity of offenses or lack of rehabilitative support.\n",
        "\n",
        " Racial Differences:<br>\n",
        " There are observable differences in the average number of jail days across races. For instance, African-Americans and Caucasians show differences in both the average number of jail days and the magnitude of difference between recidivists and non-recidivists. This might point to systemic issues such as differences in sentencing, access to legal resources, or other socio-economic factors.\n",
        "\n",
        " Precision and Variability:<br>\n",
        " The confidence intervals provide insight into the precision of the estimates. Tighter confidence intervals for certain racial groups indicate more reliable estimates, while wider intervals suggest greater variability or a smaller sample size for that group."
      ],
      "metadata": {
        "id": "USNGYhTb3dvb"
      }
    },
    {
      "cell_type": "markdown",
      "metadata": {
        "id": "HrCelj5_hR6a"
      },
      "source": [
        "\n",
        "Note that we have only investigated _predictive validity_, but there are other important aspects of construct validity which we may want to establish (see [Jacobs and Wallach, 2021](https://arxiv.org/abs/1912.05511))."
      ]
    },
    {
      "cell_type": "markdown",
      "metadata": {
        "id": "rW9ktRlqBhZA"
      },
      "source": [
        "Check the predictive validity with respect to `gender` and `age`. Do you see any differences? Can you form a hypothesis why?"
      ]
    },
    {
      "cell_type": "code",
      "execution_count": 73,
      "metadata": {
        "id": "VLom8GFbUfqR",
        "colab": {
          "base_uri": "https://localhost:8080/",
          "height": 501
        },
        "outputId": "36e0b109-1343-4220-9c6c-2400c0c6b12b"
      },
      "outputs": [
        {
          "output_type": "display_data",
          "data": {
            "text/plain": [
              "<Figure size 610.375x500 with 1 Axes>"
            ],
            "image/png": "[encoded data removed]"
          },
          "metadata": {}
        }
      ],
      "source": [
        "# Check for predictive validity by gender\n",
        "sns.catplot(y=\"priors_count\", x=\"two_year_recid\", hue=\"sex\", data=df,\n",
        "            kind=\"point\", errorbar=('ci', 95), linestyle='none', dodge=True);"
      ]
    },
    {
      "cell_type": "code",
      "execution_count": 74,
      "metadata": {
        "id": "7PdFAu3lT-pD",
        "colab": {
          "base_uri": "https://localhost:8080/",
          "height": 501
        },
        "outputId": "4884bb3d-cac5-4667-d4fd-673280e8bfe4"
      },
      "outputs": [
        {
          "output_type": "display_data",
          "data": {
            "text/plain": [
              "<Figure size 574.375x500 with 1 Axes>"
            ],
            "image/png": "[encoded data removed]"
          },
          "metadata": {}
        }
      ],
      "source": [
        "# Check for predictive validity by age\n",
        "sns.catplot(y=\"priors_count\", x=\"two_year_recid\", hue=\"age\", data=df,\n",
        "            kind=\"point\", errorbar=('ci', 95), linestyle='none', dodge=True);"
      ]
    },
    {
      "cell_type": "markdown",
      "metadata": {
        "id": "3i9KdmTWKUJZ"
      },
      "source": [
        "## Label imbalance\n",
        "\n"
      ]
    },
    {
      "cell_type": "markdown",
      "metadata": {
        "id": "ViGqA5VTGrEo"
      },
      "source": [
        "Now that we have established the validity of our label, we will check frequency of its values in our data. The frequency of different labels is an important descriptive characteristic in classification settings for several reasons:\n",
        "\n",
        "* some classification algorithms and performance measures might not work well with data sets with extreme class imbalance\n",
        "* in binary classification settings, our ability to evaluate error is often driven by the size of the smaller of the two classes (again, the smaller the sample the larger the uncertainty in estimates)\n",
        "* label imbalance may exacerbate the problems due to smaller group sizes in fairness assessment\n",
        "\n"
      ]
    },
    {
      "cell_type": "markdown",
      "metadata": {
        "id": "cos3--59EiZt"
      },
      "source": [
        "Let's check how many samples in our data are labeled as positive and how many as negative."
      ]
    },
    {
      "cell_type": "code",
      "execution_count": 75,
      "metadata": {
        "id": "eR5ULLYGE4UK",
        "colab": {
          "base_uri": "https://localhost:8080/"
        },
        "outputId": "3d21f061-f86c-4d9b-fc4f-5c9de91a8b2f"
      },
      "outputs": [
        {
          "output_type": "execute_result",
          "data": {
            "text/plain": [
              "two_year_recid\n",
              "0    3956\n",
              "1    3236\n",
              "Name: count, dtype: int64"
            ]
          },
          "metadata": {},
          "execution_count": 75
        }
      ],
      "source": [
        "df[\"two_year_recid\"].value_counts() # counts"
      ]
    },
    {
      "cell_type": "code",
      "execution_count": 76,
      "metadata": {
        "id": "0UWBbg4Cz90t",
        "colab": {
          "base_uri": "https://localhost:8080/"
        },
        "outputId": "b0a6f997-cc14-4e80-df20-f50806370899"
      },
      "outputs": [
        {
          "output_type": "execute_result",
          "data": {
            "text/plain": [
              "two_year_recid\n",
              "0   0.550\n",
              "1   0.450\n",
              "Name: proportion, dtype: float64"
            ]
          },
          "metadata": {},
          "execution_count": 76
        }
      ],
      "source": [
        "df[\"two_year_recid\"].value_counts(normalize=True) # frequencies"
      ]
    },
    {
      "cell_type": "markdown",
      "metadata": {
        "id": "b-_K_KHXz9MR"
      },
      "source": [
        "0 (No recidivism within two years): 3956 individuals<br>\n",
        " 1 (Recidivism within two years): 3236 individuals<br>\n",
        " This indicates that out of the dataset, 3956 individuals did not reoffend within two years, while 3236 individuals did reoffend within the same period.\n",
        "\n",
        "\n",
        "*Our target metric is **balanced error rate**, which is the average of FPR and FNR. The value of this metric is robust to different frequencies of positives and negatives. However, since half of the metric is contributed by FNR, we expect the uncertainty in balanced error values to behave similarly to the uncertainty of FNR*"
      ]
    },
    {
      "cell_type": "markdown",
      "metadata": {
        "id": "OkopoyE3GQ8g"
      },
      "source": [
        "Now, let's examine how much the label frequencies vary within each group defined by `race`:"
      ]
    },
    {
      "cell_type": "markdown",
      "source": [
        "recidivism by race # label variance by race, ;\n",
        " Key Observations:\n",
        " African-American:\n",
        "\n",
        " The bar for 1 (recidivism) is taller than the bar for 0 (no recidivism), indicating a higher proportion of African-Americans in the dataset recidivated within two years.\n",
        " The confidence intervals for both bars are relatively narrow, suggesting a precise estimate of the proportions.\n",
        " Caucasian:\n",
        "\n",
        " The bars for 0 and 1 are closer in height compared to African-Americans, indicating a smaller difference in the proportion of recidivism versus non-recidivism.\n",
        " The confidence intervals are narrow, indicating a reliable estimate.\n",
        " Other Races:\n",
        "\n",
        " The pattern varies among other racial groups, but generally, there are differences in the proportions of recidivism and non-recidivism.\n",
        " Some groups may have wider confidence intervals, indicating more variability or a smaller sample size for those groups.\n",
        " Detailed Conclusions:\n",
        " Higher Proportion of Recidivism Among African-Americans:\n",
        "\n",
        " African-Americans have a higher proportion of individuals who recidivated within two years compared to those who did not. This suggests a higher likelihood of reoffending within this group.\n",
        " The precise confidence intervals strengthen the reliability of this observation.\n",
        " Comparative Proportions Among Caucasians:\n",
        "\n",
        " The proportions of recidivism and non-recidivism among Caucasians are more balanced, with less difference between the two bars. This indicates that Caucasians in the dataset have a more evenly distributed likelihood of reoffending or not.\n",
        " Variability Among Other Races:\n",
        "\n",
        " The variability in the bar heights and confidence intervals for other racial groups suggests differing patterns of recidivism. This might be due to a variety of socio-economic, cultural, or systemic factors."
      ],
      "metadata": {
        "id": "-MtYFuE05dFW"
      }
    },
    {
      "cell_type": "markdown",
      "metadata": {
        "id": "ox06aTMmm4rB"
      },
      "source": [
        "We see the rate of *30-day readmission* is similar for the *AfricanAmerican* and *Caucasian* groups, but appears smaller for *Other* and smallest for *Unknown* (this is consistent with an overall lower rate of hospital visits in the prior year). The smaller sample size of the *Other* and *Unknown* groups mean that there is more uncertainty around the estimate for these two groups."
      ]
    },
    {
      "cell_type": "markdown",
      "metadata": {
        "id": "0AA5uoqAKUSx"
      },
      "source": [
        "## Proxies for sensitive features\n",
        "\n"
      ]
    },
    {
      "cell_type": "markdown",
      "metadata": {
        "id": "7PSup7dMJjJg"
      },
      "source": [
        "We next investigate which of the features are highly predictive of the sensitive feature *race*; such features are called *proxies*.\n",
        "\n",
        "While in this tutorial we examine fairness issues through the **impact** of the machine-learning model on different populations, there are other concepts of fairness that seek to analyze how the **model might be using information** contained in the sensitive features, and which of the information uses are justified (often using causal reasoning). More pragmatically, certain uses of sensitive features (or proxies of it) might be illegal in some contexts.\n",
        "\n",
        "Another reason to understand the proxies is because they might explain why we see differences in impact on different groups even when our model does not have access to the sensitive features directly.\n",
        "\n",
        "In this section we briefly examine the identification of such proxies (but we don't go into legal or causality considerations).\n"
      ]
    },
    {
      "cell_type": "markdown",
      "metadata": {
        "id": "9BLSciTKaBLd"
      },
      "source": [
        "## Additional validity checks"
      ]
    },
    {
      "cell_type": "markdown",
      "metadata": {
        "id": "-PzKOA59ezFs"
      },
      "source": [
        "Similarly as we used predictive validity to check that our label aligns with the construct of \"likely to benefit from the care management program\", we can use predictive validity to verify that our various features are coherent with each other.\n"
      ]
    },
    {
      "cell_type": "code",
      "execution_count": 77,
      "metadata": {
        "id": "869rzUjSUe3C",
        "colab": {
          "base_uri": "https://localhost:8080/",
          "height": 458
        },
        "outputId": "e622d63b-9650-4b36-f018-506133af95ce"
      },
      "outputs": [
        {
          "output_type": "display_data",
          "data": {
            "text/plain": [
              "<Figure size 640x480 with 1 Axes>"
            ],
            "image/png": "[encoded data removed]"
          },
          "metadata": {}
        }
      ],
      "source": [
        "sns.pointplot(y=\"c_jail_days\", x=\"age_cat\", data=df, errorbar=('ci', 95), linestyle='none');"
      ]
    },
    {
      "cell_type": "markdown",
      "metadata": {
        "id": "dBgmuoz8aXw4"
      },
      "source": [
        "As we see, that's indeed the case."
      ]
    },
    {
      "cell_type": "markdown",
      "metadata": {
        "id": "ZVSerRqDG3we"
      },
      "source": [
        "<a name=\"datasheets\"></a>\n",
        "## Datasheets for datasets"
      ]
    },
    {
      "cell_type": "markdown",
      "metadata": {
        "id": "ACLMWSAwGaLc"
      },
      "source": [
        "The _datasheets_ practice was proposed by [Gebru et al. (2018)](https://arxiv.org/abs/1803.09010). A datasheet of a given dataset documents the motivation behind the dataset creation, the dataset composition, collection process, recommended uses and many other characteristics. In the words of Gebru et al., the goal is to\n",
        "> facilitate better communication between dataset creators\n",
        "> and dataset consumers, and encourage the machine learning\n",
        "> community to prioritize transparency and accountability.\n",
        "\n",
        "In this section, we show how to fill in some of the sections of the datasheet for the dataset that we are using. The information is obtained directly from [Strack et al. (2014)](https://www.hindawi.com/journals/bmri/2014/781670/)."
      ]
    },
    {
      "cell_type": "markdown",
      "metadata": {
        "id": "fcc4cUMhZnCb"
      },
      "source": [
        "### Example sections of a datasheet [OPTIONAL SECTION]"
      ]
    },
    {
      "cell_type": "markdown",
      "metadata": {
        "id": "0TIPJIhX1IKJ"
      },
      "source": [
        "**For what purpose was the dataset created?** *Was there a specific task in mind? Was there a specific gap that needed to be filled?*"
      ]
    },
    {
      "cell_type": "markdown",
      "metadata": {
        "id": "sBNKbKJQJbmf"
      },
      "source": [
        "In the words of the dataset authors:\n",
        "> [...] the management of hyperglycemia in the hospitalized patient has a significant bearing on outcome, in terms of both morbidity and mortality. This recognition has led to the development of formalized protocols in the intensive care unit (ICU) setting [...] However, the same cannot be said for most non-ICU inpatient admissions. [...] there are few national assessments of diabetes care in the hospitalized patient which could serve as a baseline for change [in the non-ICU protocols]. The present analysis of a large clinical database was undertaken to examine historical patterns of diabetes care in patients with diabetes admitted to a US hospital and to inform future directions which might lead to improvements in patient safety."
      ]
    },
    {
      "cell_type": "markdown",
      "metadata": {
        "id": "iA-XRu0o1ErL"
      },
      "source": [
        "**Who created the dataset (e.g., which team) and on behalf of which entity?**"
      ]
    },
    {
      "cell_type": "markdown",
      "metadata": {
        "id": "zQSHxl26LQkt"
      },
      "source": [
        "The dataset was created by [Strack et al. (2014)](https://www.hindawi.com/journals/bmri/2014/781670/): a team of researchers from a variety of disciplines, ranging from computer science to public health, from three institutions (Virginia Commonwealth University, University of Cordoba, and Polish Academy of Sciences)."
      ]
    },
    {
      "cell_type": "markdown",
      "metadata": {
        "id": "0Qx32mSJG3zP"
      },
      "source": [
        "#### **Composition**"
      ]
    },
    {
      "cell_type": "markdown",
      "metadata": {
        "id": "8RS2V8001F3E"
      },
      "source": [
        "**What do the instances that comprise the dataset represent?**\n",
        "\n"
      ]
    },
    {
      "cell_type": "markdown",
      "metadata": {
        "id": "JPy_TXp_1Gub"
      },
      "source": [
        "Each instance in this dataset represents an assessment for a defendant"
      ]
    },
    {
      "cell_type": "markdown",
      "metadata": {
        "id": "eOb0FPeOJqxm"
      },
      "source": [
        "**Is any information missing from individual instances?**"
      ]
    },
    {
      "cell_type": "markdown",
      "metadata": {
        "id": "4vlZWeQjJq8w"
      },
      "source": [
        "The features `Payer Code` and `Medical Specialty` have 40,255 and 49,947 missing values, respectively. For `Payer Code`, these missing values are reflected in the category *Unknown*. For `Medical Specialty`, these missing values are reflecting in the category *Missing*.\n",
        "\n",
        "For our demographic features, we are missing the `Gender` information for three patients in the dataset. These three records were dropped from our final dataset. Regarding `Race`, the 2,271 missing values were recoded into the `Unknown` race category.\n",
        "\n"
      ]
    },
    {
      "cell_type": "markdown",
      "metadata": {
        "id": "Uh0lLV6mJrSp"
      },
      "source": [
        "**Does the dataset identify any subpopulations (e.g., by age, gender)?**"
      ]
    },
    {
      "cell_type": "markdown",
      "metadata": {
        "id": "U-ZnQfibJrcQ"
      },
      "source": [
        "Patients are identified by gender, age group, and race.\n",
        "\n",
        "For gender, patients are identified as Male, Female, or Unknown. There were only three instances where the patient gender is *Unknown*, so these records were removed from our dataset.\n",
        "\n",
        "Gender | Count| Percentage\n",
        "------ | ------|----------\n",
        "Male      | 47055     | 46.2%\n",
        "Female     |  54708     | 53.7%  \n",
        "\n",
        "\n",
        "\n",
        "For age group, patients are binned into three age buckets: *30 years or younger*, *30-60 years*, *Older than 60 years*.\n",
        "\n",
        "Age Group |Count| Percentage\n",
        "------ | ------|----------\n",
        "30 years or younger      | 2509     | 2.4%\n",
        "30-60 years       | 30716   | 30.2%\n",
        "Older than 60 years      |   68538    | 67.4%  \n",
        "\n",
        "\n",
        "For race, patients are identified as *AfricanAmerican*, *Caucasian*, and *Other*. For individuals whose race information was not collected during hospital admission, their race is listed as *Unknown*.\n",
        "\n",
        "Race | Count| Percentage\n",
        "------ | ------|----------\n",
        "Caucasian      | 76099     | 74.8%\n",
        "AfricanAmerican     |  19210     | 18.9%  \n",
        "Other        |     4183         |  4.1%\n",
        "Unknown        |    2271          | 2.2%"
      ]
    },
    {
      "cell_type": "markdown",
      "metadata": {
        "id": "yzXw0egqG4J4"
      },
      "source": [
        "#### **Preprocessing**"
      ]
    },
    {
      "cell_type": "markdown",
      "metadata": {
        "id": "rGfxGcI21Fyj"
      },
      "source": [
        "**Was any preprocessing/cleaning/labeling of the data done?**"
      ]
    },
    {
      "cell_type": "markdown",
      "metadata": {
        "id": "5jO4Pf911GrL"
      },
      "source": [
        "For the `race` feature, the categories of *Asian* and *Hispanic* and *Other* were merged into the *Other* category. The `age` feature was bucketed into 30-year intervals (*30 years and below*, *30 to 60 years*, and *Over 60 years*). The `discharge_disposition_id` was binarized into a boolean outcome on whether an patient was discharged to home.\n",
        "\n",
        "The full preprocessing code is provided in the file `preprocess.py` of the tutorial [GitHub repository](https://github.com/fairlearn/talks/blob/main/2021_scipy_tutorial/).\n",
        "\n",
        "\n"
      ]
    },
    {
      "cell_type": "markdown",
      "metadata": {
        "id": "C8b5nXfPIA7a"
      },
      "source": [
        "#### **Uses**\n",
        "\n"
      ]
    },
    {
      "cell_type": "markdown",
      "metadata": {
        "id": "_YH8evvN1HX2"
      },
      "source": [
        "**Has the dataset been used for any tasks already?**"
      ]
    },
    {
      "cell_type": "markdown",
      "metadata": {
        "id": "H8RW1LKW1Hbg"
      },
      "source": [
        "This dataset has been used by [Strack et al. (2014)](https://www.hindawi.com/journals/bmri/2014/781670/) to model the relationship between patient readmission and HbA1c measurement during admission, based on primary medical diagnosis.\n",
        "\n",
        "The dataset is publicly available through the UCI Machine Learning Repository and, as of May 2021, has received over 350,000 views."
      ]
    },
    {
      "cell_type": "markdown",
      "metadata": {
        "id": "HB7zfhA1UKiW"
      },
      "source": [
        "# Training the initial model"
      ]
    },
    {
      "cell_type": "markdown",
      "metadata": {
        "id": "0f7jZOzGX24Z"
      },
      "source": [
        "We next train a classification model to predict our target variable (readmission within 30 days) while optimizing balanced accuracy.\n",
        "\n",
        "What kind of model should we train? Deep neural nets? Random forests? Logistic regression?\n",
        "\n",
        "There are a variety of considerations. We highlight two:\n",
        "\n",
        "* **Interpretability.** Interpretability is tightly linked with questions of fairness. There are several reasons why it is important to have interpretable models that are open to the stakeholder scrutiny:\n",
        "  * It allows discovery of fairness issues that were not discovered by the data science team.\n",
        "  * It provides a path toward recourse for those that are affected by the model.\n",
        "  * It allows for a *face validity* check, a \"sniff test\", by experts to verify that the model \"makes sense\" (at the face value). While this step is subjective, it is really important when the model is applied to different populations than those on which the assessment was conducted.\n",
        "\n",
        "* **Model expressiveness.** How well can the model separate positive examples from negative examples? How well can it do so given the available dataset size? Can it do so across all groups or does it need to trade off performance on one group against performance on another group?\n",
        "\n",
        "Some additional considerations are training time (this impacts the ability to iterate), familiarity (this impacts the ability to fine tune and debug), and carbon footprint (this impacts the Earth climate both directly and indirectly by normalizing unnecessarily heavy workloads)."
      ]
    },
    {
      "cell_type": "markdown",
      "metadata": {
        "id": "7hbsqXap9Mzp"
      },
      "source": [
        "### Decision point: Model type"
      ]
    },
    {
      "cell_type": "markdown",
      "metadata": {
        "id": "iftAwdfoVDM0"
      },
      "source": [
        "We will use a logistic regression model. Our reasoning:\n",
        "\n",
        "* **Interpretability**. Logistic models over a small number of variables (as used here) are highly interpretable in the sense that stakeholders can simulate them easily.\n",
        "\n",
        "* **Model expressiveness**. Logistic regression predictions are described by a linear weighting of the feature values. The concern might be that this is too simple. The previous work by [Strack et al. (2014)](https://www.hindawi.com/journals/bmri/2014/781670/), which also used a logistic model to predict readmission rates concluded that a slightly more expressive model might be useful (their analysis uncovered 8 pairwise interactions that were significant, see their Table 5)."
      ]
    },
    {
      "cell_type": "markdown",
      "metadata": {
        "id": "52wWLOFoXkho"
      },
      "source": [
        "## Prepare training and test datasets"
      ]
    },
    {
      "cell_type": "markdown",
      "metadata": {
        "id": "vCwtDyx8yqSG"
      },
      "source": [
        "As we mentioned in the task definition, our target variable is **two_year_recid**, and our sensitive feature for the purposes of fairness assessment is **race**.\n"
      ]
    },
    {
      "cell_type": "code",
      "execution_count": 78,
      "metadata": {
        "id": "WpiSRj2JyqSH"
      },
      "outputs": [],
      "source": [
        "target_variable = \"two_year_recid\"\n",
        "demographic = [\"race\", \"gender\"]\n",
        "sensitive = [\"race\"]\n",
        "# If multiple sensitive features are chosen, the rest of the script considers intersectional groups."
      ]
    },
    {
      "cell_type": "code",
      "execution_count": 79,
      "metadata": {
        "id": "uaNqDyqvi1QE"
      },
      "outputs": [],
      "source": [
        "# extract target variable Y and sensitive attributes A\n",
        "Y, A = df.loc[:, target_variable], df.loc[:, sensitive]"
      ]
    },
    {
      "cell_type": "markdown",
      "metadata": {
        "id": "niu49A9YXQmf"
      },
      "source": [
        "We next drop the features that we don't want to use in our model and expand the categorical features into 0/1 indicators (\"dummies\")."
      ]
    },
    {
      "cell_type": "code",
      "execution_count": 80,
      "metadata": {
        "id": "JXyRuCsri1cY"
      },
      "outputs": [],
      "source": [
        "# Drop the target variable to create a feature set X\n",
        "X = df.drop(columns=['two_year_recid'])"
      ]
    },
    {
      "cell_type": "code",
      "execution_count": 81,
      "metadata": {
        "id": "kAA0sIhQUWFa",
        "colab": {
          "base_uri": "https://localhost:8080/",
          "height": 325
        },
        "outputId": "a498d504-5c23-48d1-e547-00b5ed25d309"
      },
      "outputs": [
        {
          "output_type": "execute_result",
          "data": {
            "text/plain": [
              "    sex  age          age_cat              race  juv_fel_count  \\\n",
              "0  Male   69  Greater than 45             Other              0   \n",
              "1  Male   34          25 - 45  African-American              0   \n",
              "2  Male   24     Less than 25  African-American              0   \n",
              "3  Male   23     Less than 25  African-American              0   \n",
              "4  Male   43          25 - 45             Other              0   \n",
              "\n",
              "   g_decile_score  juv_misd_count  juv_other_count  c_jail_days  \\\n",
              "0               1               0                0            1   \n",
              "1               3               0                0           10   \n",
              "2               4               0                1            1   \n",
              "3               8               1                0            0   \n",
              "4               1               0                0            0   \n",
              "\n",
              "   c_days_from_compas  ... is_recid  is_violent_recid  decile_score  \\\n",
              "0                   1  ...        0                 0             1   \n",
              "1                   1  ...        1                 1             3   \n",
              "2                   1  ...        1                 0             4   \n",
              "3                   1  ...        0                 0             8   \n",
              "4                  76  ...        0                 0             1   \n",
              "\n",
              "   score_text v_decile_score  v_score_text priors_count  start   end  event  \n",
              "0         Low              1           Low            0      0   327      0  \n",
              "1         Low              1           Low            0      9   159      1  \n",
              "2         Low              3           Low            4      0    63      0  \n",
              "3        High              6        Medium            1      0  1174      0  \n",
              "4         Low              1           Low            2      0  1102      0  \n",
              "\n",
              "[5 rows x 21 columns]"
            ],
            "text/html": [
              "\n",
              "  <div id=\"df-bf44a578-899d-4033-9423-72b656c37ab5\" class=\"colab-df-container\">\n",
              "    <div>\n",
              "<style scoped>\n",
              "    .dataframe tbody tr th:only-of-type {\n",
              "        vertical-align: middle;\n",
              "    }\n",
              "\n",
              "    .dataframe tbody tr th {\n",
              "        vertical-align: top;\n",
              "    }\n",
              "\n",
              "    .dataframe thead th {\n",
              "        text-align: right;\n",
              "    }\n",
              "</style>\n",
              "<table border=\"1\" class=\"dataframe\">\n",
              "  <thead>\n",
              "    <tr style=\"text-align: right;\">\n",
              "      <th></th>\n",
              "      <th>sex</th>\n",
              "      <th>age</th>\n",
              "      <th>age_cat</th>\n",
              "      <th>race</th>\n",
              "      <th>juv_fel_count</th>\n",
              "      <th>g_decile_score</th>\n",
              "      <th>juv_misd_count</th>\n",
              "      <th>juv_other_count</th>\n",
              "      <th>c_jail_days</th>\n",
              "      <th>c_days_from_compas</th>\n",
              "      <th>...</th>\n",
              "      <th>is_recid</th>\n",
              "      <th>is_violent_recid</th>\n",
              "      <th>decile_score</th>\n",
              "      <th>score_text</th>\n",
              "      <th>v_decile_score</th>\n",
              "      <th>v_score_text</th>\n",
              "      <th>priors_count</th>\n",
              "      <th>start</th>\n",
              "      <th>end</th>\n",
              "      <th>event</th>\n",
              "    </tr>\n",
              "  </thead>\n",
              "  <tbody>\n",
              "    <tr>\n",
              "      <th>0</th>\n",
              "      <td>Male</td>\n",
              "      <td>69</td>\n",
              "      <td>Greater than 45</td>\n",
              "      <td>Other</td>\n",
              "      <td>0</td>\n",
              "      <td>1</td>\n",
              "      <td>0</td>\n",
              "      <td>0</td>\n",
              "      <td>1</td>\n",
              "      <td>1</td>\n",
              "      <td>...</td>\n",
              "      <td>0</td>\n",
              "      <td>0</td>\n",
              "      <td>1</td>\n",
              "      <td>Low</td>\n",
              "      <td>1</td>\n",
              "      <td>Low</td>\n",
              "      <td>0</td>\n",
              "      <td>0</td>\n",
              "      <td>327</td>\n",
              "      <td>0</td>\n",
              "    </tr>\n",
              "    <tr>\n",
              "      <th>1</th>\n",
              "      <td>Male</td>\n",
              "      <td>34</td>\n",
              "      <td>25 - 45</td>\n",
              "      <td>African-American</td>\n",
              "      <td>0</td>\n",
              "      <td>3</td>\n",
              "      <td>0</td>\n",
              "      <td>0</td>\n",
              "      <td>10</td>\n",
              "      <td>1</td>\n",
              "      <td>...</td>\n",
              "      <td>1</td>\n",
              "      <td>1</td>\n",
              "      <td>3</td>\n",
              "      <td>Low</td>\n",
              "      <td>1</td>\n",
              "      <td>Low</td>\n",
              "      <td>0</td>\n",
              "      <td>9</td>\n",
              "      <td>159</td>\n",
              "      <td>1</td>\n",
              "    </tr>\n",
              "    <tr>\n",
              "      <th>2</th>\n",
              "      <td>Male</td>\n",
              "      <td>24</td>\n",
              "      <td>Less than 25</td>\n",
              "      <td>African-American</td>\n",
              "      <td>0</td>\n",
              "      <td>4</td>\n",
              "      <td>0</td>\n",
              "      <td>1</td>\n",
              "      <td>1</td>\n",
              "      <td>1</td>\n",
              "      <td>...</td>\n",
              "      <td>1</td>\n",
              "      <td>0</td>\n",
              "      <td>4</td>\n",
              "      <td>Low</td>\n",
              "      <td>3</td>\n",
              "      <td>Low</td>\n",
              "      <td>4</td>\n",
              "      <td>0</td>\n",
              "      <td>63</td>\n",
              "      <td>0</td>\n",
              "    </tr>\n",
              "    <tr>\n",
              "      <th>3</th>\n",
              "      <td>Male</td>\n",
              "      <td>23</td>\n",
              "      <td>Less than 25</td>\n",
              "      <td>African-American</td>\n",
              "      <td>0</td>\n",
              "      <td>8</td>\n",
              "      <td>1</td>\n",
              "      <td>0</td>\n",
              "      <td>0</td>\n",
              "      <td>1</td>\n",
              "      <td>...</td>\n",
              "      <td>0</td>\n",
              "      <td>0</td>\n",
              "      <td>8</td>\n",
              "      <td>High</td>\n",
              "      <td>6</td>\n",
              "      <td>Medium</td>\n",
              "      <td>1</td>\n",
              "      <td>0</td>\n",
              "      <td>1174</td>\n",
              "      <td>0</td>\n",
              "    </tr>\n",
              "    <tr>\n",
              "      <th>4</th>\n",
              "      <td>Male</td>\n",
              "      <td>43</td>\n",
              "      <td>25 - 45</td>\n",
              "      <td>Other</td>\n",
              "      <td>0</td>\n",
              "      <td>1</td>\n",
              "      <td>0</td>\n",
              "      <td>0</td>\n",
              "      <td>0</td>\n",
              "      <td>76</td>\n",
              "      <td>...</td>\n",
              "      <td>0</td>\n",
              "      <td>0</td>\n",
              "      <td>1</td>\n",
              "      <td>Low</td>\n",
              "      <td>1</td>\n",
              "      <td>Low</td>\n",
              "      <td>2</td>\n",
              "      <td>0</td>\n",
              "      <td>1102</td>\n",
              "      <td>0</td>\n",
              "    </tr>\n",
              "  </tbody>\n",
              "</table>\n",
              "<p>5 rows × 21 columns</p>\n",
              "</div>\n",
              "    <div class=\"colab-df-buttons\">\n",
              "\n",
              "  <div class=\"colab-df-container\">\n",
              "    <button class=\"colab-df-convert\" onclick=\"convertToInteractive('df-bf44a578-899d-4033-9423-72b656c37ab5')\"\n",
              "            title=\"Convert this dataframe to an interactive table.\"\n",
              "            style=\"display:none;\">\n",
              "\n",
              "  <svg xmlns=\"http://www.w3.org/2000/svg\" height=\"24px\" viewBox=\"0 -960 960 960\">\n",
              "    <path d=\"M120-120v-720h720v720H120Zm60-500h600v-160H180v160Zm220 220h160v-160H400v160Zm0 220h160v-160H400v160ZM180-400h160v-160H180v160Zm440 0h160v-160H620v160ZM180-180h160v-160H180v160Zm440 0h160v-160H620v160Z\"/>\n",
              "  </svg>\n",
              "    </button>\n",
              "\n",
              "  <style>\n",
              "    .colab-df-container {\n",
              "      display:flex;\n",
              "      gap: 12px;\n",
              "    }\n",
              "\n",
              "    .colab-df-convert {\n",
              "      background-color: #E8F0FE;\n",
              "      border: none;\n",
              "      border-radius: 50%;\n",
              "      cursor: pointer;\n",
              "      display: none;\n",
              "      fill: #1967D2;\n",
              "      height: 32px;\n",
              "      padding: 0 0 0 0;\n",
              "      width: 32px;\n",
              "    }\n",
              "\n",
              "    .colab-df-convert:hover {\n",
              "      background-color: #E2EBFA;\n",
              "      box-shadow: 0px 1px 2px rgba(60, 64, 67, 0.3), 0px 1px 3px 1px rgba(60, 64, 67, 0.15);\n",
              "      fill: #174EA6;\n",
              "    }\n",
              "\n",
              "    .colab-df-buttons div {\n",
              "      margin-bottom: 4px;\n",
              "    }\n",
              "\n",
              "    [theme=dark] .colab-df-convert {\n",
              "      background-color: #3B4455;\n",
              "      fill: #D2E3FC;\n",
              "    }\n",
              "\n",
              "    [theme=dark] .colab-df-convert:hover {\n",
              "      background-color: #434B5C;\n",
              "      box-shadow: 0px 1px 3px 1px rgba(0, 0, 0, 0.15);\n",
              "      filter: drop-shadow(0px 1px 2px rgba(0, 0, 0, 0.3));\n",
              "      fill: #FFFFFF;\n",
              "    }\n",
              "  </style>\n",
              "\n",
              "    <script>\n",
              "      const buttonEl =\n",
              "        document.querySelector('#df-bf44a578-899d-4033-9423-72b656c37ab5 button.colab-df-convert');\n",
              "      buttonEl.style.display =\n",
              "        google.colab.kernel.accessAllowed ? 'block' : 'none';\n",
              "\n",
              "      async function convertToInteractive(key) {\n",
              "        const element = document.querySelector('#df-bf44a578-899d-4033-9423-72b656c37ab5');\n",
              "        const dataTable =\n",
              "          await google.colab.kernel.invokeFunction('convertToInteractive',\n",
              "                                                    [key], {});\n",
              "        if (!dataTable) return;\n",
              "\n",
              "        const docLinkHtml = 'Like what you see? Visit the ' +\n",
              "          '<a target=\"_blank\" href=https://colab.research.google.com/notebooks/data_table.ipynb>data table notebook</a>'\n",
              "          + ' to learn more about interactive tables.';\n",
              "        element.innerHTML = '';\n",
              "        dataTable['output_type'] = 'display_data';\n",
              "        await google.colab.output.renderOutput(dataTable, element);\n",
              "        const docLink = document.createElement('div');\n",
              "        docLink.innerHTML = docLinkHtml;\n",
              "        element.appendChild(docLink);\n",
              "      }\n",
              "    </script>\n",
              "  </div>\n",
              "\n",
              "\n",
              "<div id=\"df-436f9196-051d-4498-9e49-087bbe28cce6\">\n",
              "  <button class=\"colab-df-quickchart\" onclick=\"quickchart('df-436f9196-051d-4498-9e49-087bbe28cce6')\"\n",
              "            title=\"Suggest charts\"\n",
              "            style=\"display:none;\">\n",
              "\n",
              "<svg xmlns=\"http://www.w3.org/2000/svg\" height=\"24px\"viewBox=\"0 0 24 24\"\n",
              "     width=\"24px\">\n",
              "    <g>\n",
              "        <path d=\"M19 3H5c-1.1 0-2 .9-2 2v14c0 1.1.9 2 2 2h14c1.1 0 2-.9 2-2V5c0-1.1-.9-2-2-2zM9 17H7v-7h2v7zm4 0h-2V7h2v10zm4 0h-2v-4h2v4z\"/>\n",
              "    </g>\n",
              "</svg>\n",
              "  </button>\n",
              "\n",
              "<style>\n",
              "  .colab-df-quickchart {\n",
              "      --bg-color: #E8F0FE;\n",
              "      --fill-color: #1967D2;\n",
              "      --hover-bg-color: #E2EBFA;\n",
              "      --hover-fill-color: #174EA6;\n",
              "      --disabled-fill-color: #AAA;\n",
              "      --disabled-bg-color: #DDD;\n",
              "  }\n",
              "\n",
              "  [theme=dark] .colab-df-quickchart {\n",
              "      --bg-color: #3B4455;\n",
              "      --fill-color: #D2E3FC;\n",
              "      --hover-bg-color: #434B5C;\n",
              "      --hover-fill-color: #FFFFFF;\n",
              "      --disabled-bg-color: #3B4455;\n",
              "      --disabled-fill-color: #666;\n",
              "  }\n",
              "\n",
              "  .colab-df-quickchart {\n",
              "    background-color: var(--bg-color);\n",
              "    border: none;\n",
              "    border-radius: 50%;\n",
              "    cursor: pointer;\n",
              "    display: none;\n",
              "    fill: var(--fill-color);\n",
              "    height: 32px;\n",
              "    padding: 0;\n",
              "    width: 32px;\n",
              "  }\n",
              "\n",
              "  .colab-df-quickchart:hover {\n",
              "    background-color: var(--hover-bg-color);\n",
              "    box-shadow: 0 1px 2px rgba(60, 64, 67, 0.3), 0 1px 3px 1px rgba(60, 64, 67, 0.15);\n",
              "    fill: var(--button-hover-fill-color);\n",
              "  }\n",
              "\n",
              "  .colab-df-quickchart-complete:disabled,\n",
              "  .colab-df-quickchart-complete:disabled:hover {\n",
              "    background-color: var(--disabled-bg-color);\n",
              "    fill: var(--disabled-fill-color);\n",
              "    box-shadow: none;\n",
              "  }\n",
              "\n",
              "  .colab-df-spinner {\n",
              "    border: 2px solid var(--fill-color);\n",
              "    border-color: transparent;\n",
              "    border-bottom-color: var(--fill-color);\n",
              "    animation:\n",
              "      spin 1s steps(1) infinite;\n",
              "  }\n",
              "\n",
              "  @keyframes spin {\n",
              "    0% {\n",
              "      border-color: transparent;\n",
              "      border-bottom-color: var(--fill-color);\n",
              "      border-left-color: var(--fill-color);\n",
              "    }\n",
              "    20% {\n",
              "      border-color: transparent;\n",
              "      border-left-color: var(--fill-color);\n",
              "      border-top-color: var(--fill-color);\n",
              "    }\n",
              "    30% {\n",
              "      border-color: transparent;\n",
              "      border-left-color: var(--fill-color);\n",
              "      border-top-color: var(--fill-color);\n",
              "      border-right-color: var(--fill-color);\n",
              "    }\n",
              "    40% {\n",
              "      border-color: transparent;\n",
              "      border-right-color: var(--fill-color);\n",
              "      border-top-color: var(--fill-color);\n",
              "    }\n",
              "    60% {\n",
              "      border-color: transparent;\n",
              "      border-right-color: var(--fill-color);\n",
              "    }\n",
              "    80% {\n",
              "      border-color: transparent;\n",
              "      border-right-color: var(--fill-color);\n",
              "      border-bottom-color: var(--fill-color);\n",
              "    }\n",
              "    90% {\n",
              "      border-color: transparent;\n",
              "      border-bottom-color: var(--fill-color);\n",
              "    }\n",
              "  }\n",
              "</style>\n",
              "\n",
              "  <script>\n",
              "    async function quickchart(key) {\n",
              "      const quickchartButtonEl =\n",
              "        document.querySelector('#' + key + ' button');\n",
              "      quickchartButtonEl.disabled = true;  // To prevent multiple clicks.\n",
              "      quickchartButtonEl.classList.add('colab-df-spinner');\n",
              "      try {\n",
              "        const charts = await google.colab.kernel.invokeFunction(\n",
              "            'suggestCharts', [key], {});\n",
              "      } catch (error) {\n",
              "        console.error('Error during call to suggestCharts:', error);\n",
              "      }\n",
              "      quickchartButtonEl.classList.remove('colab-df-spinner');\n",
              "      quickchartButtonEl.classList.add('colab-df-quickchart-complete');\n",
              "    }\n",
              "    (() => {\n",
              "      let quickchartButtonEl =\n",
              "        document.querySelector('#df-436f9196-051d-4498-9e49-087bbe28cce6 button');\n",
              "      quickchartButtonEl.style.display =\n",
              "        google.colab.kernel.accessAllowed ? 'block' : 'none';\n",
              "    })();\n",
              "  </script>\n",
              "</div>\n",
              "\n",
              "    </div>\n",
              "  </div>\n"
            ],
            "application/vnd.google.colaboratory.intrinsic+json": {
              "type": "dataframe",
              "variable_name": "X"
            }
          },
          "metadata": {},
          "execution_count": 81
        }
      ],
      "source": [
        "X.head() # sanity check"
      ]
    },
    {
      "cell_type": "markdown",
      "metadata": {
        "id": "ATzi8cKCD7V3"
      },
      "source": [
        "We split our data into a training and test portion. The test portion will be used to evaluate our performance metric (i.e., balanced accuracy), but also for fairness assessment. The split is half/half for training and test to ensure that we have sufficient sample sizes for fairness assessment."
      ]
    },
    {
      "cell_type": "code",
      "execution_count": 82,
      "metadata": {
        "id": "-wpnURazmJ4-"
      },
      "outputs": [],
      "source": [
        "# random seed to ensure reproducibility\n",
        "random_seed = 445\n",
        "np.random.seed(random_seed)"
      ]
    },
    {
      "cell_type": "code",
      "execution_count": 83,
      "metadata": {
        "id": "xgl_b-CUl7TW",
        "colab": {
          "base_uri": "https://localhost:8080/"
        },
        "outputId": "8c38218d-c057-4b24-f919-164dc4720815"
      },
      "outputs": [
        {
          "output_type": "execute_result",
          "data": {
            "text/plain": [
              "((3596, 21),\n",
              " (3596, 21),\n",
              " (3596,),\n",
              " (3596,),\n",
              " (3596, 1),\n",
              " (3596, 1),\n",
              " (3596, 22),\n",
              " (3596, 22))"
            ]
          },
          "metadata": {},
          "execution_count": 83
        }
      ],
      "source": [
        "X_train, X_test, Y_train, Y_test, A_train, A_test, df_train, df_test = train_test_split(\n",
        "    X,\n",
        "    Y,\n",
        "    A,\n",
        "    df,\n",
        "    test_size=0.50,\n",
        "    stratify=Y,\n",
        "    random_state=random_seed\n",
        ")\n",
        "\n",
        "(X_train.shape, X_test.shape, Y_train.shape, Y_test.shape, A_train.shape, A_test.shape, df_train.shape, df_test.shape)"
      ]
    },
    {
      "cell_type": "markdown",
      "metadata": {
        "id": "eSMbXR9iVqr8"
      },
      "source": [
        "Our performance metric is **balanced accuracy**, so for the purposes of training (but not evaluation!) we will resample the data set, so that it has the same number of positive and negative examples. This means that we can use estimators that optimize standard accuracy (although some estimators allow the use us importance weights).\n"
      ]
    },
    {
      "cell_type": "markdown",
      "metadata": {
        "id": "nPNQpb2ZN1ku"
      },
      "source": [
        "Because we are downsampling the number of negative examples, we create a training dataset with a significantly lower number of data points. For more complex machine learning models, this lower number of training data points may affect the model's accuracy."
      ]
    },
    {
      "cell_type": "code",
      "execution_count": 88,
      "metadata": {
        "id": "L1aVgzyFNa4B"
      },
      "outputs": [],
      "source": [
        "def resample_dataset(X_train, Y_train, A_train):\n",
        "\n",
        "  negative_ids = Y_train[Y_train == 0].index\n",
        "  positive_ids = Y_train[Y_train == 1].index\n",
        "  balanced_ids = positive_ids.union(np.random.choice(a=negative_ids, size=len(positive_ids)))\n",
        "\n",
        "  X_train = X_train.loc[balanced_ids, :]\n",
        "  Y_train = Y_train.loc[balanced_ids]\n",
        "  A_train = A_train.loc[balanced_ids, :]\n",
        "  return X_train, Y_train, A_train\n",
        "\n",
        ""
      ]
    },
    {
      "cell_type": "code",
      "source": [
        "X_train_bal, Y_train_bal, A_train_bal = resample_dataset(X_train, Y_train, A_train)\n",
        "\n",
        "(X_train_bal.shape, Y_train_bal.shape, A_train_bal.shape)"
      ],
      "metadata": {
        "id": "h14zrs302WiW",
        "outputId": "badd8c0e-a226-438d-9b4b-96a8b73964f6",
        "colab": {
          "base_uri": "https://localhost:8080/"
        }
      },
      "execution_count": 91,
      "outputs": [
        {
          "output_type": "execute_result",
          "data": {
            "text/plain": [
              "((3236, 21), (3236,), (3236, 1))"
            ]
          },
          "metadata": {},
          "execution_count": 91
        }
      ]
    },
    {
      "cell_type": "markdown",
      "source": [
        "The training set has been successfully resampled and balanced as shown in the above shapes."
      ],
      "metadata": {
        "id": "8mRUkuOT5ReX"
      }
    },
    {
      "cell_type": "markdown",
      "metadata": {
        "id": "fRddJS7XXv5n"
      },
      "source": [
        "## Save descriptive statistics of training and test data"
      ]
    },
    {
      "cell_type": "markdown",
      "metadata": {
        "id": "hZ-T4lGxX0IQ"
      },
      "source": [
        "We next evaluate and save descriptive statistics of the training dataset. These will be provided as part of _model cards_ to document our training."
      ]
    },
    {
      "cell_type": "code",
      "source": [
        "# save the figure to a string in base64 format\n",
        "import io\n",
        "import base64\n",
        "\n",
        "def figure_to_base64str(fig):\n",
        "  buf = io.BytesIO()\n",
        "  fig.savefig(buf, format='png')\n",
        "  buf.seek(0)\n",
        "  img_base64 = base64.b64encode(buf.read()).decode('utf-8')\n",
        "  return img_base64"
      ],
      "metadata": {
        "id": "JU3bUXT-3iFh"
      },
      "execution_count": 93,
      "outputs": []
    },
    {
      "cell_type": "code",
      "execution_count": 95,
      "metadata": {
        "id": "n3GhcUCm2LjD",
        "colab": {
          "base_uri": "https://localhost:8080/",
          "height": 481
        },
        "outputId": "4e36f9b3-5a3c-466f-97e0-eff761b9751f"
      },
      "outputs": [
        {
          "output_type": "display_data",
          "data": {
            "text/plain": [
              "<Figure size 640x480 with 1 Axes>"
            ],
            "image/png": "[encoded data removed]"
          },
          "metadata": {}
        }
      ],
      "source": [
        "sns.countplot(x=\"race\", data=A_train_bal)\n",
        "plt.title(\"Sensitive Attributes for Training Dataset\")\n",
        "sensitive_train = figure_to_base64str(plt)\n",
        "plt.tight_layout()"
      ]
    },
    {
      "cell_type": "code",
      "execution_count": 96,
      "metadata": {
        "id": "lIp3j8fD2LjE",
        "colab": {
          "base_uri": "https://localhost:8080/",
          "height": 480
        },
        "outputId": "883f0c92-a8dd-47b7-9465-8b988c849f2a"
      },
      "outputs": [
        {
          "output_type": "display_data",
          "data": {
            "text/plain": [
              "<Figure size 640x480 with 1 Axes>"
            ],
            "image/png": "[encoded data removed]"
          },
          "metadata": {}
        }
      ],
      "source": [
        "sns.countplot(x=Y_train_bal)\n",
        "plt.title(\"Target Label Histogram for Training Dataset\")\n",
        "outcome_train = figure_to_base64str(plt)"
      ]
    },
    {
      "cell_type": "markdown",
      "source": [],
      "metadata": {
        "id": "-6HzDc2C5Oys"
      }
    },
    {
      "cell_type": "markdown",
      "source": [
        "The histogram shows a balanced target label in the balanced training set"
      ],
      "metadata": {
        "id": "JPIg1YBI4_GB"
      }
    },
    {
      "cell_type": "code",
      "execution_count": 97,
      "metadata": {
        "id": "czIGZYhk2LjF",
        "colab": {
          "base_uri": "https://localhost:8080/",
          "height": 480
        },
        "outputId": "4642992f-8df6-4a1e-abf0-a32ef1694fc0"
      },
      "outputs": [
        {
          "output_type": "display_data",
          "data": {
            "text/plain": [
              "<Figure size 640x480 with 1 Axes>"
            ],
            "image/png": "[encoded data removed]"
          },
          "metadata": {}
        }
      ],
      "source": [
        "sns.countplot(x=\"race\", data=A_test)\n",
        "plt.title(\"Sensitive Attributes for Testing Dataset\")\n",
        "sensitive_test = figure_to_base64str(plt)"
      ]
    },
    {
      "cell_type": "code",
      "execution_count": 98,
      "metadata": {
        "id": "YjhW0t9-2LjF",
        "colab": {
          "base_uri": "https://localhost:8080/",
          "height": 480
        },
        "outputId": "cec406b5-6003-457d-d91e-0dbfe40da566"
      },
      "outputs": [
        {
          "output_type": "display_data",
          "data": {
            "text/plain": [
              "<Figure size 640x480 with 1 Axes>"
            ],
            "image/png": "[encoded data removed]"
          },
          "metadata": {}
        }
      ],
      "source": [
        "sns.countplot(x=Y_test)\n",
        "plt.title(\"Target Label Histogram for Test Dataset\")\n",
        "outcome_test = figure_to_base64str(plt)"
      ]
    },
    {
      "cell_type": "markdown",
      "metadata": {
        "id": "4V523GQbYobT"
      },
      "source": [
        "## Train the model"
      ]
    },
    {
      "cell_type": "markdown",
      "metadata": {
        "id": "g7jwN2cVbO0g"
      },
      "source": [
        "We train a logistic regression model and save its predictions on test data for analysis."
      ]
    },
    {
      "cell_type": "code",
      "source": [
        "from sklearn.compose import ColumnTransformer\n",
        "from sklearn.preprocessing import OneHotEncoder\n",
        "\n",
        " # Identify categorical columns\n",
        "categorical_cols = X.select_dtypes(include=['category']).columns\n",
        "\n",
        " # Define the preprocessing for numerical and categorical features\n",
        "preprocessor = ColumnTransformer(\n",
        "     transformers=[\n",
        "         ('num', StandardScaler(), X.select_dtypes(exclude=['category']).columns),\n",
        "         ('cat', OneHotEncoder(), categorical_cols)\n",
        "     ])\n",
        "\n",
        " # Define the pipeline with preprocessing and logistic regression\n",
        "unmitigated_pipeline = Pipeline(steps=[\n",
        "     (\"preprocessing\", preprocessor),\n",
        "     (\"logistic_regression\", LogisticRegression(max_iter=1000))\n",
        " ])\n",
        "\n",
        " # Fit the pipeline\n",
        "unmitigated_pipeline.fit(X_train, Y_train)"
      ],
      "metadata": {
        "colab": {
          "base_uri": "https://localhost:8080/",
          "height": 219
        },
        "id": "pA_ArURKdeL5",
        "outputId": "2160f4e3-44d0-4e05-ded1-8510c92a5fe7"
      },
      "execution_count": 99,
      "outputs": [
        {
          "output_type": "execute_result",
          "data": {
            "text/plain": [
              "Pipeline(steps=[('preprocessing',\n",
              "                 ColumnTransformer(transformers=[('num', StandardScaler(),\n",
              "                                                  Index(['age', 'juv_fel_count', 'g_decile_score', 'juv_misd_count',\n",
              "       'juv_other_count', 'c_jail_days', 'c_days_from_compas', 'is_recid',\n",
              "       'is_violent_recid', 'decile_score', 'v_decile_score', 'priors_count',\n",
              "       'start', 'end', 'event'],\n",
              "      dtype='object')),\n",
              "                                                 ('cat', OneHotEncoder(),\n",
              "                                                  Index(['sex', 'age_cat', 'race', 'c_charge_degree', 'score_text',\n",
              "       'v_score_text'],\n",
              "      dtype='object'))])),\n",
              "                ('logistic_regression', LogisticRegression(max_iter=1000))])"
            ],
            "text/html": [
              "<style>#sk-container-id-1 {\n",
              "  /* Definition of color scheme common for light and dark mode */\n",
              "  --sklearn-color-text: black;\n",
              "  --sklearn-color-line: gray;\n",
              "  /* Definition of color scheme for unfitted estimators */\n",
              "  --sklearn-color-unfitted-level-0: #fff5e6;\n",
              "  --sklearn-color-unfitted-level-1: #f6e4d2;\n",
              "  --sklearn-color-unfitted-level-2: #ffe0b3;\n",
              "  --sklearn-color-unfitted-level-3: chocolate;\n",
              "  /* Definition of color scheme for fitted estimators */\n",
              "  --sklearn-color-fitted-level-0: #f0f8ff;\n",
              "  --sklearn-color-fitted-level-1: #d4ebff;\n",
              "  --sklearn-color-fitted-level-2: #b3dbfd;\n",
              "  --sklearn-color-fitted-level-3: cornflowerblue;\n",
              "\n",
              "  /* Specific color for light theme */\n",
              "  --sklearn-color-text-on-default-background: var(--sg-text-color, var(--theme-code-foreground, var(--jp-content-font-color1, black)));\n",
              "  --sklearn-color-background: var(--sg-background-color, var(--theme-background, var(--jp-layout-color0, white)));\n",
              "  --sklearn-color-border-box: var(--sg-text-color, var(--theme-code-foreground, var(--jp-content-font-color1, black)));\n",
              "  --sklearn-color-icon: #696969;\n",
              "\n",
              "  @media (prefers-color-scheme: dark) {\n",
              "    /* Redefinition of color scheme for dark theme */\n",
              "    --sklearn-color-text-on-default-background: var(--sg-text-color, var(--theme-code-foreground, var(--jp-content-font-color1, white)));\n",
              "    --sklearn-color-background: var(--sg-background-color, var(--theme-background, var(--jp-layout-color0, #111)));\n",
              "    --sklearn-color-border-box: var(--sg-text-color, var(--theme-code-foreground, var(--jp-content-font-color1, white)));\n",
              "    --sklearn-color-icon: #878787;\n",
              "  }\n",
              "}\n",
              "\n",
              "#sk-container-id-1 {\n",
              "  color: var(--sklearn-color-text);\n",
              "}\n",
              "\n",
              "#sk-container-id-1 pre {\n",
              "  padding: 0;\n",
              "}\n",
              "\n",
              "#sk-container-id-1 input.sk-hidden--visually {\n",
              "  border: 0;\n",
              "  clip: rect(1px 1px 1px 1px);\n",
              "  clip: rect(1px, 1px, 1px, 1px);\n",
              "  height: 1px;\n",
              "  margin: -1px;\n",
              "  overflow: hidden;\n",
              "  padding: 0;\n",
              "  position: absolute;\n",
              "  width: 1px;\n",
              "}\n",
              "\n",
              "#sk-container-id-1 div.sk-dashed-wrapped {\n",
              "  border: 1px dashed var(--sklearn-color-line);\n",
              "  margin: 0 0.4em 0.5em 0.4em;\n",
              "  box-sizing: border-box;\n",
              "  padding-bottom: 0.4em;\n",
              "  background-color: var(--sklearn-color-background);\n",
              "}\n",
              "\n",
              "#sk-container-id-1 div.sk-container {\n",
              "  /* jupyter's `normalize.less` sets `[hidden] { display: none; }`\n",
              "     but bootstrap.min.css set `[hidden] { display: none !important; }`\n",
              "     so we also need the `!important` here to be able to override the\n",
              "     default hidden behavior on the sphinx rendered scikit-learn.org.\n",
              "     See: https://github.com/scikit-learn/scikit-learn/issues/21755 */\n",
              "  display: inline-block !important;\n",
              "  position: relative;\n",
              "}\n",
              "\n",
              "#sk-container-id-1 div.sk-text-repr-fallback {\n",
              "  display: none;\n",
              "}\n",
              "\n",
              "div.sk-parallel-item,\n",
              "div.sk-serial,\n",
              "div.sk-item {\n",
              "  /* draw centered vertical line to link estimators */\n",
              "  background-image: linear-gradient(var(--sklearn-color-text-on-default-background), var(--sklearn-color-text-on-default-background));\n",
              "  background-size: 2px 100%;\n",
              "  background-repeat: no-repeat;\n",
              "  background-position: center center;\n",
              "}\n",
              "\n",
              "/* Parallel-specific style estimator block */\n",
              "\n",
              "#sk-container-id-1 div.sk-parallel-item::after {\n",
              "  content: \"\";\n",
              "  width: 100%;\n",
              "  border-bottom: 2px solid var(--sklearn-color-text-on-default-background);\n",
              "  flex-grow: 1;\n",
              "}\n",
              "\n",
              "#sk-container-id-1 div.sk-parallel {\n",
              "  display: flex;\n",
              "  align-items: stretch;\n",
              "  justify-content: center;\n",
              "  background-color: var(--sklearn-color-background);\n",
              "  position: relative;\n",
              "}\n",
              "\n",
              "#sk-container-id-1 div.sk-parallel-item {\n",
              "  display: flex;\n",
              "  flex-direction: column;\n",
              "}\n",
              "\n",
              "#sk-container-id-1 div.sk-parallel-item:first-child::after {\n",
              "  align-self: flex-end;\n",
              "  width: 50%;\n",
              "}\n",
              "\n",
              "#sk-container-id-1 div.sk-parallel-item:last-child::after {\n",
              "  align-self: flex-start;\n",
              "  width: 50%;\n",
              "}\n",
              "\n",
              "#sk-container-id-1 div.sk-parallel-item:only-child::after {\n",
              "  width: 0;\n",
              "}\n",
              "\n",
              "/* Serial-specific style estimator block */\n",
              "\n",
              "#sk-container-id-1 div.sk-serial {\n",
              "  display: flex;\n",
              "  flex-direction: column;\n",
              "  align-items: center;\n",
              "  background-color: var(--sklearn-color-background);\n",
              "  padding-right: 1em;\n",
              "  padding-left: 1em;\n",
              "}\n",
              "\n",
              "\n",
              "/* Toggleable style: style used for estimator/Pipeline/ColumnTransformer box that is\n",
              "clickable and can be expanded/collapsed.\n",
              "- Pipeline and ColumnTransformer use this feature and define the default style\n",
              "- Estimators will overwrite some part of the style using the `sk-estimator` class\n",
              "*/\n",
              "\n",
              "/* Pipeline and ColumnTransformer style (default) */\n",
              "\n",
              "#sk-container-id-1 div.sk-toggleable {\n",
              "  /* Default theme specific background. It is overwritten whether we have a\n",
              "  specific estimator or a Pipeline/ColumnTransformer */\n",
              "  background-color: var(--sklearn-color-background);\n",
              "}\n",
              "\n",
              "/* Toggleable label */\n",
              "#sk-container-id-1 label.sk-toggleable__label {\n",
              "  cursor: pointer;\n",
              "  display: block;\n",
              "  width: 100%;\n",
              "  margin-bottom: 0;\n",
              "  padding: 0.5em;\n",
              "  box-sizing: border-box;\n",
              "  text-align: center;\n",
              "}\n",
              "\n",
              "#sk-container-id-1 label.sk-toggleable__label-arrow:before {\n",
              "  /* Arrow on the left of the label */\n",
              "  content: \"▸\";\n",
              "  float: left;\n",
              "  margin-right: 0.25em;\n",
              "  color: var(--sklearn-color-icon);\n",
              "}\n",
              "\n",
              "#sk-container-id-1 label.sk-toggleable__label-arrow:hover:before {\n",
              "  color: var(--sklearn-color-text);\n",
              "}\n",
              "\n",
              "/* Toggleable content - dropdown */\n",
              "\n",
              "#sk-container-id-1 div.sk-toggleable__content {\n",
              "  max-height: 0;\n",
              "  max-width: 0;\n",
              "  overflow: hidden;\n",
              "  text-align: left;\n",
              "  /* unfitted */\n",
              "  background-color: var(--sklearn-color-unfitted-level-0);\n",
              "}\n",
              "\n",
              "#sk-container-id-1 div.sk-toggleable__content.fitted {\n",
              "  /* fitted */\n",
              "  background-color: var(--sklearn-color-fitted-level-0);\n",
              "}\n",
              "\n",
              "#sk-container-id-1 div.sk-toggleable__content pre {\n",
              "  margin: 0.2em;\n",
              "  border-radius: 0.25em;\n",
              "  color: var(--sklearn-color-text);\n",
              "  /* unfitted */\n",
              "  background-color: var(--sklearn-color-unfitted-level-0);\n",
              "}\n",
              "\n",
              "#sk-container-id-1 div.sk-toggleable__content.fitted pre {\n",
              "  /* unfitted */\n",
              "  background-color: var(--sklearn-color-fitted-level-0);\n",
              "}\n",
              "\n",
              "#sk-container-id-1 input.sk-toggleable__control:checked~div.sk-toggleable__content {\n",
              "  /* Expand drop-down */\n",
              "  max-height: 200px;\n",
              "  max-width: 100%;\n",
              "  overflow: auto;\n",
              "}\n",
              "\n",
              "#sk-container-id-1 input.sk-toggleable__control:checked~label.sk-toggleable__label-arrow:before {\n",
              "  content: \"▾\";\n",
              "}\n",
              "\n",
              "/* Pipeline/ColumnTransformer-specific style */\n",
              "\n",
              "#sk-container-id-1 div.sk-label input.sk-toggleable__control:checked~label.sk-toggleable__label {\n",
              "  color: var(--sklearn-color-text);\n",
              "  background-color: var(--sklearn-color-unfitted-level-2);\n",
              "}\n",
              "\n",
              "#sk-container-id-1 div.sk-label.fitted input.sk-toggleable__control:checked~label.sk-toggleable__label {\n",
              "  background-color: var(--sklearn-color-fitted-level-2);\n",
              "}\n",
              "\n",
              "/* Estimator-specific style */\n",
              "\n",
              "/* Colorize estimator box */\n",
              "#sk-container-id-1 div.sk-estimator input.sk-toggleable__control:checked~label.sk-toggleable__label {\n",
              "  /* unfitted */\n",
              "  background-color: var(--sklearn-color-unfitted-level-2);\n",
              "}\n",
              "\n",
              "#sk-container-id-1 div.sk-estimator.fitted input.sk-toggleable__control:checked~label.sk-toggleable__label {\n",
              "  /* fitted */\n",
              "  background-color: var(--sklearn-color-fitted-level-2);\n",
              "}\n",
              "\n",
              "#sk-container-id-1 div.sk-label label.sk-toggleable__label,\n",
              "#sk-container-id-1 div.sk-label label {\n",
              "  /* The background is the default theme color */\n",
              "  color: var(--sklearn-color-text-on-default-background);\n",
              "}\n",
              "\n",
              "/* On hover, darken the color of the background */\n",
              "#sk-container-id-1 div.sk-label:hover label.sk-toggleable__label {\n",
              "  color: var(--sklearn-color-text);\n",
              "  background-color: var(--sklearn-color-unfitted-level-2);\n",
              "}\n",
              "\n",
              "/* Label box, darken color on hover, fitted */\n",
              "#sk-container-id-1 div.sk-label.fitted:hover label.sk-toggleable__label.fitted {\n",
              "  color: var(--sklearn-color-text);\n",
              "  background-color: var(--sklearn-color-fitted-level-2);\n",
              "}\n",
              "\n",
              "/* Estimator label */\n",
              "\n",
              "#sk-container-id-1 div.sk-label label {\n",
              "  font-family: monospace;\n",
              "  font-weight: bold;\n",
              "  display: inline-block;\n",
              "  line-height: 1.2em;\n",
              "}\n",
              "\n",
              "#sk-container-id-1 div.sk-label-container {\n",
              "  text-align: center;\n",
              "}\n",
              "\n",
              "/* Estimator-specific */\n",
              "#sk-container-id-1 div.sk-estimator {\n",
              "  font-family: monospace;\n",
              "  border: 1px dotted var(--sklearn-color-border-box);\n",
              "  border-radius: 0.25em;\n",
              "  box-sizing: border-box;\n",
              "  margin-bottom: 0.5em;\n",
              "  /* unfitted */\n",
              "  background-color: var(--sklearn-color-unfitted-level-0);\n",
              "}\n",
              "\n",
              "#sk-container-id-1 div.sk-estimator.fitted {\n",
              "  /* fitted */\n",
              "  background-color: var(--sklearn-color-fitted-level-0);\n",
              "}\n",
              "\n",
              "/* on hover */\n",
              "#sk-container-id-1 div.sk-estimator:hover {\n",
              "  /* unfitted */\n",
              "  background-color: var(--sklearn-color-unfitted-level-2);\n",
              "}\n",
              "\n",
              "#sk-container-id-1 div.sk-estimator.fitted:hover {\n",
              "  /* fitted */\n",
              "  background-color: var(--sklearn-color-fitted-level-2);\n",
              "}\n",
              "\n",
              "/* Specification for estimator info (e.g. \"i\" and \"?\") */\n",
              "\n",
              "/* Common style for \"i\" and \"?\" */\n",
              "\n",
              ".sk-estimator-doc-link,\n",
              "a:link.sk-estimator-doc-link,\n",
              "a:visited.sk-estimator-doc-link {\n",
              "  float: right;\n",
              "  font-size: smaller;\n",
              "  line-height: 1em;\n",
              "  font-family: monospace;\n",
              "  background-color: var(--sklearn-color-background);\n",
              "  border-radius: 1em;\n",
              "  height: 1em;\n",
              "  width: 1em;\n",
              "  text-decoration: none !important;\n",
              "  margin-left: 1ex;\n",
              "  /* unfitted */\n",
              "  border: var(--sklearn-color-unfitted-level-1) 1pt solid;\n",
              "  color: var(--sklearn-color-unfitted-level-1);\n",
              "}\n",
              "\n",
              ".sk-estimator-doc-link.fitted,\n",
              "a:link.sk-estimator-doc-link.fitted,\n",
              "a:visited.sk-estimator-doc-link.fitted {\n",
              "  /* fitted */\n",
              "  border: var(--sklearn-color-fitted-level-1) 1pt solid;\n",
              "  color: var(--sklearn-color-fitted-level-1);\n",
              "}\n",
              "\n",
              "/* On hover */\n",
              "div.sk-estimator:hover .sk-estimator-doc-link:hover,\n",
              ".sk-estimator-doc-link:hover,\n",
              "div.sk-label-container:hover .sk-estimator-doc-link:hover,\n",
              ".sk-estimator-doc-link:hover {\n",
              "  /* unfitted */\n",
              "  background-color: var(--sklearn-color-unfitted-level-3);\n",
              "  color: var(--sklearn-color-background);\n",
              "  text-decoration: none;\n",
              "}\n",
              "\n",
              "div.sk-estimator.fitted:hover .sk-estimator-doc-link.fitted:hover,\n",
              ".sk-estimator-doc-link.fitted:hover,\n",
              "div.sk-label-container:hover .sk-estimator-doc-link.fitted:hover,\n",
              ".sk-estimator-doc-link.fitted:hover {\n",
              "  /* fitted */\n",
              "  background-color: var(--sklearn-color-fitted-level-3);\n",
              "  color: var(--sklearn-color-background);\n",
              "  text-decoration: none;\n",
              "}\n",
              "\n",
              "/* Span, style for the box shown on hovering the info icon */\n",
              ".sk-estimator-doc-link span {\n",
              "  display: none;\n",
              "  z-index: 9999;\n",
              "  position: relative;\n",
              "  font-weight: normal;\n",
              "  right: .2ex;\n",
              "  padding: .5ex;\n",
              "  margin: .5ex;\n",
              "  width: min-content;\n",
              "  min-width: 20ex;\n",
              "  max-width: 50ex;\n",
              "  color: var(--sklearn-color-text);\n",
              "  box-shadow: 2pt 2pt 4pt #999;\n",
              "  /* unfitted */\n",
              "  background: var(--sklearn-color-unfitted-level-0);\n",
              "  border: .5pt solid var(--sklearn-color-unfitted-level-3);\n",
              "}\n",
              "\n",
              ".sk-estimator-doc-link.fitted span {\n",
              "  /* fitted */\n",
              "  background: var(--sklearn-color-fitted-level-0);\n",
              "  border: var(--sklearn-color-fitted-level-3);\n",
              "}\n",
              "\n",
              ".sk-estimator-doc-link:hover span {\n",
              "  display: block;\n",
              "}\n",
              "\n",
              "/* \"?\"-specific style due to the `<a>` HTML tag */\n",
              "\n",
              "#sk-container-id-1 a.estimator_doc_link {\n",
              "  float: right;\n",
              "  font-size: 1rem;\n",
              "  line-height: 1em;\n",
              "  font-family: monospace;\n",
              "  background-color: var(--sklearn-color-background);\n",
              "  border-radius: 1rem;\n",
              "  height: 1rem;\n",
              "  width: 1rem;\n",
              "  text-decoration: none;\n",
              "  /* unfitted */\n",
              "  color: var(--sklearn-color-unfitted-level-1);\n",
              "  border: var(--sklearn-color-unfitted-level-1) 1pt solid;\n",
              "}\n",
              "\n",
              "#sk-container-id-1 a.estimator_doc_link.fitted {\n",
              "  /* fitted */\n",
              "  border: var(--sklearn-color-fitted-level-1) 1pt solid;\n",
              "  color: var(--sklearn-color-fitted-level-1);\n",
              "}\n",
              "\n",
              "/* On hover */\n",
              "#sk-container-id-1 a.estimator_doc_link:hover {\n",
              "  /* unfitted */\n",
              "  background-color: var(--sklearn-color-unfitted-level-3);\n",
              "  color: var(--sklearn-color-background);\n",
              "  text-decoration: none;\n",
              "}\n",
              "\n",
              "#sk-container-id-1 a.estimator_doc_link.fitted:hover {\n",
              "  /* fitted */\n",
              "  background-color: var(--sklearn-color-fitted-level-3);\n",
              "}\n",
              "</style><div id=\"sk-container-id-1\" class=\"sk-top-container\"><div class=\"sk-text-repr-fallback\"><pre>Pipeline(steps=[(&#x27;preprocessing&#x27;,\n",
              "                 ColumnTransformer(transformers=[(&#x27;num&#x27;, StandardScaler(),\n",
              "                                                  Index([&#x27;age&#x27;, &#x27;juv_fel_count&#x27;, &#x27;g_decile_score&#x27;, &#x27;juv_misd_count&#x27;,\n",
              "       &#x27;juv_other_count&#x27;, &#x27;c_jail_days&#x27;, &#x27;c_days_from_compas&#x27;, &#x27;is_recid&#x27;,\n",
              "       &#x27;is_violent_recid&#x27;, &#x27;decile_score&#x27;, &#x27;v_decile_score&#x27;, &#x27;priors_count&#x27;,\n",
              "       &#x27;start&#x27;, &#x27;end&#x27;, &#x27;event&#x27;],\n",
              "      dtype=&#x27;object&#x27;)),\n",
              "                                                 (&#x27;cat&#x27;, OneHotEncoder(),\n",
              "                                                  Index([&#x27;sex&#x27;, &#x27;age_cat&#x27;, &#x27;race&#x27;, &#x27;c_charge_degree&#x27;, &#x27;score_text&#x27;,\n",
              "       &#x27;v_score_text&#x27;],\n",
              "      dtype=&#x27;object&#x27;))])),\n",
              "                (&#x27;logistic_regression&#x27;, LogisticRegression(max_iter=1000))])</pre><b>In a Jupyter environment, please rerun this cell to show the HTML representation or trust the notebook. <br />On GitHub, the HTML representation is unable to render, please try loading this page with nbviewer.org.</b></div><div class=\"sk-container\" hidden><div class=\"sk-item sk-dashed-wrapped\"><div class=\"sk-label-container\"><div class=\"sk-label fitted sk-toggleable\"><input class=\"sk-toggleable__control sk-hidden--visually\" id=\"sk-estimator-id-1\" type=\"checkbox\" ><label for=\"sk-estimator-id-1\" class=\"sk-toggleable__label fitted sk-toggleable__label-arrow fitted\">&nbsp;&nbsp;Pipeline<a class=\"sk-estimator-doc-link fitted\" rel=\"noreferrer\" target=\"_blank\" href=\"https://scikit-learn.org/1.5/modules/generated/sklearn.pipeline.Pipeline.html\">?<span>Documentation for Pipeline</span></a><span class=\"sk-estimator-doc-link fitted\">i<span>Fitted</span></span></label><div class=\"sk-toggleable__content fitted\"><pre>Pipeline(steps=[(&#x27;preprocessing&#x27;,\n",
              "                 ColumnTransformer(transformers=[(&#x27;num&#x27;, StandardScaler(),\n",
              "                                                  Index([&#x27;age&#x27;, &#x27;juv_fel_count&#x27;, &#x27;g_decile_score&#x27;, &#x27;juv_misd_count&#x27;,\n",
              "       &#x27;juv_other_count&#x27;, &#x27;c_jail_days&#x27;, &#x27;c_days_from_compas&#x27;, &#x27;is_recid&#x27;,\n",
              "       &#x27;is_violent_recid&#x27;, &#x27;decile_score&#x27;, &#x27;v_decile_score&#x27;, &#x27;priors_count&#x27;,\n",
              "       &#x27;start&#x27;, &#x27;end&#x27;, &#x27;event&#x27;],\n",
              "      dtype=&#x27;object&#x27;)),\n",
              "                                                 (&#x27;cat&#x27;, OneHotEncoder(),\n",
              "                                                  Index([&#x27;sex&#x27;, &#x27;age_cat&#x27;, &#x27;race&#x27;, &#x27;c_charge_degree&#x27;, &#x27;score_text&#x27;,\n",
              "       &#x27;v_score_text&#x27;],\n",
              "      dtype=&#x27;object&#x27;))])),\n",
              "                (&#x27;logistic_regression&#x27;, LogisticRegression(max_iter=1000))])</pre></div> </div></div><div class=\"sk-serial\"><div class=\"sk-item sk-dashed-wrapped\"><div class=\"sk-label-container\"><div class=\"sk-label fitted sk-toggleable\"><input class=\"sk-toggleable__control sk-hidden--visually\" id=\"sk-estimator-id-2\" type=\"checkbox\" ><label for=\"sk-estimator-id-2\" class=\"sk-toggleable__label fitted sk-toggleable__label-arrow fitted\">&nbsp;preprocessing: ColumnTransformer<a class=\"sk-estimator-doc-link fitted\" rel=\"noreferrer\" target=\"_blank\" href=\"https://scikit-learn.org/1.5/modules/generated/sklearn.compose.ColumnTransformer.html\">?<span>Documentation for preprocessing: ColumnTransformer</span></a></label><div class=\"sk-toggleable__content fitted\"><pre>ColumnTransformer(transformers=[(&#x27;num&#x27;, StandardScaler(),\n",
              "                                 Index([&#x27;age&#x27;, &#x27;juv_fel_count&#x27;, &#x27;g_decile_score&#x27;, &#x27;juv_misd_count&#x27;,\n",
              "       &#x27;juv_other_count&#x27;, &#x27;c_jail_days&#x27;, &#x27;c_days_from_compas&#x27;, &#x27;is_recid&#x27;,\n",
              "       &#x27;is_violent_recid&#x27;, &#x27;decile_score&#x27;, &#x27;v_decile_score&#x27;, &#x27;priors_count&#x27;,\n",
              "       &#x27;start&#x27;, &#x27;end&#x27;, &#x27;event&#x27;],\n",
              "      dtype=&#x27;object&#x27;)),\n",
              "                                (&#x27;cat&#x27;, OneHotEncoder(),\n",
              "                                 Index([&#x27;sex&#x27;, &#x27;age_cat&#x27;, &#x27;race&#x27;, &#x27;c_charge_degree&#x27;, &#x27;score_text&#x27;,\n",
              "       &#x27;v_score_text&#x27;],\n",
              "      dtype=&#x27;object&#x27;))])</pre></div> </div></div><div class=\"sk-parallel\"><div class=\"sk-parallel-item\"><div class=\"sk-item\"><div class=\"sk-label-container\"><div class=\"sk-label fitted sk-toggleable\"><input class=\"sk-toggleable__control sk-hidden--visually\" id=\"sk-estimator-id-3\" type=\"checkbox\" ><label for=\"sk-estimator-id-3\" class=\"sk-toggleable__label fitted sk-toggleable__label-arrow fitted\">num</label><div class=\"sk-toggleable__content fitted\"><pre>Index([&#x27;age&#x27;, &#x27;juv_fel_count&#x27;, &#x27;g_decile_score&#x27;, &#x27;juv_misd_count&#x27;,\n",
              "       &#x27;juv_other_count&#x27;, &#x27;c_jail_days&#x27;, &#x27;c_days_from_compas&#x27;, &#x27;is_recid&#x27;,\n",
              "       &#x27;is_violent_recid&#x27;, &#x27;decile_score&#x27;, &#x27;v_decile_score&#x27;, &#x27;priors_count&#x27;,\n",
              "       &#x27;start&#x27;, &#x27;end&#x27;, &#x27;event&#x27;],\n",
              "      dtype=&#x27;object&#x27;)</pre></div> </div></div><div class=\"sk-serial\"><div class=\"sk-item\"><div class=\"sk-estimator fitted sk-toggleable\"><input class=\"sk-toggleable__control sk-hidden--visually\" id=\"sk-estimator-id-4\" type=\"checkbox\" ><label for=\"sk-estimator-id-4\" class=\"sk-toggleable__label fitted sk-toggleable__label-arrow fitted\">&nbsp;StandardScaler<a class=\"sk-estimator-doc-link fitted\" rel=\"noreferrer\" target=\"_blank\" href=\"https://scikit-learn.org/1.5/modules/generated/sklearn.preprocessing.StandardScaler.html\">?<span>Documentation for StandardScaler</span></a></label><div class=\"sk-toggleable__content fitted\"><pre>StandardScaler()</pre></div> </div></div></div></div></div><div class=\"sk-parallel-item\"><div class=\"sk-item\"><div class=\"sk-label-container\"><div class=\"sk-label fitted sk-toggleable\"><input class=\"sk-toggleable__control sk-hidden--visually\" id=\"sk-estimator-id-5\" type=\"checkbox\" ><label for=\"sk-estimator-id-5\" class=\"sk-toggleable__label fitted sk-toggleable__label-arrow fitted\">cat</label><div class=\"sk-toggleable__content fitted\"><pre>Index([&#x27;sex&#x27;, &#x27;age_cat&#x27;, &#x27;race&#x27;, &#x27;c_charge_degree&#x27;, &#x27;score_text&#x27;,\n",
              "       &#x27;v_score_text&#x27;],\n",
              "      dtype=&#x27;object&#x27;)</pre></div> </div></div><div class=\"sk-serial\"><div class=\"sk-item\"><div class=\"sk-estimator fitted sk-toggleable\"><input class=\"sk-toggleable__control sk-hidden--visually\" id=\"sk-estimator-id-6\" type=\"checkbox\" ><label for=\"sk-estimator-id-6\" class=\"sk-toggleable__label fitted sk-toggleable__label-arrow fitted\">&nbsp;OneHotEncoder<a class=\"sk-estimator-doc-link fitted\" rel=\"noreferrer\" target=\"_blank\" href=\"https://scikit-learn.org/1.5/modules/generated/sklearn.preprocessing.OneHotEncoder.html\">?<span>Documentation for OneHotEncoder</span></a></label><div class=\"sk-toggleable__content fitted\"><pre>OneHotEncoder()</pre></div> </div></div></div></div></div></div></div><div class=\"sk-item\"><div class=\"sk-estimator fitted sk-toggleable\"><input class=\"sk-toggleable__control sk-hidden--visually\" id=\"sk-estimator-id-7\" type=\"checkbox\" ><label for=\"sk-estimator-id-7\" class=\"sk-toggleable__label fitted sk-toggleable__label-arrow fitted\">&nbsp;LogisticRegression<a class=\"sk-estimator-doc-link fitted\" rel=\"noreferrer\" target=\"_blank\" href=\"https://scikit-learn.org/1.5/modules/generated/sklearn.linear_model.LogisticRegression.html\">?<span>Documentation for LogisticRegression</span></a></label><div class=\"sk-toggleable__content fitted\"><pre>LogisticRegression(max_iter=1000)</pre></div> </div></div></div></div></div></div>"
            ]
          },
          "metadata": {},
          "execution_count": 99
        }
      ]
    },
    {
      "cell_type": "markdown",
      "source": [
        "The pipeline which includes preprocessing, and logistic regression has been successfully fitted to the training data."
      ],
      "metadata": {
        "id": "qZzepO007Au2"
      }
    },
    {
      "cell_type": "code",
      "execution_count": 101,
      "metadata": {
        "id": "Ok-eREU0xbAD",
        "colab": {
          "base_uri": "https://localhost:8080/"
        },
        "outputId": "a1829a73-1477-4870-fd9c-d3f185f22193"
      },
      "outputs": [
        {
          "output_type": "execute_result",
          "data": {
            "text/plain": [
              "(array([2.25774432e-06, 9.95931125e-01, 9.97807681e-01, 3.51779293e-01,\n",
              "        9.40490624e-07]),\n",
              " array([0, 1, 1, 0, 0]))"
            ]
          },
          "metadata": {},
          "execution_count": 101
        }
      ],
      "source": [
        "# Predict the probabilities and labels for the test set\n",
        "Y_pred_proba = unmitigated_pipeline.predict_proba(X_test)[:,1]\n",
        "Y_pred = unmitigated_pipeline.predict(X_test)\n",
        "\n",
        "# display the first 5 probabilities and predictions\n",
        "Y_pred_proba[:5], Y_pred[:5]"
      ]
    },
    {
      "cell_type": "markdown",
      "metadata": {
        "id": "nkA0K8KV0HeD"
      },
      "source": [
        "Check model performance on test data."
      ]
    },
    {
      "cell_type": "code",
      "source": [
        "# Plot ROC curve of probabilistic predictions\n",
        "\n",
        "import sklearn.metrics as metrics\n",
        "\n",
        "# Compute ROC curve and ROC area for the test set predictions\n",
        "\n",
        "fpr, tpr, thresholds = metrics.roc_curve(Y_test, Y_pred_proba)\n",
        "roc_auc = metrics.auc(fpr, tpr)\n",
        "\n",
        "# plot ROC curve\n",
        "plt.figure(figsize=(10,6))\n",
        "metrics.RocCurveDisplay(fpr=fpr, tpr=tpr, roc_auc=roc_auc, estimator_name='Logistic Regression').plot()\n",
        "plt.title('ROC Curve')\n",
        "plt.xlabel('False Positive Rate')\n",
        "plt.ylabel('True Positive Rate')"
      ],
      "metadata": {
        "colab": {
          "base_uri": "https://localhost:8080/",
          "height": 515
        },
        "id": "3MSBSwuFjbMI",
        "outputId": "b3d79999-f3c1-478f-d2bb-f11b2acabc9e"
      },
      "execution_count": 103,
      "outputs": [
        {
          "output_type": "execute_result",
          "data": {
            "text/plain": [
              "Text(0, 0.5, 'True Positive Rate')"
            ]
          },
          "metadata": {},
          "execution_count": 103
        },
        {
          "output_type": "display_data",
          "data": {
            "text/plain": [
              "<Figure size 1000x600 with 0 Axes>"
            ]
          },
          "metadata": {}
        },
        {
          "output_type": "display_data",
          "data": {
            "text/plain": [
              "<Figure size 640x480 with 1 Axes>"
            ],
            "image/png": "[encoded data removed]"
          },
          "metadata": {}
        }
      ]
    },
    {
      "cell_type": "code",
      "source": [
        "The FPR represents the of actual negatives incorrectly identified as positives by the model. the diagonal line from (0,0) to (1,1) represents  a perfect classifier.\n",
        "any point above this line indicates a better than random classifier wjile points below indicate a worse than random perfomance. In this case the Area under the curve\n",
        "follows the left hand norder and then the top borde of the ROC space, the higher the AUC and the better the model is at distinguishing between positive and negatine classes.\n",
        "the ROC curve is well above the the diagonal line indicating that the model performs better than random guessing."
      ],
      "metadata": {
        "id": "hfupjguO-RBW"
      },
      "execution_count": null,
      "outputs": []
    },
    {
      "cell_type": "code",
      "execution_count": 104,
      "metadata": {
        "id": "pxYppCAy1owq",
        "colab": {
          "base_uri": "https://localhost:8080/"
        },
        "outputId": "298bb33e-615a-40ec-fe87-f056fc3cd48b"
      },
      "outputs": [
        {
          "output_type": "execute_result",
          "data": {
            "text/plain": [
              "0.9865735700867766"
            ]
          },
          "metadata": {},
          "execution_count": 104
        }
      ],
      "source": [
        "# Show balanced accuracy rate of the 0/1 predictions\n",
        "balanced_accuracy_score(Y_test, Y_pred)"
      ]
    },
    {
      "cell_type": "markdown",
      "metadata": {
        "id": "jmWrDs5N2HVD"
      },
      "source": [
        "As we see, the performance of the model is well above the performance of a coin flip (whose performance would be 0.5 in both cases), albeit it is quite far from a perfect classifier (whose performance would be 1.0 in both cases).\n"
      ]
    },
    {
      "cell_type": "code",
      "source": [
        "cm = confusion_matrix(Y_test, Y_pred)\n",
        "print(cm)"
      ],
      "metadata": {
        "colab": {
          "base_uri": "https://localhost:8080/"
        },
        "id": "cZT-kq9s2Bp_",
        "outputId": "0c3ef2d5-1856-4279-fcbc-a1841dddeda7"
      },
      "execution_count": 105,
      "outputs": [
        {
          "output_type": "stream",
          "name": "stdout",
          "text": [
            "[[1942   36]\n",
            " [  14 1604]]\n"
          ]
        }
      ]
    },
    {
      "cell_type": "code",
      "source": [
        "# Display the confusion matrix\n",
        "target_names = ['recid_0', 'recid_1']\n",
        "\n",
        "disp = ConfusionMatrixDisplay(confusion_matrix=cm, display_labels=target_names)\n",
        "disp.plot(cmap=plt.cm.Blues)\n",
        "plt.show()"
      ],
      "metadata": {
        "colab": {
          "base_uri": "https://localhost:8080/",
          "height": 459
        },
        "id": "M50Db-Lr2cKJ",
        "outputId": "fd538b13-bba3-4097-ef8e-ae8c5f75c13e"
      },
      "execution_count": 107,
      "outputs": [
        {
          "output_type": "display_data",
          "data": {
            "text/plain": [
              "<Figure size 640x480 with 2 Axes>"
            ],
            "image/png": "[encoded data removed]"
          },
          "metadata": {}
        }
      ]
    },
    {
      "cell_type": "markdown",
      "metadata": {
        "id": "AmhwS1Z9VnK9"
      },
      "source": [
        "## Inspect the coefficients of trained model\n",
        "\n",
        "We check the coefficients of the fitted model to make sure that they \"makes sense\". While subjective, this step is important and helps catch mistakes and might point out to some fairness issues. However, we will systematically assess the fairness of the model in the next section.\n",
        "\n",
        "*Note that coefficients are also a proxy for \"feature importance\", but this interpretation can be misleading when features are highly correlated.*"
      ]
    },
    {
      "cell_type": "code",
      "source": [
        "print(len(unmitigated_pipeline.named_steps[\"logistic_regression\"].coef_[0]))"
      ],
      "metadata": {
        "colab": {
          "base_uri": "https://localhost:8080/"
        },
        "id": "atk0jjzqx375",
        "outputId": "ab275784-6276-466d-d016-8269476768d2"
      },
      "execution_count": 101,
      "outputs": [
        {
          "output_type": "stream",
          "name": "stdout",
          "text": [
            "34\n"
          ]
        }
      ]
    },
    {
      "cell_type": "code",
      "source": [
        "X_transformed = unmitigated_pipeline.named_steps[\"preprocessing\"].transform(X)\n",
        "# Get the featurenames frm the preprocessing step\n",
        "feature_names = unmitigated_pipeline.named_steps[\"preprocessing\"].get_feature_names_out()\n"
      ],
      "metadata": {
        "id": "ZHRQPKDoyGDS"
      },
      "execution_count": 102,
      "outputs": []
    },
    {
      "cell_type": "code",
      "source": [
        "# Create the Series with aligned values and index\n",
        "coef_series = pd.Series(data=unmitigated_pipeline.named_steps[\"logistic_regression\"].coef_[0], index=feature_names)\n",
        "\n",
        "# Plot the coefficients\n",
        "coef_series.sort_values().plot.barh(figsize=(4, 12), legend=False)"
      ],
      "metadata": {
        "colab": {
          "base_uri": "https://localhost:8080/",
          "height": 1000
        },
        "id": "YTXy_Mgvz2Ns",
        "outputId": "a5cc5cb2-aee6-45b4-af34-e46b7e3a6833"
      },
      "execution_count": 103,
      "outputs": [
        {
          "output_type": "execute_result",
          "data": {
            "text/plain": [
              "<Axes: >"
            ]
          },
          "metadata": {},
          "execution_count": 103
        },
        {
          "output_type": "display_data",
          "data": {
            "text/plain": [
              "<Figure size 400x1200 with 1 Axes>"
            ],
            "image/png": "[encoded data removed]"
          },
          "metadata": {}
        }
      ]
    },
    {
      "cell_type": "markdown",
      "source": [],
      "metadata": {
        "id": "BXTrFmRHm0OF"
      }
    },
    {
      "cell_type": "markdown",
      "metadata": {
        "id": "hX8CrWjhD7MB"
      },
      "source": [
        "# **Fairness assessment**"
      ]
    },
    {
      "cell_type": "markdown",
      "metadata": {
        "id": "0CS9-jaxtxh2"
      },
      "source": [
        "## Measuring fairness-related harms\n",
        "\n",
        "\n",
        "\n"
      ]
    },
    {
      "cell_type": "markdown",
      "metadata": {
        "id": "s8TMm9w8duVY"
      },
      "source": [
        "The goal of fairness assessment is to answer the question: *Which groups of people may be disproportionately negatively impacted by an AI system and in what ways?*\n",
        "\n",
        "The steps of the assesment are as follows:\n",
        "1. Identify harms\n",
        "2. Identify the groups that might be harmed\n",
        "3. Quantify harms\n",
        "4. Compare quantified harms across the groups\n",
        "\n",
        "We next examine these four steps in more detail."
      ]
    },
    {
      "cell_type": "markdown",
      "metadata": {
        "id": "X6hMFmzmPbL6"
      },
      "source": [
        "### 1. Identify harms\n",
        "\n",
        "For example, in a system for screening job applications, qualified candidates that are automatically rejected experience an allocation harm. In a speech-to-text transcription system, high error rates constitute harm in the quality of service.\n",
        "\n",
        "**In the criminal justice scenario**, the defendants that would benefit from a fair recidivism score, but are scored high therefore getting longer sentences, experience an allocation harm. In the context of the classification scenario these are **FALSE POSITIVES**."
      ]
    },
    {
      "cell_type": "markdown",
      "metadata": {
        "id": "aqqUk1mjPnpM"
      },
      "source": [
        "### 2. Identify the groups that might be harmed\n",
        "\n",
        "In most applications, we consider demographic groups including historically marginalized groups (e.g., based on gender, race, ethnicity). We should also consider groups that are relevant to a particular application. For example, for speech-to-text transcription, groups based on the regional dialect or being a native or a non-native speaker.\n",
        "\n",
        "It is also important to consider group intersections, for example, in addition to considering groups according to gender and groups according to race, it is also important to consider their intersections (e.g., Black women, Latinx nonbinary people, etc.).\n",
        "\n",
        "**In the criminal justice scenario**, based on the previous work, we focus on groups defined by **RACE**."
      ]
    },
    {
      "cell_type": "markdown",
      "metadata": {
        "id": "nmvSqI3dPrVk"
      },
      "source": [
        "### 3. Quantify harms\n",
        "\n",
        "Define metrics that quantify harms or benefits:\n",
        "\n",
        "* In job screening scenario, we need to quantify the number of candidates that are classified as \"negative\" (not recommended for the job), but whose true label is \"positive\" (they are qualified). One possible metric is the **false negative rate**: fraction of qualified candidates that are screened out.\n",
        "\n",
        "* In speech-to-text scenario, the harm could be measured by **word error rate**, number of mistakes in a transcript divided by the overall number of words.\n",
        "\n",
        "* **In the health care scenario**, we could consider two metrics for quantifying harms / benefits:\n",
        "  * **positive rate**: fraction of defendants that do not recidivate  within 2 years (low risk), but that were scored as likely to recid; this quantifies harm\n",
        "  * **selection rate**: overall fraction of defendants that are scored as low risk of recidivism (regardless of whether they recid or not); this quantifies benefit; here the assumption is that all defendants benefit similarly from the scoring.\n",
        "\n",
        "There are several reasons for including selection rate in addition to false positive rate. We would like to monitor how the benefits are allocated, focusing on groups that might be disadvantaged. Another reason is to get extra robustness in our assessement, because our measure (i.e., recidivism within 2 years) is only an imperfect measure of our construct (greatest benefit from a fairer risk assessment). The auxiliary metrics, like selection rate, may alert us to large disparities in how the benefit is allocated, and allow us to catch issues that we might have missed.\n"
      ]
    },
    {
      "cell_type": "markdown",
      "metadata": {
        "id": "fpJXt6miPvRX"
      },
      "source": [
        "### 4. Compare quantified harms across the groups\n",
        "\n",
        "The workhorse of fairness assessment are _disaggregated metrics_, which are **metrics evaluated on slices of data**. For example, to measure harms due to errors, we would begin by evaluating the errors on each slice of the data that corresponds to a group we identified in Step 2.\n",
        "If some of the groups are seeing much larger errors than other groups, we would flag this as a fairness harm.\n",
        "\n",
        "To summarize the disparities in errors (or other metrics), we may want to report quantities such as the **difference** or **ratio** of the metric values between the best and the worst slice. In settings where the goal is to guarantee certain minimum quality of service (such as speech recognition), it is also meaningful to report the **worst performance** across all considered groups.\n",
        "\n"
      ]
    },
    {
      "cell_type": "markdown",
      "metadata": {
        "id": "7Is_zdXvnW0s"
      },
      "source": [
        "For example, when comparing false positive rate across groups defined by race, we may summarize our findings with a table like the following:\n",
        "\n",
        "| | false positive rate<br>(FPR) |\n",
        "|---|---|\n",
        "| AfricanAmerican | 0.43 |\n",
        "| Caucasian | 0.44 |\n",
        "| Other | 0.52 |\n",
        "| Unknown | 0.67 |\n",
        "| | |\n",
        "|_largest difference_| 0.24 &nbsp;&nbsp;(best is 0.0)|\n",
        "|_smallest ratio_| 0.64 &nbsp;&nbsp;(best is 1.0)|\n",
        "|_maximum_<br>_(worst-case) FPR_|0.67|"
      ]
    },
    {
      "cell_type": "markdown",
      "metadata": {
        "id": "9CjHlopBDgSG"
      },
      "source": [
        "## Fairness assessment with Fairlearn `MetricFrame` and Aequitas toolkits"
      ]
    },
    {
      "cell_type": "markdown",
      "metadata": {
        "id": "epJO2baHV2Dy"
      },
      "source": [
        "Fairlearn provides the data structure called `MetricFrame` to enable evaluation of disaggregated metrics. We will show how to use a `MetricFrame` object to assess the trained `LogisticRegression` classifier for potential fairness-related harms.\n",
        "\n"
      ]
    },
    {
      "cell_type": "code",
      "execution_count": 125,
      "metadata": {
        "id": "0iiAYRvoduPh",
        "colab": {
          "base_uri": "https://localhost:8080/"
        },
        "outputId": "8d9b448d-8ec2-41a4-808a-f50f35b81b58"
      },
      "outputs": [
        {
          "output_type": "execute_result",
          "data": {
            "text/plain": [
              "race\n",
              "African-American   0.024\n",
              "Asian              0.000\n",
              "Caucasian          0.016\n",
              "Hispanic           0.010\n",
              "Native American    0.000\n",
              "Other              0.008\n",
              "Name: false_positive_rate, dtype: object"
            ]
          },
          "metadata": {},
          "execution_count": 125
        }
      ],
      "source": [
        "# In its simplest form MetricFrame takes four arguments:\n",
        "#    metric_function with signature metric_function(y_true, y_pred)\n",
        "#    y_true: array of labels\n",
        "#    y_pred: array of predictions\n",
        "#    sensitive_features: array of sensitive feature values\n",
        "\n",
        "mf1 = MetricFrame(metrics=false_positive_rate,\n",
        "                  y_true=Y_test,\n",
        "                  y_pred=Y_pred,\n",
        "                  sensitive_features=df_test['race'])\n",
        "\n",
        "# The disaggregated metrics are stored in a pandas Series mf1.by_group:\n",
        "\n",
        "mf1.by_group"
      ]
    },
    {
      "cell_type": "code",
      "execution_count": 126,
      "metadata": {
        "id": "5tl1Qxt1fT2v",
        "colab": {
          "base_uri": "https://localhost:8080/",
          "height": 356
        },
        "outputId": "861cf8f4-449a-4045-d91c-ff26e9c0df85"
      },
      "outputs": [
        {
          "output_type": "error",
          "ename": "TypeError",
          "evalue": "max() got an unexpected keyword argument 'level'",
          "traceback": [
            "\u001b[0;31m---------------------------------------------------------------------------\u001b[0m",
            "\u001b[0;31mTypeError\u001b[0m                                 Traceback (most recent call last)",
            "\u001b[0;32m<ipython-input-126-f9e7602056fd>\u001b[0m in \u001b[0;36m<cell line: 4>\u001b[0;34m()\u001b[0m\n\u001b[1;32m      2\u001b[0m \u001b[0;31m#   mf1.difference(), mf1.ratio(), mf1.group_max()\u001b[0m\u001b[0;34m\u001b[0m\u001b[0;34m\u001b[0m\u001b[0m\n\u001b[1;32m      3\u001b[0m \u001b[0;34m\u001b[0m\u001b[0m\n\u001b[0;32m----> 4\u001b[0;31m print(f\"difference: {mf1.difference():.3}\\n\"\n\u001b[0m\u001b[1;32m      5\u001b[0m       \u001b[0;34mf\"ratio: {mf1.ratio():.3}\\n\"\u001b[0m\u001b[0;34m\u001b[0m\u001b[0;34m\u001b[0m\u001b[0m\n\u001b[1;32m      6\u001b[0m       f\"max across groups: {mf1.group_max():.3}\")\n",
            "\u001b[0;32m/usr/local/lib/python3.10/dist-packages/fairlearn/metrics/_metric_frame.py\u001b[0m in \u001b[0;36mdifference\u001b[0;34m(self, method)\u001b[0m\n\u001b[1;32m    476\u001b[0m         \u001b[0msensitive\u001b[0m \u001b[0;32mand\u001b[0m \u001b[0mcontrol\u001b[0m \u001b[0mfeatures\u001b[0m\u001b[0;34m.\u001b[0m \u001b[0mThe\u001b[0m \u001b[0mexact\u001b[0m \u001b[0mtype\u001b[0m \u001b[0mdepends\u001b[0m \u001b[0mon\u001b[0m\u001b[0;34m\u001b[0m\u001b[0;34m\u001b[0m\u001b[0m\n\u001b[1;32m    477\u001b[0m         \u001b[0mthe\u001b[0m \u001b[0mspecification\u001b[0m \u001b[0mof\u001b[0m \u001b[0mthe\u001b[0m \u001b[0mmetric\u001b[0m \u001b[0mfunction\u001b[0m\u001b[0;34m.\u001b[0m\u001b[0;34m\u001b[0m\u001b[0;34m\u001b[0m\u001b[0m\n\u001b[0;32m--> 478\u001b[0;31m \u001b[0;34m\u001b[0m\u001b[0m\n\u001b[0m\u001b[1;32m    479\u001b[0m         \u001b[0mRead\u001b[0m \u001b[0mmore\u001b[0m \u001b[0;32min\u001b[0m \u001b[0mthe\u001b[0m \u001b[0;34m:\u001b[0m\u001b[0mref\u001b[0m\u001b[0;34m:\u001b[0m\u001b[0;31m`\u001b[0m\u001b[0mUser\u001b[0m \u001b[0mGuide\u001b[0m \u001b[0;34m<\u001b[0m\u001b[0massessment_quantify_harms\u001b[0m\u001b[0;34m>\u001b[0m\u001b[0;31m`\u001b[0m\u001b[0;34m.\u001b[0m\u001b[0;34m\u001b[0m\u001b[0;34m\u001b[0m\u001b[0m\n\u001b[1;32m    480\u001b[0m \u001b[0;34m\u001b[0m\u001b[0m\n",
            "\u001b[0;32m/usr/local/lib/python3.10/dist-packages/pandas/core/generic.py\u001b[0m in \u001b[0;36mmax\u001b[0;34m(self, axis, skipna, numeric_only, **kwargs)\u001b[0m\n\u001b[1;32m  11644\u001b[0m             \u001b[0;34m**\u001b[0m\u001b[0mkwargs\u001b[0m\u001b[0;34m,\u001b[0m\u001b[0;34m\u001b[0m\u001b[0;34m\u001b[0m\u001b[0m\n\u001b[1;32m  11645\u001b[0m         ):\n\u001b[0;32m> 11646\u001b[0;31m             \u001b[0;32mreturn\u001b[0m \u001b[0mNDFrame\u001b[0m\u001b[0;34m.\u001b[0m\u001b[0mmax\u001b[0m\u001b[0;34m(\u001b[0m\u001b[0mself\u001b[0m\u001b[0;34m,\u001b[0m \u001b[0maxis\u001b[0m\u001b[0;34m,\u001b[0m \u001b[0mskipna\u001b[0m\u001b[0;34m,\u001b[0m \u001b[0mnumeric_only\u001b[0m\u001b[0;34m,\u001b[0m \u001b[0;34m**\u001b[0m\u001b[0mkwargs\u001b[0m\u001b[0;34m)\u001b[0m\u001b[0;34m\u001b[0m\u001b[0;34m\u001b[0m\u001b[0m\n\u001b[0m\u001b[1;32m  11647\u001b[0m \u001b[0;34m\u001b[0m\u001b[0m\n\u001b[1;32m  11648\u001b[0m         \u001b[0msetattr\u001b[0m\u001b[0;34m(\u001b[0m\u001b[0mcls\u001b[0m\u001b[0;34m,\u001b[0m \u001b[0;34m\"max\"\u001b[0m\u001b[0;34m,\u001b[0m \u001b[0mmax\u001b[0m\u001b[0;34m)\u001b[0m\u001b[0;34m\u001b[0m\u001b[0;34m\u001b[0m\u001b[0m\n",
            "\u001b[0;32m/usr/local/lib/python3.10/dist-packages/pandas/core/generic.py\u001b[0m in \u001b[0;36mmax\u001b[0;34m(self, axis, skipna, numeric_only, **kwargs)\u001b[0m\n\u001b[1;32m  11183\u001b[0m         \u001b[0;34m**\u001b[0m\u001b[0mkwargs\u001b[0m\u001b[0;34m,\u001b[0m\u001b[0;34m\u001b[0m\u001b[0;34m\u001b[0m\u001b[0m\n\u001b[1;32m  11184\u001b[0m     ):\n\u001b[0;32m> 11185\u001b[0;31m         return self._stat_function(\n\u001b[0m\u001b[1;32m  11186\u001b[0m             \u001b[0;34m\"max\"\u001b[0m\u001b[0;34m,\u001b[0m\u001b[0;34m\u001b[0m\u001b[0;34m\u001b[0m\u001b[0m\n\u001b[1;32m  11187\u001b[0m             \u001b[0mnanops\u001b[0m\u001b[0;34m.\u001b[0m\u001b[0mnanmax\u001b[0m\u001b[0;34m,\u001b[0m\u001b[0;34m\u001b[0m\u001b[0;34m\u001b[0m\u001b[0m\n",
            "\u001b[0;32m/usr/local/lib/python3.10/dist-packages/pandas/core/generic.py\u001b[0m in \u001b[0;36m_stat_function\u001b[0;34m(self, name, func, axis, skipna, numeric_only, **kwargs)\u001b[0m\n\u001b[1;32m  11152\u001b[0m             \u001b[0mnv\u001b[0m\u001b[0;34m.\u001b[0m\u001b[0mvalidate_median\u001b[0m\u001b[0;34m(\u001b[0m\u001b[0;34m(\u001b[0m\u001b[0;34m)\u001b[0m\u001b[0;34m,\u001b[0m \u001b[0mkwargs\u001b[0m\u001b[0;34m)\u001b[0m\u001b[0;34m\u001b[0m\u001b[0;34m\u001b[0m\u001b[0m\n\u001b[1;32m  11153\u001b[0m         \u001b[0;32melse\u001b[0m\u001b[0;34m:\u001b[0m\u001b[0;34m\u001b[0m\u001b[0;34m\u001b[0m\u001b[0m\n\u001b[0;32m> 11154\u001b[0;31m             \u001b[0mnv\u001b[0m\u001b[0;34m.\u001b[0m\u001b[0mvalidate_stat_func\u001b[0m\u001b[0;34m(\u001b[0m\u001b[0;34m(\u001b[0m\u001b[0;34m)\u001b[0m\u001b[0;34m,\u001b[0m \u001b[0mkwargs\u001b[0m\u001b[0;34m,\u001b[0m \u001b[0mfname\u001b[0m\u001b[0;34m=\u001b[0m\u001b[0mname\u001b[0m\u001b[0;34m)\u001b[0m\u001b[0;34m\u001b[0m\u001b[0;34m\u001b[0m\u001b[0m\n\u001b[0m\u001b[1;32m  11155\u001b[0m \u001b[0;34m\u001b[0m\u001b[0m\n\u001b[1;32m  11156\u001b[0m         \u001b[0mvalidate_bool_kwarg\u001b[0m\u001b[0;34m(\u001b[0m\u001b[0mskipna\u001b[0m\u001b[0;34m,\u001b[0m \u001b[0;34m\"skipna\"\u001b[0m\u001b[0;34m,\u001b[0m \u001b[0mnone_allowed\u001b[0m\u001b[0;34m=\u001b[0m\u001b[0;32mFalse\u001b[0m\u001b[0;34m)\u001b[0m\u001b[0;34m\u001b[0m\u001b[0;34m\u001b[0m\u001b[0m\n",
            "\u001b[0;32m/usr/local/lib/python3.10/dist-packages/pandas/compat/numpy/function.py\u001b[0m in \u001b[0;36m__call__\u001b[0;34m(self, args, kwargs, fname, max_fname_arg_count, method)\u001b[0m\n\u001b[1;32m     78\u001b[0m                 \u001b[0mvalidate_args\u001b[0m\u001b[0;34m(\u001b[0m\u001b[0mfname\u001b[0m\u001b[0;34m,\u001b[0m \u001b[0margs\u001b[0m\u001b[0;34m,\u001b[0m \u001b[0mmax_fname_arg_count\u001b[0m\u001b[0;34m,\u001b[0m \u001b[0mself\u001b[0m\u001b[0;34m.\u001b[0m\u001b[0mdefaults\u001b[0m\u001b[0;34m)\u001b[0m\u001b[0;34m\u001b[0m\u001b[0;34m\u001b[0m\u001b[0m\n\u001b[1;32m     79\u001b[0m             \u001b[0;32melif\u001b[0m \u001b[0mmethod\u001b[0m \u001b[0;34m==\u001b[0m \u001b[0;34m\"kwargs\"\u001b[0m\u001b[0;34m:\u001b[0m\u001b[0;34m\u001b[0m\u001b[0;34m\u001b[0m\u001b[0m\n\u001b[0;32m---> 80\u001b[0;31m                 \u001b[0mvalidate_kwargs\u001b[0m\u001b[0;34m(\u001b[0m\u001b[0mfname\u001b[0m\u001b[0;34m,\u001b[0m \u001b[0mkwargs\u001b[0m\u001b[0;34m,\u001b[0m \u001b[0mself\u001b[0m\u001b[0;34m.\u001b[0m\u001b[0mdefaults\u001b[0m\u001b[0;34m)\u001b[0m\u001b[0;34m\u001b[0m\u001b[0;34m\u001b[0m\u001b[0m\n\u001b[0m\u001b[1;32m     81\u001b[0m             \u001b[0;32melif\u001b[0m \u001b[0mmethod\u001b[0m \u001b[0;34m==\u001b[0m \u001b[0;34m\"both\"\u001b[0m\u001b[0;34m:\u001b[0m\u001b[0;34m\u001b[0m\u001b[0;34m\u001b[0m\u001b[0m\n\u001b[1;32m     82\u001b[0m                 validate_args_and_kwargs(\n",
            "\u001b[0;32m/usr/local/lib/python3.10/dist-packages/pandas/util/_validators.py\u001b[0m in \u001b[0;36mvalidate_kwargs\u001b[0;34m(fname, kwargs, compat_args)\u001b[0m\n\u001b[1;32m    160\u001b[0m     \"\"\"\n\u001b[1;32m    161\u001b[0m     \u001b[0mkwds\u001b[0m \u001b[0;34m=\u001b[0m \u001b[0mkwargs\u001b[0m\u001b[0;34m.\u001b[0m\u001b[0mcopy\u001b[0m\u001b[0;34m(\u001b[0m\u001b[0;34m)\u001b[0m\u001b[0;34m\u001b[0m\u001b[0;34m\u001b[0m\u001b[0m\n\u001b[0;32m--> 162\u001b[0;31m     \u001b[0m_check_for_invalid_keys\u001b[0m\u001b[0;34m(\u001b[0m\u001b[0mfname\u001b[0m\u001b[0;34m,\u001b[0m \u001b[0mkwargs\u001b[0m\u001b[0;34m,\u001b[0m \u001b[0mcompat_args\u001b[0m\u001b[0;34m)\u001b[0m\u001b[0;34m\u001b[0m\u001b[0;34m\u001b[0m\u001b[0m\n\u001b[0m\u001b[1;32m    163\u001b[0m     \u001b[0m_check_for_default_values\u001b[0m\u001b[0;34m(\u001b[0m\u001b[0mfname\u001b[0m\u001b[0;34m,\u001b[0m \u001b[0mkwds\u001b[0m\u001b[0;34m,\u001b[0m \u001b[0mcompat_args\u001b[0m\u001b[0;34m)\u001b[0m\u001b[0;34m\u001b[0m\u001b[0;34m\u001b[0m\u001b[0m\n\u001b[1;32m    164\u001b[0m \u001b[0;34m\u001b[0m\u001b[0m\n",
            "\u001b[0;32m/usr/local/lib/python3.10/dist-packages/pandas/util/_validators.py\u001b[0m in \u001b[0;36m_check_for_invalid_keys\u001b[0;34m(fname, kwargs, compat_args)\u001b[0m\n\u001b[1;32m    134\u001b[0m     \u001b[0;32mif\u001b[0m \u001b[0mdiff\u001b[0m\u001b[0;34m:\u001b[0m\u001b[0;34m\u001b[0m\u001b[0;34m\u001b[0m\u001b[0m\n\u001b[1;32m    135\u001b[0m         \u001b[0mbad_arg\u001b[0m \u001b[0;34m=\u001b[0m \u001b[0mlist\u001b[0m\u001b[0;34m(\u001b[0m\u001b[0mdiff\u001b[0m\u001b[0;34m)\u001b[0m\u001b[0;34m[\u001b[0m\u001b[0;36m0\u001b[0m\u001b[0;34m]\u001b[0m\u001b[0;34m\u001b[0m\u001b[0;34m\u001b[0m\u001b[0m\n\u001b[0;32m--> 136\u001b[0;31m         \u001b[0;32mraise\u001b[0m \u001b[0mTypeError\u001b[0m\u001b[0;34m(\u001b[0m\u001b[0;34mf\"{fname}() got an unexpected keyword argument '{bad_arg}'\"\u001b[0m\u001b[0;34m)\u001b[0m\u001b[0;34m\u001b[0m\u001b[0;34m\u001b[0m\u001b[0m\n\u001b[0m\u001b[1;32m    137\u001b[0m \u001b[0;34m\u001b[0m\u001b[0m\n\u001b[1;32m    138\u001b[0m \u001b[0;34m\u001b[0m\u001b[0m\n",
            "\u001b[0;31mTypeError\u001b[0m: max() got an unexpected keyword argument 'level'"
          ]
        }
      ],
      "source": [
        "# The largest difference, smallest ratio and worst-case performance are accessed as\n",
        "#   mf1.difference(), mf1.ratio(), mf1.group_max()\n",
        "\n",
        "print(f\"difference: {mf1.difference():.3}\\n\"\n",
        "      f\"ratio: {mf1.ratio():.3}\\n\"\n",
        "      f\"max across groups: {mf1.group_max():.3}\")"
      ]
    },
    {
      "cell_type": "code",
      "execution_count": 122,
      "metadata": {
        "id": "R2zmBHo5gk-F",
        "colab": {
          "base_uri": "https://localhost:8080/"
        },
        "outputId": "e829a22d-1de5-4e3e-b058-89a4aaa1199d"
      },
      "outputs": [
        {
          "output_type": "stream",
          "name": "stdout",
          "text": [
            "selection_rate\n",
            "race\n",
            "African-American   0.509\n",
            "Asian              0.261\n",
            "Caucasian          0.411\n",
            "Hispanic           0.393\n",
            "Native American    0.500\n",
            "Other              0.353\n",
            "Name: selection_rate, dtype: object\n",
            "false_positive_rate\n",
            "race\n",
            "African-American   0.024\n",
            "Asian              0.000\n",
            "Caucasian          0.016\n",
            "Hispanic           0.010\n",
            "Native American    0.000\n",
            "Other              0.008\n",
            "Name: false_positive_rate, dtype: object\n",
            "balanced_accuracy\n",
            "race\n",
            "African-American   0.984\n",
            "Asian              1.000\n",
            "Caucasian          0.988\n",
            "Hispanic           0.995\n",
            "Native American    1.000\n",
            "Other              0.982\n",
            "Name: balanced_accuracy, dtype: object\n",
            "recall_score\n",
            "race\n",
            "African-American   0.991\n",
            "Asian              1.000\n",
            "Caucasian          0.992\n",
            "Hispanic           1.000\n",
            "Native American    1.000\n",
            "Other              0.972\n",
            "Name: recall_score, dtype: object\n",
            "\n",
            " difference in selection rate by group\n",
            "0.247987117552335\n",
            "\n",
            " difference in false positive rate by group\n",
            "0.023681377825618945\n"
          ]
        }
      ],
      "source": [
        "# You can also evaluate multiple metrics by providing a dictionary\n",
        "\n",
        "metrics_dict = {\n",
        "    \"selection_rate\": selection_rate,\n",
        "    \"false_positive_rate\": false_positive_rate,\n",
        "    \"balanced_accuracy\": balanced_accuracy_score,\n",
        "    \"recall_score\": recall_score\n",
        "}\n",
        "\n",
        "metricframe_unmitigated = MetricFrame(metrics=metrics_dict,\n",
        "                  y_true=Y_test,\n",
        "                  y_pred=Y_pred,\n",
        "                  sensitive_features=df_test['race'])\n",
        "\n",
        "# retrive the disaggregated metrics by group\n",
        "selection_rate_by_group = metricframe_unmitigated.by_group['selection_rate']\n",
        "fpr_by_group = metricframe_unmitigated.by_group['false_positive_rate']\n",
        "balanced_accuracy_by_group = metricframe_unmitigated.by_group['balanced_accuracy']\n",
        "recall_by_group = metricframe_unmitigated.by_group['recall_score']\n",
        "\n",
        "# print the disaggregated metrics\n",
        "print(\"selection_rate\")\n",
        "print(selection_rate_by_group)\n",
        "print(\"false_positive_rate\")\n",
        "print(fpr_by_group)\n",
        "print(\"balanced_accuracy\")\n",
        "print(balanced_accuracy_by_group)\n",
        "print(\"recall_score\")\n",
        "print(recall_by_group)\n",
        "\n",
        "# differences\n",
        "selection_rate_difference = selection_rate_by_group.max() - selection_rate_by_group.min() # compute and print the differences\n",
        "fpr_difference = fpr_by_group.max() - fpr_by_group.min()\n",
        "\n",
        "print(\"\\n difference in selection rate by group\")\n",
        "print(selection_rate_difference)\n",
        "print(\"\\n difference in false positive rate by group\")\n",
        "print(fpr_difference)"
      ]
    },
    {
      "cell_type": "code",
      "execution_count": 127,
      "metadata": {
        "id": "Hc29jRJrhlSC",
        "colab": {
          "base_uri": "https://localhost:8080/",
          "height": 321
        },
        "outputId": "4bbad664-1826-4552-9277-78a4c59e4c88"
      },
      "outputs": [
        {
          "output_type": "error",
          "ename": "TypeError",
          "evalue": "max() got an unexpected keyword argument 'level'",
          "traceback": [
            "\u001b[0;31m---------------------------------------------------------------------------\u001b[0m",
            "\u001b[0;31mTypeError\u001b[0m                                 Traceback (most recent call last)",
            "\u001b[0;32m<ipython-input-127-bc4252cbd35f>\u001b[0m in \u001b[0;36m<cell line: 4>\u001b[0;34m()\u001b[0m\n\u001b[1;32m      2\u001b[0m \u001b[0;31m# across the groups are then all pandas Series, for example:\u001b[0m\u001b[0;34m\u001b[0m\u001b[0;34m\u001b[0m\u001b[0m\n\u001b[1;32m      3\u001b[0m \u001b[0;34m\u001b[0m\u001b[0m\n\u001b[0;32m----> 4\u001b[0;31m \u001b[0mmetricframe_unmitigated\u001b[0m\u001b[0;34m.\u001b[0m\u001b[0mdifference\u001b[0m\u001b[0;34m(\u001b[0m\u001b[0;34m)\u001b[0m\u001b[0;34m\u001b[0m\u001b[0;34m\u001b[0m\u001b[0m\n\u001b[0m",
            "\u001b[0;32m/usr/local/lib/python3.10/dist-packages/fairlearn/metrics/_metric_frame.py\u001b[0m in \u001b[0;36mdifference\u001b[0;34m(self, method)\u001b[0m\n\u001b[1;32m    476\u001b[0m         \u001b[0msensitive\u001b[0m \u001b[0;32mand\u001b[0m \u001b[0mcontrol\u001b[0m \u001b[0mfeatures\u001b[0m\u001b[0;34m.\u001b[0m \u001b[0mThe\u001b[0m \u001b[0mexact\u001b[0m \u001b[0mtype\u001b[0m \u001b[0mdepends\u001b[0m \u001b[0mon\u001b[0m\u001b[0;34m\u001b[0m\u001b[0;34m\u001b[0m\u001b[0m\n\u001b[1;32m    477\u001b[0m         \u001b[0mthe\u001b[0m \u001b[0mspecification\u001b[0m \u001b[0mof\u001b[0m \u001b[0mthe\u001b[0m \u001b[0mmetric\u001b[0m \u001b[0mfunction\u001b[0m\u001b[0;34m.\u001b[0m\u001b[0;34m\u001b[0m\u001b[0;34m\u001b[0m\u001b[0m\n\u001b[0;32m--> 478\u001b[0;31m \u001b[0;34m\u001b[0m\u001b[0m\n\u001b[0m\u001b[1;32m    479\u001b[0m         \u001b[0mRead\u001b[0m \u001b[0mmore\u001b[0m \u001b[0;32min\u001b[0m \u001b[0mthe\u001b[0m \u001b[0;34m:\u001b[0m\u001b[0mref\u001b[0m\u001b[0;34m:\u001b[0m\u001b[0;31m`\u001b[0m\u001b[0mUser\u001b[0m \u001b[0mGuide\u001b[0m \u001b[0;34m<\u001b[0m\u001b[0massessment_quantify_harms\u001b[0m\u001b[0;34m>\u001b[0m\u001b[0;31m`\u001b[0m\u001b[0;34m.\u001b[0m\u001b[0;34m\u001b[0m\u001b[0;34m\u001b[0m\u001b[0m\n\u001b[1;32m    480\u001b[0m \u001b[0;34m\u001b[0m\u001b[0m\n",
            "\u001b[0;32m/usr/local/lib/python3.10/dist-packages/pandas/core/generic.py\u001b[0m in \u001b[0;36mmax\u001b[0;34m(self, axis, skipna, numeric_only, **kwargs)\u001b[0m\n\u001b[1;32m  11644\u001b[0m             \u001b[0;34m**\u001b[0m\u001b[0mkwargs\u001b[0m\u001b[0;34m,\u001b[0m\u001b[0;34m\u001b[0m\u001b[0;34m\u001b[0m\u001b[0m\n\u001b[1;32m  11645\u001b[0m         ):\n\u001b[0;32m> 11646\u001b[0;31m             \u001b[0;32mreturn\u001b[0m \u001b[0mNDFrame\u001b[0m\u001b[0;34m.\u001b[0m\u001b[0mmax\u001b[0m\u001b[0;34m(\u001b[0m\u001b[0mself\u001b[0m\u001b[0;34m,\u001b[0m \u001b[0maxis\u001b[0m\u001b[0;34m,\u001b[0m \u001b[0mskipna\u001b[0m\u001b[0;34m,\u001b[0m \u001b[0mnumeric_only\u001b[0m\u001b[0;34m,\u001b[0m \u001b[0;34m**\u001b[0m\u001b[0mkwargs\u001b[0m\u001b[0;34m)\u001b[0m\u001b[0;34m\u001b[0m\u001b[0;34m\u001b[0m\u001b[0m\n\u001b[0m\u001b[1;32m  11647\u001b[0m \u001b[0;34m\u001b[0m\u001b[0m\n\u001b[1;32m  11648\u001b[0m         \u001b[0msetattr\u001b[0m\u001b[0;34m(\u001b[0m\u001b[0mcls\u001b[0m\u001b[0;34m,\u001b[0m \u001b[0;34m\"max\"\u001b[0m\u001b[0;34m,\u001b[0m \u001b[0mmax\u001b[0m\u001b[0;34m)\u001b[0m\u001b[0;34m\u001b[0m\u001b[0;34m\u001b[0m\u001b[0m\n",
            "\u001b[0;32m/usr/local/lib/python3.10/dist-packages/pandas/core/generic.py\u001b[0m in \u001b[0;36mmax\u001b[0;34m(self, axis, skipna, numeric_only, **kwargs)\u001b[0m\n\u001b[1;32m  11183\u001b[0m         \u001b[0;34m**\u001b[0m\u001b[0mkwargs\u001b[0m\u001b[0;34m,\u001b[0m\u001b[0;34m\u001b[0m\u001b[0;34m\u001b[0m\u001b[0m\n\u001b[1;32m  11184\u001b[0m     ):\n\u001b[0;32m> 11185\u001b[0;31m         return self._stat_function(\n\u001b[0m\u001b[1;32m  11186\u001b[0m             \u001b[0;34m\"max\"\u001b[0m\u001b[0;34m,\u001b[0m\u001b[0;34m\u001b[0m\u001b[0;34m\u001b[0m\u001b[0m\n\u001b[1;32m  11187\u001b[0m             \u001b[0mnanops\u001b[0m\u001b[0;34m.\u001b[0m\u001b[0mnanmax\u001b[0m\u001b[0;34m,\u001b[0m\u001b[0;34m\u001b[0m\u001b[0;34m\u001b[0m\u001b[0m\n",
            "\u001b[0;32m/usr/local/lib/python3.10/dist-packages/pandas/core/generic.py\u001b[0m in \u001b[0;36m_stat_function\u001b[0;34m(self, name, func, axis, skipna, numeric_only, **kwargs)\u001b[0m\n\u001b[1;32m  11152\u001b[0m             \u001b[0mnv\u001b[0m\u001b[0;34m.\u001b[0m\u001b[0mvalidate_median\u001b[0m\u001b[0;34m(\u001b[0m\u001b[0;34m(\u001b[0m\u001b[0;34m)\u001b[0m\u001b[0;34m,\u001b[0m \u001b[0mkwargs\u001b[0m\u001b[0;34m)\u001b[0m\u001b[0;34m\u001b[0m\u001b[0;34m\u001b[0m\u001b[0m\n\u001b[1;32m  11153\u001b[0m         \u001b[0;32melse\u001b[0m\u001b[0;34m:\u001b[0m\u001b[0;34m\u001b[0m\u001b[0;34m\u001b[0m\u001b[0m\n\u001b[0;32m> 11154\u001b[0;31m             \u001b[0mnv\u001b[0m\u001b[0;34m.\u001b[0m\u001b[0mvalidate_stat_func\u001b[0m\u001b[0;34m(\u001b[0m\u001b[0;34m(\u001b[0m\u001b[0;34m)\u001b[0m\u001b[0;34m,\u001b[0m \u001b[0mkwargs\u001b[0m\u001b[0;34m,\u001b[0m \u001b[0mfname\u001b[0m\u001b[0;34m=\u001b[0m\u001b[0mname\u001b[0m\u001b[0;34m)\u001b[0m\u001b[0;34m\u001b[0m\u001b[0;34m\u001b[0m\u001b[0m\n\u001b[0m\u001b[1;32m  11155\u001b[0m \u001b[0;34m\u001b[0m\u001b[0m\n\u001b[1;32m  11156\u001b[0m         \u001b[0mvalidate_bool_kwarg\u001b[0m\u001b[0;34m(\u001b[0m\u001b[0mskipna\u001b[0m\u001b[0;34m,\u001b[0m \u001b[0;34m\"skipna\"\u001b[0m\u001b[0;34m,\u001b[0m \u001b[0mnone_allowed\u001b[0m\u001b[0;34m=\u001b[0m\u001b[0;32mFalse\u001b[0m\u001b[0;34m)\u001b[0m\u001b[0;34m\u001b[0m\u001b[0;34m\u001b[0m\u001b[0m\n",
            "\u001b[0;32m/usr/local/lib/python3.10/dist-packages/pandas/compat/numpy/function.py\u001b[0m in \u001b[0;36m__call__\u001b[0;34m(self, args, kwargs, fname, max_fname_arg_count, method)\u001b[0m\n\u001b[1;32m     78\u001b[0m                 \u001b[0mvalidate_args\u001b[0m\u001b[0;34m(\u001b[0m\u001b[0mfname\u001b[0m\u001b[0;34m,\u001b[0m \u001b[0margs\u001b[0m\u001b[0;34m,\u001b[0m \u001b[0mmax_fname_arg_count\u001b[0m\u001b[0;34m,\u001b[0m \u001b[0mself\u001b[0m\u001b[0;34m.\u001b[0m\u001b[0mdefaults\u001b[0m\u001b[0;34m)\u001b[0m\u001b[0;34m\u001b[0m\u001b[0;34m\u001b[0m\u001b[0m\n\u001b[1;32m     79\u001b[0m             \u001b[0;32melif\u001b[0m \u001b[0mmethod\u001b[0m \u001b[0;34m==\u001b[0m \u001b[0;34m\"kwargs\"\u001b[0m\u001b[0;34m:\u001b[0m\u001b[0;34m\u001b[0m\u001b[0;34m\u001b[0m\u001b[0m\n\u001b[0;32m---> 80\u001b[0;31m                 \u001b[0mvalidate_kwargs\u001b[0m\u001b[0;34m(\u001b[0m\u001b[0mfname\u001b[0m\u001b[0;34m,\u001b[0m \u001b[0mkwargs\u001b[0m\u001b[0;34m,\u001b[0m \u001b[0mself\u001b[0m\u001b[0;34m.\u001b[0m\u001b[0mdefaults\u001b[0m\u001b[0;34m)\u001b[0m\u001b[0;34m\u001b[0m\u001b[0;34m\u001b[0m\u001b[0m\n\u001b[0m\u001b[1;32m     81\u001b[0m             \u001b[0;32melif\u001b[0m \u001b[0mmethod\u001b[0m \u001b[0;34m==\u001b[0m \u001b[0;34m\"both\"\u001b[0m\u001b[0;34m:\u001b[0m\u001b[0;34m\u001b[0m\u001b[0;34m\u001b[0m\u001b[0m\n\u001b[1;32m     82\u001b[0m                 validate_args_and_kwargs(\n",
            "\u001b[0;32m/usr/local/lib/python3.10/dist-packages/pandas/util/_validators.py\u001b[0m in \u001b[0;36mvalidate_kwargs\u001b[0;34m(fname, kwargs, compat_args)\u001b[0m\n\u001b[1;32m    160\u001b[0m     \"\"\"\n\u001b[1;32m    161\u001b[0m     \u001b[0mkwds\u001b[0m \u001b[0;34m=\u001b[0m \u001b[0mkwargs\u001b[0m\u001b[0;34m.\u001b[0m\u001b[0mcopy\u001b[0m\u001b[0;34m(\u001b[0m\u001b[0;34m)\u001b[0m\u001b[0;34m\u001b[0m\u001b[0;34m\u001b[0m\u001b[0m\n\u001b[0;32m--> 162\u001b[0;31m     \u001b[0m_check_for_invalid_keys\u001b[0m\u001b[0;34m(\u001b[0m\u001b[0mfname\u001b[0m\u001b[0;34m,\u001b[0m \u001b[0mkwargs\u001b[0m\u001b[0;34m,\u001b[0m \u001b[0mcompat_args\u001b[0m\u001b[0;34m)\u001b[0m\u001b[0;34m\u001b[0m\u001b[0;34m\u001b[0m\u001b[0m\n\u001b[0m\u001b[1;32m    163\u001b[0m     \u001b[0m_check_for_default_values\u001b[0m\u001b[0;34m(\u001b[0m\u001b[0mfname\u001b[0m\u001b[0;34m,\u001b[0m \u001b[0mkwds\u001b[0m\u001b[0;34m,\u001b[0m \u001b[0mcompat_args\u001b[0m\u001b[0;34m)\u001b[0m\u001b[0;34m\u001b[0m\u001b[0;34m\u001b[0m\u001b[0m\n\u001b[1;32m    164\u001b[0m \u001b[0;34m\u001b[0m\u001b[0m\n",
            "\u001b[0;32m/usr/local/lib/python3.10/dist-packages/pandas/util/_validators.py\u001b[0m in \u001b[0;36m_check_for_invalid_keys\u001b[0;34m(fname, kwargs, compat_args)\u001b[0m\n\u001b[1;32m    134\u001b[0m     \u001b[0;32mif\u001b[0m \u001b[0mdiff\u001b[0m\u001b[0;34m:\u001b[0m\u001b[0;34m\u001b[0m\u001b[0;34m\u001b[0m\u001b[0m\n\u001b[1;32m    135\u001b[0m         \u001b[0mbad_arg\u001b[0m \u001b[0;34m=\u001b[0m \u001b[0mlist\u001b[0m\u001b[0;34m(\u001b[0m\u001b[0mdiff\u001b[0m\u001b[0;34m)\u001b[0m\u001b[0;34m[\u001b[0m\u001b[0;36m0\u001b[0m\u001b[0;34m]\u001b[0m\u001b[0;34m\u001b[0m\u001b[0;34m\u001b[0m\u001b[0m\n\u001b[0;32m--> 136\u001b[0;31m         \u001b[0;32mraise\u001b[0m \u001b[0mTypeError\u001b[0m\u001b[0;34m(\u001b[0m\u001b[0;34mf\"{fname}() got an unexpected keyword argument '{bad_arg}'\"\u001b[0m\u001b[0;34m)\u001b[0m\u001b[0;34m\u001b[0m\u001b[0;34m\u001b[0m\u001b[0m\n\u001b[0m\u001b[1;32m    137\u001b[0m \u001b[0;34m\u001b[0m\u001b[0m\n\u001b[1;32m    138\u001b[0m \u001b[0;34m\u001b[0m\u001b[0m\n",
            "\u001b[0;31mTypeError\u001b[0m: max() got an unexpected keyword argument 'level'"
          ]
        }
      ],
      "source": [
        "# The largest difference, smallest ratio, and the maximum and minimum values\n",
        "# across the groups are then all pandas Series, for example:\n",
        "\n",
        "metricframe_unmitigated.difference()"
      ]
    },
    {
      "cell_type": "code",
      "source": [
        "!pip install aequitas"
      ],
      "metadata": {
        "id": "vm8vTMhzH4Ah",
        "outputId": "8c82863b-bfff-476e-bfa5-f6eb0c0c921f",
        "colab": {
          "base_uri": "https://localhost:8080/",
          "height": 1000
        }
      },
      "execution_count": 110,
      "outputs": [
        {
          "output_type": "stream",
          "name": "stdout",
          "text": [
            "Collecting aequitas\n",
            "  Downloading aequitas-1.0.0-1-py3-none-any.whl (3.1 MB)\n",
            "\u001b[2K     \u001b[90m━━━━━━━━━━━━━━━━━━━━━━━━━━━━━━━━━━━━━━━━\u001b[0m \u001b[32m3.1/3.1 MB\u001b[0m \u001b[31m34.5 MB/s\u001b[0m eta \u001b[36m0:00:00\u001b[0m\n",
            "\u001b[?25hRequirement already satisfied: matplotlib>=3.0.3 in /usr/local/lib/python3.10/dist-packages (from aequitas) (3.7.1)\n",
            "Requirement already satisfied: pandas>=0.24.1 in /usr/local/lib/python3.10/dist-packages (from aequitas) (2.0.3)\n",
            "Requirement already satisfied: pyyaml>=5.1 in /usr/local/lib/python3.10/dist-packages (from aequitas) (6.0.1)\n",
            "Requirement already satisfied: seaborn>=0.9.0 in /usr/local/lib/python3.10/dist-packages (from aequitas) (0.13.2)\n",
            "Requirement already satisfied: altair>=4.1.0 in /usr/local/lib/python3.10/dist-packages (from aequitas) (4.2.2)\n",
            "Collecting millify==0.1.1 (from aequitas)\n",
            "  Downloading millify-0.1.1.tar.gz (1.2 kB)\n",
            "  Preparing metadata (setup.py) ... \u001b[?25l\u001b[?25hdone\n",
            "Requirement already satisfied: scipy>=0.18.1 in /usr/local/lib/python3.10/dist-packages (from aequitas) (1.11.4)\n",
            "Collecting optuna>=3.0.0 (from aequitas)\n",
            "  Downloading optuna-3.6.1-py3-none-any.whl (380 kB)\n",
            "\u001b[2K     \u001b[90m━━━━━━━━━━━━━━━━━━━━━━━━━━━━━━━━━━━━━━━━\u001b[0m \u001b[32m380.1/380.1 kB\u001b[0m \u001b[31m38.3 MB/s\u001b[0m eta \u001b[36m0:00:00\u001b[0m\n",
            "\u001b[?25hCollecting aif360>=0.5.0 (from aequitas)\n",
            "  Downloading aif360-0.6.1-py3-none-any.whl (259 kB)\n",
            "\u001b[2K     \u001b[90m━━━━━━━━━━━━━━━━━━━━━━━━━━━━━━━━━━━━━━━━\u001b[0m \u001b[32m259.7/259.7 kB\u001b[0m \u001b[31m33.7 MB/s\u001b[0m eta \u001b[36m0:00:00\u001b[0m\n",
            "\u001b[?25hCollecting fairgbm==0.9.14 (from aequitas)\n",
            "  Downloading fairgbm-0.9.14-py3-none-any.whl (2.1 MB)\n",
            "\u001b[2K     \u001b[90m━━━━━━━━━━━━━━━━━━━━━━━━━━━━━━━━━━━━━━━━\u001b[0m \u001b[32m2.1/2.1 MB\u001b[0m \u001b[31m48.0 MB/s\u001b[0m eta \u001b[36m0:00:00\u001b[0m\n",
            "\u001b[?25hCollecting fairlearn>=0.8.0 (from aequitas)\n",
            "  Downloading fairlearn-0.10.0-py3-none-any.whl (234 kB)\n",
            "\u001b[2K     \u001b[90m━━━━━━━━━━━━━━━━━━━━━━━━━━━━━━━━━━━━━━━━\u001b[0m \u001b[32m234.1/234.1 kB\u001b[0m \u001b[31m27.3 MB/s\u001b[0m eta \u001b[36m0:00:00\u001b[0m\n",
            "\u001b[?25hCollecting hydra-core>=1.3.0 (from aequitas)\n",
            "  Downloading hydra_core-1.3.2-py3-none-any.whl (154 kB)\n",
            "\u001b[2K     \u001b[90m━━━━━━━━━━━━━━━━━━━━━━━━━━━━━━━━━━━━━━━━\u001b[0m \u001b[32m154.5/154.5 kB\u001b[0m \u001b[31m21.6 MB/s\u001b[0m eta \u001b[36m0:00:00\u001b[0m\n",
            "\u001b[?25hCollecting validators>=0.22.0 (from aequitas)\n",
            "  Downloading validators-0.30.0-py3-none-any.whl (42 kB)\n",
            "\u001b[2K     \u001b[90m━━━━━━━━━━━━━━━━━━━━━━━━━━━━━━━━━━━━━━━━\u001b[0m \u001b[32m42.4/42.4 kB\u001b[0m \u001b[31m6.0 MB/s\u001b[0m eta \u001b[36m0:00:00\u001b[0m\n",
            "\u001b[?25hCollecting hyperparameter-tuning>=0.3.1 (from aequitas)\n",
            "  Downloading hyperparameter_tuning-0.3.1-py3-none-any.whl (25 kB)\n",
            "Collecting numpy==1.23.5 (from aequitas)\n",
            "  Downloading numpy-1.23.5-cp310-cp310-manylinux_2_17_x86_64.manylinux2014_x86_64.whl (17.1 MB)\n",
            "\u001b[2K     \u001b[90m━━━━━━━━━━━━━━━━━━━━━━━━━━━━━━━━━━━━━━━━\u001b[0m \u001b[32m17.1/17.1 MB\u001b[0m \u001b[31m59.2 MB/s\u001b[0m eta \u001b[36m0:00:00\u001b[0m\n",
            "\u001b[?25hRequirement already satisfied: wheel in /usr/local/lib/python3.10/dist-packages (from fairgbm==0.9.14->aequitas) (0.43.0)\n",
            "Requirement already satisfied: scikit-learn!=0.22.0 in /usr/local/lib/python3.10/dist-packages (from fairgbm==0.9.14->aequitas) (1.5.1)\n",
            "Requirement already satisfied: entrypoints in /usr/local/lib/python3.10/dist-packages (from altair>=4.1.0->aequitas) (0.4)\n",
            "Requirement already satisfied: jinja2 in /usr/local/lib/python3.10/dist-packages (from altair>=4.1.0->aequitas) (3.1.4)\n",
            "Requirement already satisfied: jsonschema>=3.0 in /usr/local/lib/python3.10/dist-packages (from altair>=4.1.0->aequitas) (4.19.2)\n",
            "Requirement already satisfied: toolz in /usr/local/lib/python3.10/dist-packages (from altair>=4.1.0->aequitas) (0.12.1)\n",
            "INFO: pip is looking at multiple versions of fairlearn to determine which version is compatible with other requirements. This could take a while.\n",
            "Collecting fairlearn>=0.8.0 (from aequitas)\n",
            "  Downloading fairlearn-0.9.0-py3-none-any.whl (231 kB)\n",
            "\u001b[2K     \u001b[90m━━━━━━━━━━━━━━━━━━━━━━━━━━━━━━━━━━━━━━━━\u001b[0m \u001b[32m231.5/231.5 kB\u001b[0m \u001b[31m27.6 MB/s\u001b[0m eta \u001b[36m0:00:00\u001b[0m\n",
            "\u001b[?25hCollecting omegaconf<2.4,>=2.2 (from hydra-core>=1.3.0->aequitas)\n",
            "  Downloading omegaconf-2.3.0-py3-none-any.whl (79 kB)\n",
            "\u001b[2K     \u001b[90m━━━━━━━━━━━━━━━━━━━━━━━━━━━━━━━━━━━━━━━━\u001b[0m \u001b[32m79.5/79.5 kB\u001b[0m \u001b[31m10.6 MB/s\u001b[0m eta \u001b[36m0:00:00\u001b[0m\n",
            "\u001b[?25hCollecting antlr4-python3-runtime==4.9.* (from hydra-core>=1.3.0->aequitas)\n",
            "  Downloading antlr4-python3-runtime-4.9.3.tar.gz (117 kB)\n",
            "\u001b[2K     \u001b[90m━━━━━━━━━━━━━━━━━━━━━━━━━━━━━━━━━━━━━━━━\u001b[0m \u001b[32m117.0/117.0 kB\u001b[0m \u001b[31m16.2 MB/s\u001b[0m eta \u001b[36m0:00:00\u001b[0m\n",
            "\u001b[?25h  Preparing metadata (setup.py) ... \u001b[?25l\u001b[?25hdone\n",
            "Requirement already satisfied: packaging in /usr/local/lib/python3.10/dist-packages (from hydra-core>=1.3.0->aequitas) (24.1)\n",
            "Collecting schema (from hyperparameter-tuning>=0.3.1->aequitas)\n",
            "  Downloading schema-0.7.7-py2.py3-none-any.whl (18 kB)\n",
            "Requirement already satisfied: contourpy>=1.0.1 in /usr/local/lib/python3.10/dist-packages (from matplotlib>=3.0.3->aequitas) (1.2.1)\n",
            "Requirement already satisfied: cycler>=0.10 in /usr/local/lib/python3.10/dist-packages (from matplotlib>=3.0.3->aequitas) (0.12.1)\n",
            "Requirement already satisfied: fonttools>=4.22.0 in /usr/local/lib/python3.10/dist-packages (from matplotlib>=3.0.3->aequitas) (4.53.0)\n",
            "Requirement already satisfied: kiwisolver>=1.0.1 in /usr/local/lib/python3.10/dist-packages (from matplotlib>=3.0.3->aequitas) (1.4.5)\n",
            "Requirement already satisfied: pillow>=6.2.0 in /usr/local/lib/python3.10/dist-packages (from matplotlib>=3.0.3->aequitas) (9.4.0)\n",
            "Requirement already satisfied: pyparsing>=2.3.1 in /usr/local/lib/python3.10/dist-packages (from matplotlib>=3.0.3->aequitas) (3.1.2)\n",
            "Requirement already satisfied: python-dateutil>=2.7 in /usr/local/lib/python3.10/dist-packages (from matplotlib>=3.0.3->aequitas) (2.8.2)\n",
            "Collecting alembic>=1.5.0 (from optuna>=3.0.0->aequitas)\n",
            "  Downloading alembic-1.13.2-py3-none-any.whl (232 kB)\n",
            "\u001b[2K     \u001b[90m━━━━━━━━━━━━━━━━━━━━━━━━━━━━━━━━━━━━━━━━\u001b[0m \u001b[32m233.0/233.0 kB\u001b[0m \u001b[31m19.9 MB/s\u001b[0m eta \u001b[36m0:00:00\u001b[0m\n",
            "\u001b[?25hCollecting colorlog (from optuna>=3.0.0->aequitas)\n",
            "  Downloading colorlog-6.8.2-py3-none-any.whl (11 kB)\n",
            "Requirement already satisfied: sqlalchemy>=1.3.0 in /usr/local/lib/python3.10/dist-packages (from optuna>=3.0.0->aequitas) (2.0.31)\n",
            "Requirement already satisfied: tqdm in /usr/local/lib/python3.10/dist-packages (from optuna>=3.0.0->aequitas) (4.66.4)\n",
            "Requirement already satisfied: pytz>=2020.1 in /usr/local/lib/python3.10/dist-packages (from pandas>=0.24.1->aequitas) (2023.4)\n",
            "Requirement already satisfied: tzdata>=2022.1 in /usr/local/lib/python3.10/dist-packages (from pandas>=0.24.1->aequitas) (2024.1)\n",
            "Collecting Mako (from alembic>=1.5.0->optuna>=3.0.0->aequitas)\n",
            "  Downloading Mako-1.3.5-py3-none-any.whl (78 kB)\n",
            "\u001b[2K     \u001b[90m━━━━━━━━━━━━━━━━━━━━━━━━━━━━━━━━━━━━━━━━\u001b[0m \u001b[32m78.6/78.6 kB\u001b[0m \u001b[31m9.3 MB/s\u001b[0m eta \u001b[36m0:00:00\u001b[0m\n",
            "\u001b[?25hRequirement already satisfied: typing-extensions>=4 in /usr/local/lib/python3.10/dist-packages (from alembic>=1.5.0->optuna>=3.0.0->aequitas) (4.12.2)\n",
            "Requirement already satisfied: attrs>=22.2.0 in /usr/local/lib/python3.10/dist-packages (from jsonschema>=3.0->altair>=4.1.0->aequitas) (23.2.0)\n",
            "Requirement already satisfied: jsonschema-specifications>=2023.03.6 in /usr/local/lib/python3.10/dist-packages (from jsonschema>=3.0->altair>=4.1.0->aequitas) (2023.12.1)\n",
            "Requirement already satisfied: referencing>=0.28.4 in /usr/local/lib/python3.10/dist-packages (from jsonschema>=3.0->altair>=4.1.0->aequitas) (0.35.1)\n",
            "Requirement already satisfied: rpds-py>=0.7.1 in /usr/local/lib/python3.10/dist-packages (from jsonschema>=3.0->altair>=4.1.0->aequitas) (0.18.1)\n",
            "Requirement already satisfied: six>=1.5 in /usr/local/lib/python3.10/dist-packages (from python-dateutil>=2.7->matplotlib>=3.0.3->aequitas) (1.16.0)\n",
            "Requirement already satisfied: joblib>=1.2.0 in /usr/local/lib/python3.10/dist-packages (from scikit-learn!=0.22.0->fairgbm==0.9.14->aequitas) (1.4.2)\n",
            "Requirement already satisfied: threadpoolctl>=3.1.0 in /usr/local/lib/python3.10/dist-packages (from scikit-learn!=0.22.0->fairgbm==0.9.14->aequitas) (3.5.0)\n",
            "Requirement already satisfied: greenlet!=0.4.17 in /usr/local/lib/python3.10/dist-packages (from sqlalchemy>=1.3.0->optuna>=3.0.0->aequitas) (3.0.3)\n",
            "Requirement already satisfied: MarkupSafe>=2.0 in /usr/local/lib/python3.10/dist-packages (from jinja2->altair>=4.1.0->aequitas) (2.1.5)\n",
            "Building wheels for collected packages: millify, antlr4-python3-runtime\n",
            "  Building wheel for millify (setup.py) ... \u001b[?25l\u001b[?25hdone\n",
            "  Created wheel for millify: filename=millify-0.1.1-py3-none-any.whl size=1844 sha256=d0687cd975e6afcc840e2b24945b9bdd084fb4f34219a6deaa5bc61b2f7d1274\n",
            "  Stored in directory: /root/.cache/pip/wheels/67/8f/53/2759feac2e247ce89c1165c3ff12d484de7714a875ea3464f0\n",
            "  Building wheel for antlr4-python3-runtime (setup.py) ... \u001b[?25l\u001b[?25hdone\n",
            "  Created wheel for antlr4-python3-runtime: filename=antlr4_python3_runtime-4.9.3-py3-none-any.whl size=144552 sha256=b0fddf2bade769668fda92099a5a0994d2c5eda7eeffed9c552566a339ad11ab\n",
            "  Stored in directory: /root/.cache/pip/wheels/12/93/dd/1f6a127edc45659556564c5730f6d4e300888f4bca2d4c5a88\n",
            "Successfully built millify antlr4-python3-runtime\n",
            "Installing collected packages: schema, millify, antlr4-python3-runtime, validators, omegaconf, numpy, Mako, colorlog, hydra-core, alembic, optuna, hyperparameter-tuning, fairlearn, fairgbm, aif360, aequitas\n",
            "  Attempting uninstall: numpy\n",
            "    Found existing installation: numpy 1.25.2\n",
            "    Uninstalling numpy-1.25.2:\n",
            "      Successfully uninstalled numpy-1.25.2\n",
            "  Attempting uninstall: fairlearn\n",
            "    Found existing installation: fairlearn 0.7.0\n",
            "    Uninstalling fairlearn-0.7.0:\n",
            "      Successfully uninstalled fairlearn-0.7.0\n",
            "\u001b[31mERROR: pip's dependency resolver does not currently take into account all the packages that are installed. This behaviour is the source of the following dependency conflicts.\n",
            "chex 0.1.86 requires numpy>=1.24.1, but you have numpy 1.23.5 which is incompatible.\n",
            "pandas-stubs 2.0.3.230814 requires numpy>=1.25.0; python_version >= \"3.9\", but you have numpy 1.23.5 which is incompatible.\u001b[0m\u001b[31m\n",
            "\u001b[0mSuccessfully installed Mako-1.3.5 aequitas-1.0.0 aif360-0.6.1 alembic-1.13.2 antlr4-python3-runtime-4.9.3 colorlog-6.8.2 fairgbm-0.9.14 fairlearn-0.9.0 hydra-core-1.3.2 hyperparameter-tuning-0.3.1 millify-0.1.1 numpy-1.23.5 omegaconf-2.3.0 optuna-3.6.1 schema-0.7.7 validators-0.30.0\n"
          ]
        },
        {
          "output_type": "display_data",
          "data": {
            "application/vnd.colab-display-data+json": {
              "pip_warning": {
                "packages": [
                  "fairlearn",
                  "numpy",
                  "pydevd_plugins"
                ]
              },
              "id": "a9e9845d2b4e4f6f8af580615d262f5c"
            }
          },
          "metadata": {}
        }
      ]
    },
    {
      "cell_type": "markdown",
      "source": [
        "Aequitas uses specific metric names, and we need to check that we are using the correct ones. Aequitas typically uses pprev for selection rate and tpr for recall. There is no direct metric named bal_acc, so we may need to calculate it separately."
      ],
      "metadata": {
        "id": "s1bxPriFLA-6"
      }
    },
    {
      "cell_type": "code",
      "source": [
        "from aequitas.group import Group\n",
        "from aequitas.bias import Bias\n",
        "\n",
        "# Ensure the 'race' column is of type string\n",
        "aequitas_df = pd.DataFrame({\n",
        "    'score': Y_pred,\n",
        "    'label_value': Y_test,\n",
        "    'race': df_test['race'].astype(str)  # Convert to string if not already\n",
        "})\n",
        "\n",
        "# Create Group object\n",
        "g = Group()\n",
        "\n",
        "# Get group metrics\n",
        "xtab, _ = g.get_crosstabs(aequitas_df)\n",
        "\n",
        "# Compute Bias\n",
        "b = Bias()\n",
        "bdf = b.get_disparity_predefined_groups(xtab,\n",
        "                                        original_df=aequitas_df,\n",
        "                                        ref_groups_dict={'race': 'Caucasian'},\n",
        "                                        alpha=0.05,\n",
        "                                        mask_significance=True)\n",
        "\n",
        "# Display metrics and bias\n",
        "print(xtab[['attribute_name', 'attribute_value', 'fpr', 'pprev', 'tpr']])\n",
        "print(bdf[['attribute_name', 'attribute_value', 'fpr_disparity', 'pprev_disparity', 'tpr_disparity']])"
      ],
      "metadata": {
        "id": "zgbfZoHWLKDW",
        "outputId": "b6c1d72e-ab85-4f8b-b22b-0102bb27fe3a",
        "colab": {
          "base_uri": "https://localhost:8080/"
        }
      },
      "execution_count": 115,
      "outputs": [
        {
          "output_type": "stream",
          "name": "stdout",
          "text": [
            "  attribute_name   attribute_value   fpr  pprev   tpr\n",
            "0           race  African-American 0.024  0.509 0.991\n",
            "1           race             Asian 0.000  0.261 1.000\n",
            "2           race         Caucasian 0.016  0.411 0.992\n",
            "3           race          Hispanic 0.010  0.393 1.000\n",
            "4           race   Native American 0.000  0.500 1.000\n",
            "5           race             Other 0.008  0.353 0.972\n",
            "  attribute_name   attribute_value  fpr_disparity  pprev_disparity  \\\n",
            "0           race  African-American          1.503            1.238   \n",
            "1           race             Asian          0.000            0.635   \n",
            "2           race         Caucasian          1.000            1.000   \n",
            "3           race          Hispanic          0.631            0.957   \n",
            "4           race   Native American          0.000            1.217   \n",
            "5           race             Other          0.492            0.860   \n",
            "\n",
            "   tpr_disparity  \n",
            "0          1.000  \n",
            "1          1.008  \n",
            "2          1.000  \n",
            "3          1.008  \n",
            "4          1.008  \n",
            "5          0.980  \n"
          ]
        }
      ]
    },
    {
      "cell_type": "code",
      "execution_count": 131,
      "metadata": {
        "id": "DvjRBIcjjSkl",
        "colab": {
          "base_uri": "https://localhost:8080/",
          "height": 535
        },
        "outputId": "ddcaa395-0aca-4525-eae1-bb8679e790eb"
      },
      "outputs": [
        {
          "output_type": "display_data",
          "data": {
            "text/plain": [
              "<Figure size 1200x400 with 5 Axes>"
            ],
            "image/png": "[encoded data removed]"
          },
          "metadata": {}
        }
      ],
      "source": [
        "# You can also easily plot all of the metrics using DataFrame plotting capabilities\n",
        "\n",
        "metricframe_unmitigated.by_group.plot.bar(subplots=True, layout= [1,5], figsize=(12, 4),\n",
        "                      legend=False, rot=90, position=1.5);"
      ]
    },
    {
      "cell_type": "markdown",
      "metadata": {
        "id": "b5C3SITjuPUm"
      },
      "source": [
        "According to the above bar chart, it seems that the group *Asian* is selected for the compas program less often than other groups as reflected by the selection rate. Also this group experiences the least false positive rate, so a smaller fraction of group members that are not  likely to recid  are selected. Finally, the balanced accuracy across all groups is similar.\n",
        "\n"
      ]
    },
    {
      "cell_type": "markdown",
      "metadata": {
        "id": "c2Qs68rv2_Vg"
      },
      "source": [
        "We observe disparity, even though we did not include race in our model. There's a variety of reasons why such disparities may occur. It could be due to representational issues (i.e., not enough instances per group), or because the feature distribution itself differs across groups (i.e., different relationship between features and target variable, obvious example would be people with darker skin in facial recognition systems, but can be much more subtle). Real-world applications often exhibit both kinds of issues at the same time."
      ]
    },
    {
      "cell_type": "markdown",
      "metadata": {
        "id": "n_1Rm8PbPmmk"
      },
      "source": [
        "<a name=\"train-other-models\"></a>\n",
        "## Exercise: Train other fairness-unaware models"
      ]
    },
    {
      "cell_type": "markdown",
      "metadata": {
        "id": "oeQF5qT6Qs-C"
      },
      "source": [
        "In this section, you'll be training your own fairness-unaware model and evaluate the model using the `MetricFrame` for fairness-related harms."
      ]
    },
    {
      "cell_type": "markdown",
      "metadata": {
        "id": "SsHy-Os0oVQU"
      },
      "source": [
        "We encourage you to explore the model's performance across different sensitive features (such as `age` or `gender`) as well as different model performance metrics."
      ]
    },
    {
      "cell_type": "markdown",
      "metadata": {
        "id": "61GU_zrFSC-6"
      },
      "source": [
        "1.) First, let's train our machine learning model. We'll create a `HistGradientBoostingClassifier` and fit it to the balanced training data set."
      ]
    },
    {
      "cell_type": "code",
      "execution_count": 132,
      "metadata": {
        "id": "bSIDkuV4_Rou",
        "colab": {
          "base_uri": "https://localhost:8080/",
          "height": 428
        },
        "outputId": "d7b1a3f9-fdba-4294-f24d-834588e256b4"
      },
      "outputs": [
        {
          "output_type": "stream",
          "name": "stderr",
          "text": [
            "/usr/local/lib/python3.10/dist-packages/sklearn/experimental/enable_hist_gradient_boosting.py:16: UserWarning: Since version 1.0, it is not needed to import enable_hist_gradient_boosting anymore. HistGradientBoostingClassifier and HistGradientBoostingRegressor are now stable and can be normally imported from sklearn.ensemble.\n",
            "  warnings.warn(\n",
            "/usr/local/lib/python3.10/dist-packages/sklearn/ensemble/_hist_gradient_boosting/gradient_boosting.py:400: FutureWarning: The categorical_features parameter will change to 'from_dtype' in v1.6. The 'from_dtype' option automatically treats categorical dtypes in a DataFrame as categorical features.\n",
            "  warnings.warn(\n"
          ]
        },
        {
          "output_type": "error",
          "ename": "ValueError",
          "evalue": "could not convert string to float: 'Male'",
          "traceback": [
            "\u001b[0;31m---------------------------------------------------------------------------\u001b[0m",
            "\u001b[0;31mValueError\u001b[0m                                Traceback (most recent call last)",
            "\u001b[0;32m<ipython-input-132-a8dfc8224b33>\u001b[0m in \u001b[0;36m<cell line: 8>\u001b[0;34m()\u001b[0m\n\u001b[1;32m      6\u001b[0m \u001b[0;34m\u001b[0m\u001b[0m\n\u001b[1;32m      7\u001b[0m \u001b[0;31m# Fit the model to the training data\u001b[0m\u001b[0;34m\u001b[0m\u001b[0;34m\u001b[0m\u001b[0m\n\u001b[0;32m----> 8\u001b[0;31m \u001b[0mclf\u001b[0m\u001b[0;34m.\u001b[0m\u001b[0mfit\u001b[0m\u001b[0;34m(\u001b[0m\u001b[0mX_train_bal\u001b[0m\u001b[0;34m,\u001b[0m \u001b[0mY_train_bal\u001b[0m\u001b[0;34m)\u001b[0m\u001b[0;34m\u001b[0m\u001b[0;34m\u001b[0m\u001b[0m\n\u001b[0m\u001b[1;32m      9\u001b[0m \u001b[0mexercise_pred\u001b[0m \u001b[0;34m=\u001b[0m \u001b[0mclf\u001b[0m\u001b[0;34m.\u001b[0m\u001b[0mpredict\u001b[0m\u001b[0;34m(\u001b[0m\u001b[0mX_test\u001b[0m\u001b[0;34m)\u001b[0m\u001b[0;34m\u001b[0m\u001b[0;34m\u001b[0m\u001b[0m\n",
            "\u001b[0;32m/usr/local/lib/python3.10/dist-packages/sklearn/base.py\u001b[0m in \u001b[0;36mwrapper\u001b[0;34m(estimator, *args, **kwargs)\u001b[0m\n\u001b[1;32m   1471\u001b[0m                 )\n\u001b[1;32m   1472\u001b[0m             ):\n\u001b[0;32m-> 1473\u001b[0;31m                 \u001b[0;32mreturn\u001b[0m \u001b[0mfit_method\u001b[0m\u001b[0;34m(\u001b[0m\u001b[0mestimator\u001b[0m\u001b[0;34m,\u001b[0m \u001b[0;34m*\u001b[0m\u001b[0margs\u001b[0m\u001b[0;34m,\u001b[0m \u001b[0;34m**\u001b[0m\u001b[0mkwargs\u001b[0m\u001b[0;34m)\u001b[0m\u001b[0;34m\u001b[0m\u001b[0;34m\u001b[0m\u001b[0m\n\u001b[0m\u001b[1;32m   1474\u001b[0m \u001b[0;34m\u001b[0m\u001b[0m\n\u001b[1;32m   1475\u001b[0m         \u001b[0;32mreturn\u001b[0m \u001b[0mwrapper\u001b[0m\u001b[0;34m\u001b[0m\u001b[0;34m\u001b[0m\u001b[0m\n",
            "\u001b[0;32m/usr/local/lib/python3.10/dist-packages/sklearn/ensemble/_hist_gradient_boosting/gradient_boosting.py\u001b[0m in \u001b[0;36mfit\u001b[0;34m(self, X, y, sample_weight)\u001b[0m\n\u001b[1;32m    559\u001b[0m         \u001b[0;31m# time spent predicting X for gradient and hessians update\u001b[0m\u001b[0;34m\u001b[0m\u001b[0;34m\u001b[0m\u001b[0m\n\u001b[1;32m    560\u001b[0m         \u001b[0macc_prediction_time\u001b[0m \u001b[0;34m=\u001b[0m \u001b[0;36m0.0\u001b[0m\u001b[0;34m\u001b[0m\u001b[0;34m\u001b[0m\u001b[0m\n\u001b[0;32m--> 561\u001b[0;31m         \u001b[0mX\u001b[0m\u001b[0;34m,\u001b[0m \u001b[0mknown_categories\u001b[0m \u001b[0;34m=\u001b[0m \u001b[0mself\u001b[0m\u001b[0;34m.\u001b[0m\u001b[0m_preprocess_X\u001b[0m\u001b[0;34m(\u001b[0m\u001b[0mX\u001b[0m\u001b[0;34m,\u001b[0m \u001b[0mreset\u001b[0m\u001b[0;34m=\u001b[0m\u001b[0;32mTrue\u001b[0m\u001b[0;34m)\u001b[0m\u001b[0;34m\u001b[0m\u001b[0;34m\u001b[0m\u001b[0m\n\u001b[0m\u001b[1;32m    562\u001b[0m         \u001b[0my\u001b[0m \u001b[0;34m=\u001b[0m \u001b[0m_check_y\u001b[0m\u001b[0;34m(\u001b[0m\u001b[0my\u001b[0m\u001b[0;34m,\u001b[0m \u001b[0mestimator\u001b[0m\u001b[0;34m=\u001b[0m\u001b[0mself\u001b[0m\u001b[0;34m)\u001b[0m\u001b[0;34m\u001b[0m\u001b[0;34m\u001b[0m\u001b[0m\n\u001b[1;32m    563\u001b[0m         \u001b[0my\u001b[0m \u001b[0;34m=\u001b[0m \u001b[0mself\u001b[0m\u001b[0;34m.\u001b[0m\u001b[0m_encode_y\u001b[0m\u001b[0;34m(\u001b[0m\u001b[0my\u001b[0m\u001b[0;34m)\u001b[0m\u001b[0;34m\u001b[0m\u001b[0;34m\u001b[0m\u001b[0m\n",
            "\u001b[0;32m/usr/local/lib/python3.10/dist-packages/sklearn/ensemble/_hist_gradient_boosting/gradient_boosting.py\u001b[0m in \u001b[0;36m_preprocess_X\u001b[0;34m(self, X, reset)\u001b[0m\n\u001b[1;32m    276\u001b[0m             \u001b[0mself\u001b[0m\u001b[0;34m.\u001b[0m\u001b[0m_is_categorical_remapped\u001b[0m \u001b[0;34m=\u001b[0m \u001b[0;32mNone\u001b[0m\u001b[0;34m\u001b[0m\u001b[0;34m\u001b[0m\u001b[0m\n\u001b[1;32m    277\u001b[0m \u001b[0;34m\u001b[0m\u001b[0m\n\u001b[0;32m--> 278\u001b[0;31m             \u001b[0mX\u001b[0m \u001b[0;34m=\u001b[0m \u001b[0mself\u001b[0m\u001b[0;34m.\u001b[0m\u001b[0m_validate_data\u001b[0m\u001b[0;34m(\u001b[0m\u001b[0mX\u001b[0m\u001b[0;34m,\u001b[0m \u001b[0;34m**\u001b[0m\u001b[0mcheck_X_kwargs\u001b[0m\u001b[0;34m)\u001b[0m\u001b[0;34m\u001b[0m\u001b[0;34m\u001b[0m\u001b[0m\n\u001b[0m\u001b[1;32m    279\u001b[0m             \u001b[0;32mreturn\u001b[0m \u001b[0mX\u001b[0m\u001b[0;34m,\u001b[0m \u001b[0;32mNone\u001b[0m\u001b[0;34m\u001b[0m\u001b[0;34m\u001b[0m\u001b[0m\n\u001b[1;32m    280\u001b[0m \u001b[0;34m\u001b[0m\u001b[0m\n",
            "\u001b[0;32m/usr/local/lib/python3.10/dist-packages/sklearn/base.py\u001b[0m in \u001b[0;36m_validate_data\u001b[0;34m(self, X, y, reset, validate_separately, cast_to_ndarray, **check_params)\u001b[0m\n\u001b[1;32m    631\u001b[0m                 \u001b[0mout\u001b[0m \u001b[0;34m=\u001b[0m \u001b[0mX\u001b[0m\u001b[0;34m,\u001b[0m \u001b[0my\u001b[0m\u001b[0;34m\u001b[0m\u001b[0;34m\u001b[0m\u001b[0m\n\u001b[1;32m    632\u001b[0m         \u001b[0;32melif\u001b[0m \u001b[0;32mnot\u001b[0m \u001b[0mno_val_X\u001b[0m \u001b[0;32mand\u001b[0m \u001b[0mno_val_y\u001b[0m\u001b[0;34m:\u001b[0m\u001b[0;34m\u001b[0m\u001b[0;34m\u001b[0m\u001b[0m\n\u001b[0;32m--> 633\u001b[0;31m             \u001b[0mout\u001b[0m \u001b[0;34m=\u001b[0m \u001b[0mcheck_array\u001b[0m\u001b[0;34m(\u001b[0m\u001b[0mX\u001b[0m\u001b[0;34m,\u001b[0m \u001b[0minput_name\u001b[0m\u001b[0;34m=\u001b[0m\u001b[0;34m\"X\"\u001b[0m\u001b[0;34m,\u001b[0m \u001b[0;34m**\u001b[0m\u001b[0mcheck_params\u001b[0m\u001b[0;34m)\u001b[0m\u001b[0;34m\u001b[0m\u001b[0;34m\u001b[0m\u001b[0m\n\u001b[0m\u001b[1;32m    634\u001b[0m         \u001b[0;32melif\u001b[0m \u001b[0mno_val_X\u001b[0m \u001b[0;32mand\u001b[0m \u001b[0;32mnot\u001b[0m \u001b[0mno_val_y\u001b[0m\u001b[0;34m:\u001b[0m\u001b[0;34m\u001b[0m\u001b[0;34m\u001b[0m\u001b[0m\n\u001b[1;32m    635\u001b[0m             \u001b[0mout\u001b[0m \u001b[0;34m=\u001b[0m \u001b[0m_check_y\u001b[0m\u001b[0;34m(\u001b[0m\u001b[0my\u001b[0m\u001b[0;34m,\u001b[0m \u001b[0;34m**\u001b[0m\u001b[0mcheck_params\u001b[0m\u001b[0;34m)\u001b[0m\u001b[0;34m\u001b[0m\u001b[0;34m\u001b[0m\u001b[0m\n",
            "\u001b[0;32m/usr/local/lib/python3.10/dist-packages/sklearn/utils/validation.py\u001b[0m in \u001b[0;36mcheck_array\u001b[0;34m(array, accept_sparse, accept_large_sparse, dtype, order, copy, force_writeable, force_all_finite, ensure_2d, allow_nd, ensure_min_samples, ensure_min_features, estimator, input_name)\u001b[0m\n\u001b[1;32m   1010\u001b[0m                     \u001b[0marray\u001b[0m \u001b[0;34m=\u001b[0m \u001b[0mxp\u001b[0m\u001b[0;34m.\u001b[0m\u001b[0mastype\u001b[0m\u001b[0;34m(\u001b[0m\u001b[0marray\u001b[0m\u001b[0;34m,\u001b[0m \u001b[0mdtype\u001b[0m\u001b[0;34m,\u001b[0m \u001b[0mcopy\u001b[0m\u001b[0;34m=\u001b[0m\u001b[0;32mFalse\u001b[0m\u001b[0;34m)\u001b[0m\u001b[0;34m\u001b[0m\u001b[0;34m\u001b[0m\u001b[0m\n\u001b[1;32m   1011\u001b[0m                 \u001b[0;32melse\u001b[0m\u001b[0;34m:\u001b[0m\u001b[0;34m\u001b[0m\u001b[0;34m\u001b[0m\u001b[0m\n\u001b[0;32m-> 1012\u001b[0;31m                     \u001b[0marray\u001b[0m \u001b[0;34m=\u001b[0m \u001b[0m_asarray_with_order\u001b[0m\u001b[0;34m(\u001b[0m\u001b[0marray\u001b[0m\u001b[0;34m,\u001b[0m \u001b[0morder\u001b[0m\u001b[0;34m=\u001b[0m\u001b[0morder\u001b[0m\u001b[0;34m,\u001b[0m \u001b[0mdtype\u001b[0m\u001b[0;34m=\u001b[0m\u001b[0mdtype\u001b[0m\u001b[0;34m,\u001b[0m \u001b[0mxp\u001b[0m\u001b[0;34m=\u001b[0m\u001b[0mxp\u001b[0m\u001b[0;34m)\u001b[0m\u001b[0;34m\u001b[0m\u001b[0;34m\u001b[0m\u001b[0m\n\u001b[0m\u001b[1;32m   1013\u001b[0m             \u001b[0;32mexcept\u001b[0m \u001b[0mComplexWarning\u001b[0m \u001b[0;32mas\u001b[0m \u001b[0mcomplex_warning\u001b[0m\u001b[0;34m:\u001b[0m\u001b[0;34m\u001b[0m\u001b[0;34m\u001b[0m\u001b[0m\n\u001b[1;32m   1014\u001b[0m                 raise ValueError(\n",
            "\u001b[0;32m/usr/local/lib/python3.10/dist-packages/sklearn/utils/_array_api.py\u001b[0m in \u001b[0;36m_asarray_with_order\u001b[0;34m(array, dtype, order, copy, xp, device)\u001b[0m\n\u001b[1;32m    749\u001b[0m             \u001b[0marray\u001b[0m \u001b[0;34m=\u001b[0m \u001b[0mnumpy\u001b[0m\u001b[0;34m.\u001b[0m\u001b[0marray\u001b[0m\u001b[0;34m(\u001b[0m\u001b[0marray\u001b[0m\u001b[0;34m,\u001b[0m \u001b[0morder\u001b[0m\u001b[0;34m=\u001b[0m\u001b[0morder\u001b[0m\u001b[0;34m,\u001b[0m \u001b[0mdtype\u001b[0m\u001b[0;34m=\u001b[0m\u001b[0mdtype\u001b[0m\u001b[0;34m)\u001b[0m\u001b[0;34m\u001b[0m\u001b[0;34m\u001b[0m\u001b[0m\n\u001b[1;32m    750\u001b[0m         \u001b[0;32melse\u001b[0m\u001b[0;34m:\u001b[0m\u001b[0;34m\u001b[0m\u001b[0;34m\u001b[0m\u001b[0m\n\u001b[0;32m--> 751\u001b[0;31m             \u001b[0marray\u001b[0m \u001b[0;34m=\u001b[0m \u001b[0mnumpy\u001b[0m\u001b[0;34m.\u001b[0m\u001b[0masarray\u001b[0m\u001b[0;34m(\u001b[0m\u001b[0marray\u001b[0m\u001b[0;34m,\u001b[0m \u001b[0morder\u001b[0m\u001b[0;34m=\u001b[0m\u001b[0morder\u001b[0m\u001b[0;34m,\u001b[0m \u001b[0mdtype\u001b[0m\u001b[0;34m=\u001b[0m\u001b[0mdtype\u001b[0m\u001b[0;34m)\u001b[0m\u001b[0;34m\u001b[0m\u001b[0;34m\u001b[0m\u001b[0m\n\u001b[0m\u001b[1;32m    752\u001b[0m \u001b[0;34m\u001b[0m\u001b[0m\n\u001b[1;32m    753\u001b[0m         \u001b[0;31m# At this point array is a NumPy ndarray. We convert it to an array\u001b[0m\u001b[0;34m\u001b[0m\u001b[0;34m\u001b[0m\u001b[0m\n",
            "\u001b[0;32m/usr/local/lib/python3.10/dist-packages/pandas/core/generic.py\u001b[0m in \u001b[0;36m__array__\u001b[0;34m(self, dtype)\u001b[0m\n\u001b[1;32m   1996\u001b[0m     \u001b[0;32mdef\u001b[0m \u001b[0m__array__\u001b[0m\u001b[0;34m(\u001b[0m\u001b[0mself\u001b[0m\u001b[0;34m,\u001b[0m \u001b[0mdtype\u001b[0m\u001b[0;34m:\u001b[0m \u001b[0mnpt\u001b[0m\u001b[0;34m.\u001b[0m\u001b[0mDTypeLike\u001b[0m \u001b[0;34m|\u001b[0m \u001b[0;32mNone\u001b[0m \u001b[0;34m=\u001b[0m \u001b[0;32mNone\u001b[0m\u001b[0;34m)\u001b[0m \u001b[0;34m->\u001b[0m \u001b[0mnp\u001b[0m\u001b[0;34m.\u001b[0m\u001b[0mndarray\u001b[0m\u001b[0;34m:\u001b[0m\u001b[0;34m\u001b[0m\u001b[0;34m\u001b[0m\u001b[0m\n\u001b[1;32m   1997\u001b[0m         \u001b[0mvalues\u001b[0m \u001b[0;34m=\u001b[0m \u001b[0mself\u001b[0m\u001b[0;34m.\u001b[0m\u001b[0m_values\u001b[0m\u001b[0;34m\u001b[0m\u001b[0;34m\u001b[0m\u001b[0m\n\u001b[0;32m-> 1998\u001b[0;31m         \u001b[0marr\u001b[0m \u001b[0;34m=\u001b[0m \u001b[0mnp\u001b[0m\u001b[0;34m.\u001b[0m\u001b[0masarray\u001b[0m\u001b[0;34m(\u001b[0m\u001b[0mvalues\u001b[0m\u001b[0;34m,\u001b[0m \u001b[0mdtype\u001b[0m\u001b[0;34m=\u001b[0m\u001b[0mdtype\u001b[0m\u001b[0;34m)\u001b[0m\u001b[0;34m\u001b[0m\u001b[0;34m\u001b[0m\u001b[0m\n\u001b[0m\u001b[1;32m   1999\u001b[0m         if (\n\u001b[1;32m   2000\u001b[0m             \u001b[0mastype_is_view\u001b[0m\u001b[0;34m(\u001b[0m\u001b[0mvalues\u001b[0m\u001b[0;34m.\u001b[0m\u001b[0mdtype\u001b[0m\u001b[0;34m,\u001b[0m \u001b[0marr\u001b[0m\u001b[0;34m.\u001b[0m\u001b[0mdtype\u001b[0m\u001b[0;34m)\u001b[0m\u001b[0;34m\u001b[0m\u001b[0;34m\u001b[0m\u001b[0m\n",
            "\u001b[0;31mValueError\u001b[0m: could not convert string to float: 'Male'"
          ]
        }
      ],
      "source": [
        "from sklearn.experimental import enable_hist_gradient_boosting\n",
        "from sklearn.ensemble import HistGradientBoostingClassifier\n",
        "\n",
        "# Create your model here\n",
        "clf = HistGradientBoostingClassifier()\n",
        "\n",
        "# Fit the model to the training data\n",
        "clf.fit(X_train_bal, Y_train_bal)\n",
        "exercise_pred = clf.predict(X_test)"
      ]
    },
    {
      "cell_type": "markdown",
      "metadata": {
        "id": "Fnnles-p6OXr"
      },
      "source": [
        "2.) Next, let's evaluate the fairness of the model using the `MetricFrame`. In the below cells, create a `MetricFrame` that looks at the following metrics:\n",
        "\n",
        "\n",
        "*   _Count_: The number of data points belonging to each sensitive feature category.\n",
        "*   _False Positive Rate_: $\\dfrac{FN}{FN+TP}$\n",
        "*  _Recall Score_: $\\dfrac{TP}{TP+FN}$\n",
        "\n",
        "As an extra challenge, you can use the prediction probabilities to compute the _ROC AUC Score_ for each sensitive group pair.\n",
        "\n"
      ]
    },
    {
      "cell_type": "code",
      "execution_count": 111,
      "metadata": {
        "id": "bcf-x1oA_jP5",
        "colab": {
          "base_uri": "https://localhost:8080/",
          "height": 211
        },
        "outputId": "e9f0ea5b-8c89-4a45-a362-0f0964bb72dd"
      },
      "outputs": [
        {
          "output_type": "error",
          "ename": "NameError",
          "evalue": "name '_______' is not defined",
          "traceback": [
            "\u001b[0;31m---------------------------------------------------------------------------\u001b[0m",
            "\u001b[0;31mNameError\u001b[0m                                 Traceback (most recent call last)",
            "\u001b[0;32m<ipython-input-111-c24ef0439619>\u001b[0m in \u001b[0;36m<cell line: 3>\u001b[0;34m()\u001b[0m\n\u001b[1;32m      2\u001b[0m exercise_metrics = {\n\u001b[1;32m      3\u001b[0m     \u001b[0;34m\"count\"\u001b[0m\u001b[0;34m:\u001b[0m \u001b[0mcount\u001b[0m\u001b[0;34m,\u001b[0m\u001b[0;34m\u001b[0m\u001b[0;34m\u001b[0m\u001b[0m\n\u001b[0;32m----> 4\u001b[0;31m     \u001b[0;34m\"false_positive_rate\"\u001b[0m\u001b[0;34m:\u001b[0m \u001b[0m_______\u001b[0m\u001b[0;34m,\u001b[0m\u001b[0;34m\u001b[0m\u001b[0;34m\u001b[0m\u001b[0m\n\u001b[0m\u001b[1;32m      5\u001b[0m     \u001b[0;34m\"recall_score\"\u001b[0m\u001b[0;34m:\u001b[0m \u001b[0m_______\u001b[0m\u001b[0;34m\u001b[0m\u001b[0;34m\u001b[0m\u001b[0m\n\u001b[1;32m      6\u001b[0m }\n",
            "\u001b[0;31mNameError\u001b[0m: name '_______' is not defined"
          ]
        }
      ],
      "source": [
        "# Define exercise fairness metrics of interest here\n",
        "exercise_metrics = {\n",
        "    \"count\": count,\n",
        "    \"false_positive_rate\": _______,\n",
        "    \"recall_score\": _______\n",
        "}"
      ]
    },
    {
      "cell_type": "markdown",
      "metadata": {
        "id": "Bll-8GAWJF6p"
      },
      "source": [
        "Now, let's create our `MetricFrame` using the metrics listed above with the sensitive groups of `race` and `gender`."
      ]
    },
    {
      "cell_type": "code",
      "execution_count": null,
      "metadata": {
        "id": "jAjzjCqh_fNx"
      },
      "outputs": [],
      "source": [
        "metricframe_exercise = MetricFrame(\n",
        "    metrics=__________,\n",
        "    y_true=Y_test,\n",
        "    y_pred=__________,\n",
        "    sensitive_features=_____\n",
        ")"
      ]
    },
    {
      "cell_type": "markdown",
      "metadata": {
        "id": "QeghVCbLZOf5"
      },
      "source": [
        "3.) Finally, play around with the plotting capabilities of the `MetricFrame` in the below section.\n",
        "\n"
      ]
    },
    {
      "cell_type": "code",
      "execution_count": null,
      "metadata": {
        "id": "Nd4D17ME_hB2"
      },
      "outputs": [],
      "source": [
        "metricframe_exercise._______"
      ]
    },
    {
      "cell_type": "code",
      "execution_count": null,
      "metadata": {
        "id": "_xaLx6Br_hyc"
      },
      "outputs": [],
      "source": [
        "# Plot some of the performance disparities here\n",
        "metricframe_exercise.by_group.____.bar(subplots=_____, layout=[1,3], figsize=(12, 4),\n",
        "                                       legend=False, rot=-45, position=1.5)"
      ]
    },
    {
      "cell_type": "markdown",
      "metadata": {
        "id": "Me1ocEi2kEgw"
      },
      "source": [
        "The charts above are based on test data, so without any uncertainty quantification (such as error bars or confidence intervals), we cannot reliably compare these data statistics. Next optional section shows how to augment MetricFrame with the report of error bars.\n",
        "\n",
        "## Adding error bars [OPTIONAL SECTION]"
      ]
    },
    {
      "cell_type": "markdown",
      "metadata": {
        "id": "9l8YJ8qQdehm"
      },
      "source": [
        "In this section, we define new custom metrics that quantify errors in our estimates of selection rate, false negative rate and balanced accuracy, and then review our metrics again."
      ]
    },
    {
      "cell_type": "code",
      "execution_count": null,
      "metadata": {
        "id": "OiP-uXr_FLtz"
      },
      "outputs": [],
      "source": [
        "# All of our error bar calculations are based on normal approximation to\n",
        "# the binomial variables.\n",
        "\n",
        "def error_bar_normal(n_successes, n_trials, z=1.96):\n",
        "  \"\"\"\n",
        "  Computes the error bars for the parameter p of a binomial variable\n",
        "  using normal approximation. The default value z corresponds to the 95%\n",
        "  confidence interval.\n",
        "  \"\"\"\n",
        "  point_est = n_successes / n_trials\n",
        "  error_bar = z*np.sqrt(point_est*(1-point_est))/np.sqrt(n_trials)\n",
        "  return error_bar\n",
        "\n",
        "def fpr_error(Y_true, Y_pred):\n",
        "  \"\"\"\n",
        "  Compute the 95%-error bar for the false positive rate\n",
        "  \"\"\"\n",
        "  tn, fp, fn, tp = confusion_matrix(Y_true, Y_pred).ravel()\n",
        "  return error_bar_normal(fp, tn+fp)\n",
        "\n",
        "def fnr_error(Y_true, Y_pred):\n",
        "  \"\"\"\n",
        "  Compute the 95%-error bar for the false negative rate\n",
        "  \"\"\"\n",
        "  tn, fp, fn, tp = confusion_matrix(Y_true, Y_pred).ravel()\n",
        "  return error_bar_normal(fn, fn+tp)\n",
        "\n",
        "def selection_rate_error(Y_true, Y_pred):\n",
        "  \"\"\"\n",
        "  Compute the 95%-error bar for the selection rate\n",
        "  \"\"\"\n",
        "  tn, fp, fn, tp = confusion_matrix(Y_true, Y_pred).ravel()\n",
        "  return error_bar_normal(tp+fp, tn+fp+fn+tp)\n",
        "\n",
        "def balanced_accuracy_error(Y_true, Y_pred):\n",
        "  \"\"\"\n",
        "  Compute the 95%-error bar for the balanced accuracy\n",
        "  \"\"\"\n",
        "  fnr_err, fpr_err = fnr_error(Y_true, Y_pred), fpr_error(Y_true, Y_pred)\n",
        "  return np.sqrt(fnr_err**2 + fpr_err**2)/2"
      ]
    },
    {
      "cell_type": "markdown",
      "metadata": {
        "id": "qHaXfBYWp6ob"
      },
      "source": [
        "We next create a metric frame that includes the sample sizes and error bar sizes in addition to the metrics that we have used previously."
      ]
    },
    {
      "cell_type": "code",
      "execution_count": null,
      "metadata": {
        "id": "OlEq6ogfyHb6"
      },
      "outputs": [],
      "source": [
        "metrics_with_err_bars = {\n",
        "    \"count\": count,\n",
        "    \"selection_rate\": selection_rate,\n",
        "    \"selection_err_bar\": selection_rate_error,\n",
        "    \"false_negative_rate\": false_negative_rate,\n",
        "    \"fnr_err_bar\": fnr_error,\n",
        "    \"balanced_accuracy\": balanced_accuracy_score,\n",
        "    \"bal_acc_err_bar\": balanced_accuracy_error\n",
        "}\n",
        "\n",
        "# sometimes we will only want to display metrics without error bars\n",
        "metrics_to_display = [\n",
        "    \"count\",\n",
        "    \"selection_rate\",\n",
        "    \"false_negative_rate\",\n",
        "    \"balanced_accuracy\"\n",
        "]\n",
        "\n",
        "# sometimes we will only want to show the difference values of the metrics other than count\n",
        "differences_to_display = [\n",
        "    \"selection_rate\",\n",
        "    \"false_negative_rate\",\n",
        "    \"balanced_accuracy\"\n",
        "]"
      ]
    },
    {
      "cell_type": "code",
      "execution_count": null,
      "metadata": {
        "id": "55GOqFTYxbCi"
      },
      "outputs": [],
      "source": [
        "metricframe_unmitigated_w_err = MetricFrame(\n",
        "    metrics=metrics_with_err_bars,\n",
        "    y_true=Y_test,\n",
        "    y_pred=Y_pred,\n",
        "    sensitive_features=A_test\n",
        ")"
      ]
    },
    {
      "cell_type": "code",
      "execution_count": null,
      "metadata": {
        "id": "MlZKPNkHxbFb"
      },
      "outputs": [],
      "source": [
        "unmitigated_groups = metricframe_unmitigated_w_err.by_group\n",
        "unmitigated_groups # show both the metrics as well as the error bars"
      ]
    },
    {
      "cell_type": "markdown",
      "metadata": {
        "id": "hh5F-A5C5rSV"
      },
      "source": [
        "We see that for smaller sample sizes we have larger error bars. The problem is further exacerbated for false negative rate, which is estimated only over *positive examples* and so its sample sizes is further reduced due to label imbalance.\n",
        "\n",
        "We next visualize the metrics with the corresponding error bars using a custom plotting function."
      ]
    },
    {
      "cell_type": "code",
      "execution_count": null,
      "metadata": {
        "id": "rqFPLsATwROr"
      },
      "outputs": [],
      "source": [
        "def plot_group_metrics_with_error_bars(metricframe, metric, error_name):\n",
        "  \"\"\"\n",
        "  Plots the disaggregated `metric` for each group with an associated\n",
        "  error bar. Both metric and the erro bar are provided as columns in the\n",
        "  provided metricframe.\n",
        "  \"\"\"\n",
        "  grouped_metrics = metricframe.by_group\n",
        "  point_estimates = grouped_metrics[metric]\n",
        "  error_bars = grouped_metrics[error_name]\n",
        "  lower_bounds = point_estimates - error_bars\n",
        "  upper_bounds = point_estimates + error_bars\n",
        "\n",
        "  x_axis_names = [str(name) for name in error_bars.index.to_flat_index().tolist()]\n",
        "  plt.vlines(x_axis_names, lower_bounds, upper_bounds, linestyles=\"dashed\", alpha=0.45)\n",
        "  plt.scatter(x_axis_names, point_estimates, s=25)\n",
        "  plt.xticks(rotation=0)\n",
        "  y_start, y_end = np.round(min(lower_bounds), decimals=2), np.round(max(upper_bounds), decimals=2)\n",
        "  plt.yticks(np.arange(y_start, y_end, 0.05))\n",
        "  plt.ylabel(metric)"
      ]
    },
    {
      "cell_type": "code",
      "execution_count": null,
      "metadata": {
        "id": "dsRFpuXfzrUA"
      },
      "outputs": [],
      "source": [
        "plot_group_metrics_with_error_bars(metricframe_unmitigated_w_err, \"selection_rate\", \"selection_err_bar\")"
      ]
    },
    {
      "cell_type": "code",
      "execution_count": null,
      "metadata": {
        "id": "B68Q2ZIgzrcE"
      },
      "outputs": [],
      "source": [
        "plot_group_metrics_with_error_bars(metricframe_unmitigated_w_err, \"false_negative_rate\", \"fnr_err_bar\")"
      ]
    },
    {
      "cell_type": "code",
      "execution_count": null,
      "metadata": {
        "id": "htoUhyirpqZt"
      },
      "outputs": [],
      "source": [
        "plot_group_metrics_with_error_bars(metricframe_unmitigated_w_err, \"balanced_accuracy\", \"bal_acc_err_bar\")"
      ]
    },
    {
      "cell_type": "markdown",
      "metadata": {
        "id": "SAMhqvycR7eE"
      },
      "source": [
        "As we see above, even accounting for the larger uncertainty in estimating the false negative rate for *Unknown*, this group is experiencing substantially larger false negative rate than other groups and thus experiences the harm of allocation."
      ]
    },
    {
      "cell_type": "markdown",
      "metadata": {
        "id": "8ZqVGZkam1eH"
      },
      "source": [
        "\n",
        "\n",
        "---\n"
      ]
    },
    {
      "cell_type": "markdown",
      "metadata": {
        "id": "-dgITdRiD7Yu"
      },
      "source": [
        "# **Mitigating fairness-related harms in ML models**"
      ]
    },
    {
      "cell_type": "markdown",
      "metadata": {
        "id": "sbUSG1jVA06G"
      },
      "source": [
        "We have found that the logistic regression predictor leads to a large difference in false positive rates between the groups. We next look at **algorithmic mitigation strategies** of this fairness issue (and similar ones).\n",
        "\n",
        "*Note that while we currently focus on the training stage of the AI lifecycle mitigation should not be limited to this stage. In fact, we have already discussed mitigation strategies that are applicable at the task definition stage (e.g., checking for construct validity) and data collection stage (e.g., collecting more data).*\n",
        "\n",
        "Within the model training stage, mitigation may occur at different steps relative to model training:\n",
        "\n",
        "* **Preprocessing**: A mitigation algorithm is applied to transform the input data to the training algorithm; for example, some strategies seek to remove and dependence between the input features and sensitive features.\n",
        "\n",
        "* **At training time**: The model is trained by an (optimization) algorithm that seeks to satisfy fairness constraints.\n",
        "\n",
        "* **Postprocessing**: The output of a trained model is transformed to mitigate fairness issues; for example, the predicted probability of readmission is thresholded according to a group-specific threshold.\n",
        "\n",
        "We will now dive into two algorithms: a postprocessing approach and a reductions approach (which is a training-time algorithm). Both of them are in fact **meta-algorithms** in the sense that they act as wrappers around *any* standard (fairness-unaware) machine learning algorithms. This makes them quite versatile in practice.\n"
      ]
    },
    {
      "cell_type": "markdown",
      "metadata": {
        "id": "rX8QycCL0mJj"
      },
      "source": [
        "## Postprocessing with `ThresholdOptimizer`"
      ]
    },
    {
      "cell_type": "markdown",
      "metadata": {
        "id": "fRZfSFzcFaXP"
      },
      "source": [
        "**Postprocessing** techniques are a class of unfairness-mitigation algorithms that take an already trained model and a dataset as an input and seek to fit a transformation function to model's outputs to satisfy some (group) fairness constraint(s). They might be the only feasible unfairness mitigation approach when developers cannot influence training of the model, due to practical reasons or due to security or privacy.\n"
      ]
    },
    {
      "cell_type": "markdown",
      "metadata": {
        "id": "6PgzZkK9Wbni"
      },
      "source": [
        "Here we use the `ThresholdOptimizer` algorithm from Fairlearn, which follows the approach of [Hardt, Price, and Srebro (2016)](https://arxiv.org/abs/1610.02413).\n",
        "\n",
        "`ThresholdOptimizer` takes in an exisiting (possibly pre-fit) machine learning model whose predictions act as a scoring function and identifies a separate thrceshold for each group in order to optimize some specified objective metric (such as **balanced accuracy**) subject to specified fairness constraints (such as **false negative rate parity**). Thus, the resulting classifier is just a suitably thresholded version of the underlying machinelearning model.\n",
        "\n",
        "The constraint **false negative rate parity** requires that all the groups have equal values of false negative rate.\n",
        "\n"
      ]
    },
    {
      "cell_type": "markdown",
      "metadata": {
        "id": "OFOovaN7AwDr"
      },
      "source": [
        "To instatiate our `ThresholdOptimizer`, we pass in:\n",
        "\n",
        "*   An existing `estimator` that we wish to threshold.\n",
        "*   The fairness `constraints` we want to satisfy.\n",
        "*   The `objective` metric we want to maximize.\n",
        "\n"
      ]
    },
    {
      "cell_type": "code",
      "execution_count": null,
      "metadata": {
        "id": "8je0grKPWHhy"
      },
      "outputs": [],
      "source": [
        "# Now we instantite ThresholdOptimizer with the logistic regression estimator\n",
        "postprocess_est = ThresholdOptimizer(\n",
        "    estimator=unmitigated_pipeline,\n",
        "    constraints=\"false_positive_rate_parity\",\n",
        "    objective=\"balanced_accuracy_score\",\n",
        "    prefit=True,\n",
        "    predict_method='predict_proba'\n",
        ")"
      ]
    },
    {
      "cell_type": "markdown",
      "metadata": {
        "id": "VDD86L7eCSe0"
      },
      "source": [
        "In order to use the `ThresholdOptimizer`, we need access to the sensitive features **both during training time and once it's deployed**."
      ]
    },
    {
      "cell_type": "code",
      "execution_count": null,
      "metadata": {
        "id": "VCHJBB7x1rAK"
      },
      "outputs": [],
      "source": [
        "postprocess_est.fit(X_train_bal, Y_train_bal, sensitive_features=A_train_bal)"
      ]
    },
    {
      "cell_type": "code",
      "execution_count": null,
      "metadata": {
        "id": "YscNZsYU1rCY"
      },
      "outputs": [],
      "source": [
        "# Record and evaluate the output of the trained ThresholdOptimizer on test data\n",
        "\n",
        "Y_pred_postprocess = postprocess_est.predict(X_test, sensitive_features=A_test)\n",
        "metricframe_postprocess = MetricFrame(\n",
        "    metrics=metrics_dict,\n",
        "    y_true=Y_test,\n",
        "    y_pred=Y_pred_postprocess,\n",
        "    sensitive_features=A_test\n",
        ")"
      ]
    },
    {
      "cell_type": "markdown",
      "metadata": {
        "id": "_izbGv6tQ1KD"
      },
      "source": [
        "We can now inspect how the metric values differ between the postprocessed model and the unmitigated model:"
      ]
    },
    {
      "cell_type": "code",
      "execution_count": null,
      "metadata": {
        "id": "-9mtWyWc1rH5"
      },
      "outputs": [],
      "source": [
        "pd.concat([metricframe_unmitigated.by_group,\n",
        "           metricframe_postprocess.by_group],\n",
        "           keys=['Unmitigated', 'ThresholdOptimizer'],\n",
        "           axis=1)"
      ]
    },
    {
      "cell_type": "markdown",
      "metadata": {
        "id": "mzPCUFsXPU_S"
      },
      "source": [
        "We next zoom in on differences between the largest and the smallest metric values:"
      ]
    },
    {
      "cell_type": "code",
      "execution_count": null,
      "metadata": {
        "id": "dsC4v8Ap1rKt"
      },
      "outputs": [],
      "source": [
        "pd.concat([metricframe_unmitigated.difference(),\n",
        "           metricframe_postprocess.difference()],\n",
        "          keys=['Unmitigated: difference', 'ThresholdOptimizer: difference'],\n",
        "          axis=1).T"
      ]
    },
    {
      "cell_type": "markdown",
      "metadata": {
        "id": "Hhi_RSxSRoyg"
      },
      "source": [
        "As we see, `ThresholdOptimizer` was able to substantiallydecrease the difference between the values of false negative rate."
      ]
    },
    {
      "cell_type": "markdown",
      "metadata": {
        "id": "GarQvopkVN2S"
      },
      "source": [
        "Finally, we save the disagregated statistics:"
      ]
    },
    {
      "cell_type": "code",
      "execution_count": null,
      "metadata": {
        "id": "EsTehBH2SW7f"
      },
      "outputs": [],
      "source": [
        "metricframe_postprocess.by_group.plot.bar(subplots=True, layout=[1,3], figsize=(12, 4), legend=False, rot=-45, position=1.5)\n",
        "postprocess_performance = figure_to_base64str(plt)"
      ]
    },
    {
      "cell_type": "markdown",
      "metadata": {
        "id": "umd3slsDmk0d"
      },
      "source": [
        "Next optional section shows that `ThresholdOptimizer` more closely satisfies constraints on the training data than on the test data.\n",
        "\n",
        "### Postprocessing: Correctness check [OPTIONAL SECTION]"
      ]
    },
    {
      "cell_type": "markdown",
      "metadata": {
        "id": "Cs1kWzda8f0z"
      },
      "source": [
        "We can verify that `ThresholdOptimizer` achieves false negative rate parity on the training dataset, meaning that the values of the false negative rate parity with respect to all groups are close on the training data."
      ]
    },
    {
      "cell_type": "code",
      "execution_count": null,
      "metadata": {
        "id": "ttOZAVbgmplf"
      },
      "outputs": [],
      "source": [
        "# Record and evaluate the output of the ThresholdOptimizer on the training data\n",
        "\n",
        "Y_pred_postprocess_training = postprocess_est.predict(X_train_bal, sensitive_features=A_train_bal)\n",
        "metricframe_postprocess_training = MetricFrame(\n",
        "    metrics=metrics_dict,\n",
        "    y_true=Y_train_bal,\n",
        "    y_pred=Y_pred_postprocess_training,\n",
        "    sensitive_features=A_train_bal\n",
        ")\n",
        "metricframe_postprocess_training.by_group"
      ]
    },
    {
      "cell_type": "code",
      "execution_count": null,
      "metadata": {
        "id": "Tty0cmJomp1h"
      },
      "outputs": [],
      "source": [
        "# Evaluate the difference between the largest and smallest value of each metric\n",
        "metricframe_postprocess_training.difference()"
      ]
    },
    {
      "cell_type": "markdown",
      "metadata": {
        "id": "Kvdn7wBhCqXw"
      },
      "source": [
        "The value of `false_negative_rate_difference` on the training data is smaller than on the test data."
      ]
    },
    {
      "cell_type": "markdown",
      "metadata": {
        "id": "z2vLNUnK_P66"
      },
      "source": [
        "<a name=\"exercise-threshold\"></a>\n",
        "### Exercise: ThresholdOptimizer"
      ]
    },
    {
      "cell_type": "markdown",
      "metadata": {
        "id": "0YUembo02yQ8"
      },
      "source": [
        "In this exercise, we will create a `ThresholdOptimizer` by constraining the *true positive rate* (also known as the *recall score*). For any model, the *true positive rate* + *false negative rate* = 1.\n",
        "\n",
        "By trying to achieve the *true positive rate parity*, we should produce a `ThresholdOptimizer` with the same performance as our original `ThresholdOptimizer`.\n",
        "\n"
      ]
    },
    {
      "cell_type": "markdown",
      "metadata": {
        "id": "ZJxE2eMuNF3_"
      },
      "source": [
        "#### 1.) Create a new ThresholdOptimizer with the constraint `true_positive_rate_parity` and objective `balanced_accuracy_score`."
      ]
    },
    {
      "cell_type": "code",
      "execution_count": null,
      "metadata": {
        "id": "zD5kQu6gqyl6"
      },
      "outputs": [],
      "source": [
        "thresopt_exercise = ThresholdOptimizer(\n",
        "    estimator=______________,\n",
        "    constraints=____________,\n",
        "    objective=\"balanced_accuracy_score\",\n",
        "    prefit=True,\n",
        "    predict_method='predict_proba'\n",
        ")"
      ]
    },
    {
      "cell_type": "code",
      "execution_count": null,
      "metadata": {
        "id": "CxdAikCKqyuW"
      },
      "outputs": [],
      "source": [
        "thresopt_exercise.____(X_train_bal, Y_train_bal, sensitive_features=_______)\n",
        "threshopt_pred = thresopt_exercise._________(X_test, sensitive_features=_______)"
      ]
    },
    {
      "cell_type": "markdown",
      "metadata": {
        "id": "xBLD77OENFN-"
      },
      "source": [
        "#### 2.) Create a new `MetricFrame` object to process the results of this classifier."
      ]
    },
    {
      "cell_type": "code",
      "execution_count": null,
      "metadata": {
        "id": "B12UNsZErImo"
      },
      "outputs": [],
      "source": [
        "thresop_metricframe = MetricFrame(\n",
        "    metrics=metrics_dict,\n",
        "    y_true=Y_test,\n",
        "    y_pred=____________,\n",
        "    sensitive_features=_______\n",
        ")"
      ]
    },
    {
      "cell_type": "markdown",
      "metadata": {
        "id": "DEyEie-9NEew"
      },
      "source": [
        "#### 3.) Compare the performance of the two `ThresholdOptimizers`."
      ]
    },
    {
      "cell_type": "code",
      "execution_count": null,
      "metadata": {
        "id": "uz9mS66YrWka"
      },
      "outputs": [],
      "source": [
        "# Visualize the performance of the new ThresholdOptimizer\n",
        "thresop_metricframe._______"
      ]
    },
    {
      "cell_type": "code",
      "execution_count": null,
      "metadata": {
        "id": "oByEABVGrXWo"
      },
      "outputs": [],
      "source": [
        "# Compare the performance to the original ThresholdOptimizer\n",
        "metricframe_postprocess.______"
      ]
    },
    {
      "cell_type": "markdown",
      "metadata": {
        "id": "wAUI3LdQbBCs"
      },
      "source": [
        "Similar to many unfairness mitigation approaches, `ThresholdOptimizer` produces randomized classifiers. Next optional section presents a heuristic strategy for converting a randomized `ThresholdOptimizer` into a deterministic one. In our scenario, this heursitic is quite effective and the resulting deterministic classifier has similar performance as the original `ThresholdOptimizer`.\n",
        "\n",
        "### Deployment considerations: Randomized predictions [OPTIONAL SECTION]"
      ]
    },
    {
      "cell_type": "markdown",
      "metadata": {
        "id": "wlfeHwVC6dna"
      },
      "source": [
        "When we were describing `ThresholdOptimizer` we said that it picks a separate threshold for each group. However, that is not quite correct. In fact,`ThresholdOptimizer`, for each group, picks two thresholds that are close to each other (say `threshold0` and `threshold1`) and then, at deployment time, randomizes between the two: choosing `threshold0` with some probability `p0` and `threshold1` with the remaining probability `p1=1-p0` (the specific probabilities are determined during training; for certain kinds of constraints, three thresholds are considered.)\n",
        "\n",
        "This means that the predictions are randomized. To achieve reproducible randomization, it is possible to provide an argument `random_state` to the `predict` method. However, in some settings, even such reproducible randomization is not acceptable and can be in fact viewed as a fairness issue, because of its arbitrariness.\n",
        "\n",
        "One derandomization heuristic is to replace the two thresholds by their weighted average, i.e., `threshold = p0*threshold0 + p1*threshold1`. That corresponds to the assumption that the values of the scores between the two thresholds are approximately uniformly distributed. Using this heuristic, we derandomize `ThresholdOptimizer`.\n",
        "\n"
      ]
    },
    {
      "cell_type": "markdown",
      "metadata": {
        "id": "nia26AD2BBKf"
      },
      "source": [
        "The randomized model of the `ThresholdOptimizer` is stored as the field\n",
        "`interpolated_thresholder_` in the fitted ThresholdOptimizer, which is itself a\n",
        "valid estimator of type `InterpolatedThresholder`:"
      ]
    },
    {
      "cell_type": "code",
      "execution_count": null,
      "metadata": {
        "id": "5w-c22tsZsvj"
      },
      "outputs": [],
      "source": [
        "interpolated = postprocess_est.interpolated_thresholder_\n",
        "interpolated"
      ]
    },
    {
      "cell_type": "markdown",
      "metadata": {
        "id": "8PkqiznTuL0l"
      },
      "source": [
        "The `interpolation_dict` is a dictionary which assign to each sensitive feature value two thresholds and two respective probabilities. Using our derandomization strategy, we can create a dictionary that represents a deterministic rule:\n"
      ]
    },
    {
      "cell_type": "code",
      "execution_count": null,
      "metadata": {
        "id": "F3a1Mw8koLUa"
      },
      "outputs": [],
      "source": [
        "def create_deterministic(interpolate_dict):\n",
        "  \"\"\"\n",
        "  Creates a deterministic interpolation_dictionary from a randomized\n",
        "  interpolation_dictionary. The determinstic thresholds are created by taking\n",
        "  the weighted combinations of the two randomized thresholds for each sensitive\n",
        "  group.\n",
        "  \"\"\"\n",
        "  deterministic_dict = {}\n",
        "  for (race, operations) in interpolate_dict.items():\n",
        "    op0, op1 = operations[\"operation0\"]._threshold, operations[\"operation1\"]._threshold\n",
        "    p0, p1 = operations[\"p0\"], operations[\"p1\"]\n",
        "    deterministic_dict[race] = Bunch(\n",
        "      p0=0.0,\n",
        "      p1=1.0,\n",
        "      operation0=ThresholdOperation(operator=\">\",threshold=(p0*op0 + p1*op1)),\n",
        "      operation1=ThresholdOperation(operator=\">\",threshold=(p0*op0 + p1*op1))\n",
        "    )\n",
        "  return deterministic_dict"
      ]
    },
    {
      "cell_type": "code",
      "execution_count": null,
      "metadata": {
        "id": "lbynyyy2CKxv"
      },
      "outputs": [],
      "source": [
        "deterministic_dict = create_deterministic(interpolated.interpolation_dict)\n",
        "deterministic_dict"
      ]
    },
    {
      "cell_type": "markdown",
      "metadata": {
        "id": "euqycBW_3EB2"
      },
      "source": [
        "Now, we can create an `InterpolatedThresholder` that uses the same pre-fit estimator, but with derandomized thresholds."
      ]
    },
    {
      "cell_type": "code",
      "execution_count": null,
      "metadata": {
        "id": "R3qKiaMiPOaG"
      },
      "outputs": [],
      "source": [
        "deterministic_thresholder = InterpolatedThresholder(estimator=interpolated.estimator,\n",
        "                                                 interpolation_dict=deterministic_dict,\n",
        "                                                 prefit=True,\n",
        "                                                 predict_method='predict_proba')"
      ]
    },
    {
      "cell_type": "code",
      "execution_count": null,
      "metadata": {
        "id": "XLNNadraaFMT"
      },
      "outputs": [],
      "source": [
        "deterministic_thresholder.fit(X_train_bal, Y_train_bal, sensitive_features=A_train_bal)"
      ]
    },
    {
      "cell_type": "code",
      "execution_count": null,
      "metadata": {
        "id": "TPRwWuuWY2Yy"
      },
      "outputs": [],
      "source": [
        "y_pred_postprocess_deterministic = deterministic_thresholder.predict(X_test, sensitive_features=A_test)"
      ]
    },
    {
      "cell_type": "code",
      "execution_count": null,
      "metadata": {
        "id": "q3834uLWeXWO"
      },
      "outputs": [],
      "source": [
        "mf_deterministic = MetricFrame(\n",
        "    metrics=metrics_dict,\n",
        "    y_true=Y_test,\n",
        "    y_pred=y_pred_postprocess_deterministic,\n",
        "    sensitive_features=A_test\n",
        ")"
      ]
    },
    {
      "cell_type": "markdown",
      "metadata": {
        "id": "2tnGhMYzDloo"
      },
      "source": [
        "Now compare the two models in terms of their disaggregated metrics:"
      ]
    },
    {
      "cell_type": "code",
      "execution_count": null,
      "metadata": {
        "id": "NIkoljGTeXZ0"
      },
      "outputs": [],
      "source": [
        "mf_deterministic.by_group"
      ]
    },
    {
      "cell_type": "code",
      "execution_count": null,
      "metadata": {
        "id": "mVimPa2nlFpv"
      },
      "outputs": [],
      "source": [
        "metricframe_postprocess.by_group"
      ]
    },
    {
      "cell_type": "markdown",
      "metadata": {
        "id": "JOi4dwLKECHS"
      },
      "source": [
        "The differences are generally small except for the *Unknown* group, whose false negative rate goes down and balanced accuracy goes up."
      ]
    },
    {
      "cell_type": "markdown",
      "metadata": {
        "id": "NU_rncBQ0lab"
      },
      "source": [
        "## Reductions approach with `ExponentiatedGradient`"
      ]
    },
    {
      "cell_type": "markdown",
      "metadata": {
        "id": "bpyBnqNLZ-w_"
      },
      "source": [
        "With the `ThresholdOptimizer`, we took a fairness-unaware model and transformed the model's decision boundary to satisfy our fairness constraints. One limitation of `ThresholdOptimizer` is that it needs access to the sensitive features at deployment time.\n",
        "\n",
        "In this section, we will show how to use the _reductions_ approach of [Agarwal et. al (2018)](https://arxiv.org/abs/1803.02453) to obtain a model that satisfies the fairness constraints, but does not need access to sensitive features at deployment time.\n",
        "\n",
        "Terminology \"reductions\" refers to another kind of a wrapper approach, which instead of wrapping an already trained model, wraps any standard classification or regression algorithm, such as\n",
        "`LogisticRegression`. In other words, an input to a reduction algorithm is an object that supports training on any provided (weighted) dataset. In addition, a reduction algorithm receives a data set that includes sensitive features. The goal, like with post-processing, is to optimize a performance metric (such as classification accuracy) subject to fairness constraints (such as an upper bound on differences between false negative rates).\n",
        "\n",
        "The main reduction algorithm algorithm in Fairlearn is `ExponentiatedGradient`. It creates a sequence of reweighted datasets and retrains the wrapped model on each of them. The\n",
        "retraining process is guaranteed to find a model that satisfies the fairness constraints while optimizing the performance metric.\n",
        "\n",
        "The model returned by `ExponentiatedGradient` consists of several inner models, returned by the wrapped estimator. At deployment time, `ExponentiatedGradient` randomizes among these models according to a specific probability weights."
      ]
    },
    {
      "cell_type": "markdown",
      "metadata": {
        "id": "ZvT_qeduHCn8"
      },
      "source": [
        "To instantiate an `ExponentiatedGradient` model, we pass in two parameters:\n",
        "\n",
        "*   A base `estimator` (an object that supports training)\n",
        "*   Fairness `constraints` (an object of type `Moment`).\n",
        "\n",
        "The constraints supported by `ExponentiatedGradient` are more general than those supported by `ThresholdOptimizer`. For example, rather than requiring that false negative rates be equal, it is possible to specify the maxium allowed difference or ratio between the largest and the smallest value.\n"
      ]
    },
    {
      "cell_type": "code",
      "execution_count": null,
      "metadata": {
        "id": "ToZdrYen0tJZ"
      },
      "outputs": [],
      "source": [
        "expgrad_est = ExponentiatedGradient(\n",
        "    estimator=LogisticRegression(max_iter=1000, random_state=random_seed),\n",
        "    constraints=TruePositiveRateParity(difference_bound=0.02)\n",
        ")"
      ]
    },
    {
      "cell_type": "markdown",
      "metadata": {
        "id": "bLFk3SCxrskU"
      },
      "source": [
        "The constraints above are expressed for the true positive parity, they require that the difference between the largest and the smallest true positive rate (TPR) across all groups be at most 0.02. Since false negative rate (FNR) is equal to 1-TPR, this is equivalent to requiring that the difference between the largest and smallest FNR be at most 0.02."
      ]
    },
    {
      "cell_type": "code",
      "execution_count": null,
      "metadata": {
        "id": "UFSF5Wn-3M-H"
      },
      "outputs": [],
      "source": [
        "# Fit the exponentiated gradient model\n",
        "expgrad_est.fit(X_train_bal, Y_train_bal, sensitive_features=A_train_bal)"
      ]
    },
    {
      "cell_type": "markdown",
      "metadata": {
        "id": "VsCeOlKFDQZZ"
      },
      "source": [
        "Similarly to `ThresholdOptimizer` the predictions of `ExponentiatedGradient` models are randomized. If we want to assure reproducible results, we can pass  `random_state` to the `predict` function."
      ]
    },
    {
      "cell_type": "code",
      "execution_count": null,
      "metadata": {
        "id": "YYz7GAqf4cbp"
      },
      "outputs": [],
      "source": [
        "# Record and evaluate predictions on test data\n",
        "\n",
        "Y_pred_reductions = expgrad_est.predict(X_test, random_state=random_seed)\n",
        "metricframe_reductions = MetricFrame(\n",
        "    metrics=metrics_dict,\n",
        "    y_true=Y_test,\n",
        "    y_pred=Y_pred_reductions,\n",
        "    sensitive_features=A_test\n",
        ")\n",
        "metricframe_reductions.by_group"
      ]
    },
    {
      "cell_type": "code",
      "execution_count": null,
      "metadata": {
        "id": "idYvm9lq4mh3"
      },
      "outputs": [],
      "source": [
        "# Evaluate the difference between the largest and smallest value of each metric\n",
        "metricframe_reductions.difference()"
      ]
    },
    {
      "cell_type": "markdown",
      "metadata": {
        "id": "qpxYOozouVx9"
      },
      "source": [
        "While there is a decrease in the false negative rate difference from the unmitigated model, this decrease is not as substantial as with `ThresholdOptimizer`. Note, however, that `ThresholdOptimizer` was able to use the sensitive feature (i.e., race) at deployment time."
      ]
    },
    {
      "cell_type": "markdown",
      "metadata": {
        "id": "IzTeHhWG4nJJ"
      },
      "source": [
        "### Explore individual predictors"
      ]
    },
    {
      "cell_type": "markdown",
      "metadata": {
        "id": "o7qCmHeYKWGp"
      },
      "source": [
        "During the training process, the `ExponentiatedGradient` algorithm iteratively trains multiple inner models on a reweighted training dataset. The algorithm stores each of these predictors and then randomizes among them at deployment time.\n",
        "\n",
        "In many applications, the randomization is undesirable, and also using multiple inner models can pose issues for interpretability. However, the inner models that `ExponentiatedGradient` relies on span a variety of fairness-accuracy trade-offs, and they could be considered for stand-alone deployment: addressing the randomization and interpretability issues, while possibly offering additional flexibility thanks to a variety of trade-offs.\n",
        "\n",
        "In this section explore the performance of the individual predictors learned by the `ExponentiatedGradient` algorithm. First, note that since the base estimator was `LogisticRegression` all these predictors are different logistic regression models:"
      ]
    },
    {
      "cell_type": "code",
      "execution_count": null,
      "metadata": {
        "id": "II_YtUZg3Ue4"
      },
      "outputs": [],
      "source": [
        "predictors = expgrad_est.predictors_\n",
        "predictors"
      ]
    },
    {
      "cell_type": "code",
      "execution_count": null,
      "metadata": {
        "id": "K3Bh2IVm4Ynj"
      },
      "outputs": [],
      "source": [
        "# Collect predictions by all predictors and calculate balanced error\n",
        "# as well as the false negative difference for all of them\n",
        "\n",
        "sweep_preds = [clf.predict(X_test) for clf in predictors]\n",
        "balanced_error_sweep = [1-balanced_accuracy_score(Y_test, Y_sweep) for Y_sweep in sweep_preds]\n",
        "fnr_diff_sweep = [false_negative_rate_difference(Y_test, Y_sweep, sensitive_features=A_test) for Y_sweep in sweep_preds]"
      ]
    },
    {
      "cell_type": "code",
      "execution_count": null,
      "metadata": {
        "id": "r9TKGsNY8Myu"
      },
      "outputs": [],
      "source": [
        "# Show the balanced error / fnr difference values of all predictors on a raster plot\n",
        "\n",
        "plt.scatter(balanced_error_sweep, fnr_diff_sweep, label=\"ExponentiatedGradient - Iterations\")\n",
        "for i in range(len(predictors)):\n",
        "  plt.annotate(str(i), xy=(balanced_error_sweep[i]+0.001, fnr_diff_sweep[i]+0.001))\n",
        "\n",
        "# Also include in the plot the combined ExponentiatedGradient model\n",
        "# as well as the three previously fitted models\n",
        "\n",
        "plt.scatter(1-balanced_accuracy_score(Y_test, Y_pred_reductions),\n",
        "            false_negative_rate_difference(Y_test, Y_pred_reductions, sensitive_features=A_test),\n",
        "            label=\"ExponentiatedGradient - Combined model\")\n",
        "plt.scatter(1-balanced_accuracy_score(Y_test, Y_pred),\n",
        "            false_negative_rate_difference(Y_test, Y_pred, sensitive_features=A_test),\n",
        "            label=\"Unmitigated\")\n",
        "plt.scatter(1-balanced_accuracy_score(Y_test, Y_pred_postprocess),\n",
        "            false_negative_rate_difference(Y_test, Y_pred_postprocess, sensitive_features=A_test),\n",
        "            label=\"ThresholdOptimizer\")\n",
        "plt.scatter(1-balanced_accuracy_score(Y_test, y_pred_postprocess_deterministic),\n",
        "            false_negative_rate_difference(Y_test, y_pred_postprocess_deterministic, sensitive_features=A_test),\n",
        "            label=\"ThresholdOptimizer (DET)\")\n",
        "\n",
        "plt.xlabel(\"Balanced Error Rate\")\n",
        "plt.ylabel(\"False Negative Rate Difference\")\n",
        "plt.legend(bbox_to_anchor=(1.9,1))\n",
        "plt.show()"
      ]
    },
    {
      "cell_type": "markdown",
      "metadata": {
        "id": "1MozjJKkZqz_"
      },
      "source": [
        "<a name=\"exercise-reductions\"></a>\n",
        "### Exercise: Train an `ExponentiatedGradient` model"
      ]
    },
    {
      "cell_type": "markdown",
      "metadata": {
        "id": "lLeGnB4juJsM"
      },
      "source": [
        "In this section, we will explore how changing the base model for the `ExponentiatedGradient` affects the overall performance of the classifier.\n",
        "\n",
        "We will instatiate a new `ExponentiatedGradient` classifier with a base `HistGradientBoostingClassifer` estimator. We will use the same `difference_bound` as above."
      ]
    },
    {
      "cell_type": "markdown",
      "metadata": {
        "id": "ghjfKhtB3Kl9"
      },
      "source": [
        "1.) First, let's create our new `ExponentiatedGradient` instance in the cells below and fit it to the training data."
      ]
    },
    {
      "cell_type": "code",
      "execution_count": null,
      "metadata": {
        "id": "CNjDh4JUAc6i"
      },
      "outputs": [],
      "source": [
        "# Create ExponentiatedGradient instance here\n",
        "expgrad_exercise = ExponentiatedGradient(\n",
        "    estimator=_______,\n",
        "    constraints=TruePositiveRateParity(difference_bound=____)\n",
        ")"
      ]
    },
    {
      "cell_type": "code",
      "execution_count": null,
      "metadata": {
        "id": "MFIAEkEBAc9P"
      },
      "outputs": [],
      "source": [
        "# Fit the new instance to the balanced training dataset\n",
        "expgrad_exercise.fit(________, _________, sensitive_features=________)"
      ]
    },
    {
      "cell_type": "markdown",
      "metadata": {
        "id": "8H_UDlAs3M-D"
      },
      "source": [
        "2.) Now, let's compute the performance of the `ExponentiatedGradient` model and compare it with the performance of `ExponentiatedGradient` model with logistic regression as base estimator"
      ]
    },
    {
      "cell_type": "code",
      "execution_count": null,
      "metadata": {
        "id": "_Qkfth4ZZBQV"
      },
      "outputs": [],
      "source": [
        "# Save the predictions and report the disagregated metrics\n",
        "# of the exponantiated gradient model\n",
        "Y_expgrad_exercise = expgrad_exercise.predict(X_test)\n",
        "mf_expgrad_exercise = MetricFrame(\n",
        "    metrics=metrics_dict,\n",
        "    y_true=Y_test,\n",
        "    y_pred=_______,\n",
        "    sensitive_features=________\n",
        ")\n",
        "mf_expgrad_exercise.______"
      ]
    },
    {
      "cell_type": "code",
      "execution_count": null,
      "metadata": {
        "id": "K4noXEU6vEDC"
      },
      "outputs": [],
      "source": [
        "# Compare with the disaggregated metric values of the\n",
        "# exponentiated gradient model based on logistic regression\n",
        "metricframe_reductions.____"
      ]
    },
    {
      "cell_type": "markdown",
      "metadata": {
        "id": "Boo771yFUyJ7"
      },
      "source": [
        "3.) Next, calculate the balanced error rate and false negative rate difference of each of the inner models learned by this new `ExponentiatedGradient` classifier."
      ]
    },
    {
      "cell_type": "code",
      "execution_count": null,
      "metadata": {
        "id": "jws7w2z6RWUM"
      },
      "outputs": [],
      "source": [
        "# Save the inner predictors of the new model\n",
        "predictors_exercise = expgrad_exercise.predictors_"
      ]
    },
    {
      "cell_type": "code",
      "execution_count": null,
      "metadata": {
        "id": "aVTqrrSRAtGc"
      },
      "outputs": [],
      "source": [
        "# Compute the balanced error rate and false negative rate difference for each of the predictors on the test data.\n",
        "balanced_error_exercise = [(1 - ______(Y_test, pred.predict(X_test))) for pred in predictors_exercise]\n",
        "false_neg_exercise = [(______(Y_test, pred.predict(X_test), sensitive_features=_____)) for pred in predictors_exercise]"
      ]
    },
    {
      "cell_type": "markdown",
      "metadata": {
        "id": "Aos3gdHjDQEi"
      },
      "source": [
        "4.) Finally, let's plot the performances of these individual inner models. In the below cells, plot the individual inner predictors against the performance of their corresponding exponentiated gradient model as well as the unmitigated logistic regression model, and the `ThresholdOptimizer`."
      ]
    },
    {
      "cell_type": "code",
      "execution_count": null,
      "metadata": {
        "id": "IxTjb8CeZqPI"
      },
      "outputs": [],
      "source": [
        "# Plot the individual predictors against the Unmitigated Model and the ThresholdOptimizer\n",
        "plt.scatter(balanced_error_exercise, false_neg_exercise,\n",
        "            label=\"ExponentiatedGradient - Iterations - Exercise\")\n",
        "for i in range(len(predictors_exercise)):\n",
        "  plt.annotate(str(i), xy=(balanced_error_exercise[i]+0.001, false_neg_exercise[i]+0.001))\n",
        "\n",
        "plt.scatter(1-balanced_accuracy_score(Y_test, Y_expgrad_exercise),\n",
        "            false_negative_rate_difference(Y_test, Y_expgrad_exercise, sensitive_features=A_test),\n",
        "            label=\"ExponentiatedGradient - Combined - Exercise\")\n",
        "plt.scatter(1-balanced_accuracy_score(Y_test, Y_pred),\n",
        "            false_negative_rate_difference(Y_test, Y_pred, sensitive_features=A_test),\n",
        "            label=\"Unmitigated\")\n",
        "plt.scatter(1-balanced_accuracy_score(Y_test, Y_pred_postprocess),\n",
        "            false_negative_rate_difference(Y_test, Y_pred_postprocess, sensitive_features=A_test),\n",
        "            label=\"ThresholdOptimizer\")\n",
        "\n",
        "plt.xlabel(\"Balanced Error Rate\")\n",
        "plt.ylabel(\"False Negative Rate Difference\")\n",
        "plt.legend(bbox_to_anchor=(1.9,1))\n",
        "plt.show()"
      ]
    },
    {
      "cell_type": "markdown",
      "metadata": {
        "id": "iyknfgrsW1gi"
      },
      "source": [
        "## Comparing performance of different techniques"
      ]
    },
    {
      "cell_type": "markdown",
      "metadata": {
        "id": "Vee-7c2Tw33O"
      },
      "source": [
        "Now we have covered two different class of techniques for mitigating the fairness-related harms we found in our fairness-unaware model. In this section, we will compare the performance of the models we trained above across our key metrics."
      ]
    },
    {
      "cell_type": "markdown",
      "metadata": {
        "id": "XEXnEeLl7mgc"
      },
      "source": [
        "#### Model performance - by group"
      ]
    },
    {
      "cell_type": "code",
      "execution_count": null,
      "metadata": {
        "id": "SNyCZxHJuXZV"
      },
      "outputs": [],
      "source": [
        "def plot_technique_comparison(mf_dict, metric):\n",
        "  \"\"\"\n",
        "  Plots a specified metric for a given dictionary of MetricFrames.\n",
        "  \"\"\"\n",
        "  mf_dict = {k:v.by_group[metric] for (k,v) in mf_dict.items()}\n",
        "  comparison_df = pd.DataFrame.from_dict(mf_dict)\n",
        "  comparison_df.plot.bar(figsize=(12, 6), legend=False)\n",
        "  plt.title(metric)\n",
        "  plt.xticks(rotation=0, ha='center');\n",
        "  plt.legend(bbox_to_anchor=(1.01,1), loc='upper left')"
      ]
    },
    {
      "cell_type": "code",
      "execution_count": null,
      "metadata": {
        "id": "9dNb-kI3uHzM"
      },
      "outputs": [],
      "source": [
        "test_dict = {\n",
        "    \"Reductions\": metricframe_reductions,\n",
        "    \"Unmitigated\": metricframe_unmitigated,\n",
        "    \"Postprocessing\": metricframe_postprocess,\n",
        "    \"Postprocessing (DET)\": mf_deterministic\n",
        "}"
      ]
    },
    {
      "cell_type": "code",
      "execution_count": null,
      "metadata": {
        "id": "SweXBa-vEWFM"
      },
      "outputs": [],
      "source": [
        "plot_technique_comparison(test_dict, \"false_negative_rate\")"
      ]
    },
    {
      "cell_type": "code",
      "execution_count": null,
      "metadata": {
        "id": "FJOwW9db3wKe"
      },
      "outputs": [],
      "source": [
        "plot_technique_comparison(test_dict, \"balanced_accuracy\")"
      ]
    },
    {
      "cell_type": "code",
      "execution_count": null,
      "metadata": {
        "id": "dACpOpm67K-m"
      },
      "outputs": [],
      "source": [
        "plot_technique_comparison(test_dict, \"selection_rate\")"
      ]
    },
    {
      "cell_type": "markdown",
      "metadata": {
        "id": "OYkgAggpW11N"
      },
      "source": [
        "\n",
        "\n",
        "#### Model performance - overall"
      ]
    },
    {
      "cell_type": "code",
      "execution_count": null,
      "metadata": {
        "id": "w3Rwe98m6Pv2"
      },
      "outputs": [],
      "source": [
        "overall_df = pd.DataFrame.from_dict({\n",
        "    \"Unmitigated\": metricframe_unmitigated.overall,\n",
        "    \"Postprocessing\": metricframe_postprocess.overall,\n",
        "    \"Postprocessing (DET)\": mf_deterministic.overall,\n",
        "    \"Reductions\": metricframe_reductions.overall\n",
        "})"
      ]
    },
    {
      "cell_type": "code",
      "execution_count": null,
      "metadata": {
        "id": "44Q-lYTa6PzX"
      },
      "outputs": [],
      "source": [
        "overall_df.T"
      ]
    },
    {
      "cell_type": "code",
      "execution_count": null,
      "metadata": {
        "id": "yUaAejwa6P3F"
      },
      "outputs": [],
      "source": [
        "overall_df.transpose().plot.bar(subplots=True, layout= [1,3], figsize=(12, 5), legend=False, rot=-45, position=1.5);"
      ]
    },
    {
      "cell_type": "code",
      "execution_count": null,
      "metadata": {
        "id": "pIGS8f2M2Afu"
      },
      "outputs": [],
      "source": [
        "difference_df = pd.DataFrame.from_dict({\n",
        "    \"Unmitigated\": metricframe_unmitigated.difference(),\n",
        "    \"Postprocessing\": metricframe_postprocess.difference(),\n",
        "    \"Postprocessing (DET)\": mf_deterministic.difference(),\n",
        "    \"Reductions\": metricframe_reductions.difference()\n",
        "}\n",
        ")"
      ]
    },
    {
      "cell_type": "code",
      "execution_count": null,
      "metadata": {
        "id": "3pBkP7QCDVs6"
      },
      "outputs": [],
      "source": [
        "difference_df.T"
      ]
    },
    {
      "cell_type": "code",
      "execution_count": null,
      "metadata": {
        "id": "_qXEkByRDkK0"
      },
      "outputs": [],
      "source": [
        "difference_df.T.plot.bar(subplots=True, layout= [1,3], figsize=(12, 5), legend=False, rot=-45, position=1.5);"
      ]
    },
    {
      "cell_type": "markdown",
      "metadata": {
        "id": "7S6CIoJ-W1jH"
      },
      "source": [
        "### Randomized predictions"
      ]
    },
    {
      "cell_type": "markdown",
      "metadata": {
        "id": "MzdFLJ9BA15F"
      },
      "source": [
        "Both the `ExponentiatedGradient` and the `ThresholdOptimizer` yield randomized predictions (may return different result given the same instance). Due to legal regulations or other concerns, a practitioner may not be able to deploy a randomized model. To address these restrictions:\n",
        "\n",
        "*   We created a deterministic predictor based on the randomized thresholds learned by the `ThresholdOptimizer`. This deteministic predictor achieved similar performance as the `ThresholdOptimizer`.\n",
        "*   For the `ExponentiatedGradient` model, we can deploy one of the deterministic inner models rather than the overall `ExponentiatedGradient` model.\n",
        "\n"
      ]
    },
    {
      "cell_type": "markdown",
      "metadata": {
        "id": "P9dvkQvKW1lv"
      },
      "source": [
        "### Access to sensitive features\n",
        "\n"
      ]
    },
    {
      "cell_type": "markdown",
      "metadata": {
        "id": "L56tawsAW14B"
      },
      "source": [
        "\n",
        "\n",
        "*   The `ThresholdOptimizer` model requires access to the sensitive features during BOTH training time and once deployed. If you do not have access to the sensitive features once the model is deployed, you will not be able to use the `ThresholdOptimizer`.\n",
        "*   The `ExponentiatedGradient` model requires access to the sensitive features ONLY during training time.\n",
        "\n",
        "\n"
      ]
    },
    {
      "cell_type": "markdown",
      "metadata": {
        "id": "fQOR2R3XVa-U"
      },
      "source": [
        "# Model cards for model reporting"
      ]
    },
    {
      "cell_type": "markdown",
      "metadata": {
        "id": "MzFzSHrQBAgi"
      },
      "source": [
        "_Note: The Python code in this section works in Google Colab, but it does not work on all local environments that we tested._"
      ]
    },
    {
      "cell_type": "markdown",
      "metadata": {
        "id": "2RAXJDoyVbBT"
      },
      "source": [
        "[Mitchell et al. (2019)](https://arxiv.org/abs/1810.03993) proposed the *model cards* framework for documenting and reporting model training details and deployment considerations. A _model card_ documents, for example, training and evaluation dataset summaries, ethical considerations, and quantitative performance results.\n",
        "\n"
      ]
    },
    {
      "cell_type": "markdown",
      "metadata": {
        "id": "oP_tklbmMoFH"
      },
      "source": [
        "### Fill out the model card [OPTIONAL SECTION]"
      ]
    },
    {
      "cell_type": "markdown",
      "metadata": {
        "id": "QfI9oEwIkS6v"
      },
      "source": [
        "In this section, we will create a model card for one of the models we trained."
      ]
    },
    {
      "cell_type": "code",
      "execution_count": null,
      "metadata": {
        "id": "OViYhOAHPftT"
      },
      "outputs": [],
      "source": [
        "mct = ModelCardToolkit()\n",
        "model_card = mct.scaffold_assets()\n"
      ]
    },
    {
      "cell_type": "markdown",
      "metadata": {
        "id": "Lnr6aRjIF_t6"
      },
      "source": [
        "The first section of the Model Card is the _model details_ section. In _model details_, we fill in some basic information for our model.\n",
        "\n",
        "\n",
        "*   _Name_: A name for the model\n",
        "*   _Overview_: A brief description of the model and its intended use case\n",
        "*   _Owners_: Name of individual(s) or group who created the model.\n",
        "*   _References_: Any external links or references\n",
        "\n"
      ]
    },
    {
      "cell_type": "code",
      "execution_count": null,
      "metadata": {
        "id": "YKvUW25cPewp"
      },
      "outputs": [],
      "source": [
        "model_card.model_details.name = \"Diabetes Re-Admission Risk model\"\n",
        "model_card.model_details.overview = \"This model predicts whether a patient will be re-admitted into a hospital within 30 days.\"\n",
        "model_card.model_details.owners = [{\n",
        "    \"name\": \"Fairlearn Team\",\n",
        "    \"contact\": \"https://fairlearn.org/\"\n",
        "}]\n",
        "model_card.model_details.reference = [\n",
        "    \"https://archive.ics.uci.edu/ml/datasets/Diabetes+130-US+hospitals+for+years+1999-2008\"\n",
        "]\n",
        "model_card.model_details.version.name = \"v1.0\"\n",
        "model_card.model_details.version.date = str(date.today())\n",
        "model_card.model_details.license = \"MIT License\"\n"
      ]
    },
    {
      "cell_type": "code",
      "execution_count": null,
      "metadata": {
        "id": "avEdkdzAPe2S"
      },
      "outputs": [],
      "source": [
        "model_card.considerations.use_cases = [\"High-Risk Patient Care Management\"]\n",
        "model_card.considerations.users = [\"Medical Professionals\",  \"ML Researchers\"]\n",
        "model_card.considerations.limitations = [\n",
        "    \"\"\"\n",
        "    This model will not generalize to hospitals outside of the United States. Features, such as those encoding insurance\n",
        "    information, are inherently tied to the U.S healthcare system.\n",
        "    In addition, this model is intended for patients who are admitted into U.S. hospitals for diabetes-related illnessess.\n",
        "    \"\"\"\n",
        "]\n",
        "model_card.considerations.ethical_considerations = [{\n",
        "    \"name\": (\"Low sample sizes of certain racial groups could lead to poorer performance on these groups\"),\n",
        "    \"mitigation_strategy\": \"Collect additional data points from more hospitals.\"\n",
        "}]"
      ]
    },
    {
      "cell_type": "markdown",
      "metadata": {
        "id": "orPNYAZFwGVM"
      },
      "source": [
        "The next two sections of the model card are meant to provide the reader with information about the data used to train and evaluate the model. For each of these sections, we provide a brief `description` of the data and then submit a `visualization` of the distribution of labels in the dataset."
      ]
    },
    {
      "cell_type": "code",
      "execution_count": null,
      "metadata": {
        "id": "khWJN_vqm35e"
      },
      "outputs": [],
      "source": [
        "model_card.model_parameters.data.train.graphics.description = (\n",
        "    f\"{X_train_bal.shape[0]} rows with {X_train_bal.shape[1]} features. \"\n",
        "    f\"The original training data set was undersampled to allow for an equal number of positive and negative labeled instances.\"\n",
        ")\n",
        "\n",
        "model_card.model_parameters.data.train.graphics.collection = [\n",
        "    {\"name\": \"Sensitive Features\", \"image\": sensitive_train},\n",
        "    {\"name\": \"Target Label\", \"image\": outcome_train}\n",
        "]"
      ]
    },
    {
      "cell_type": "code",
      "execution_count": null,
      "metadata": {
        "id": "h3fiatJ6nGQf"
      },
      "outputs": [],
      "source": [
        "model_card.model_parameters.data.eval.graphics.description = (\n",
        "    f\"{X_test.shape[0]} rows with {X_test.shape[1]} columns\"\n",
        ")\n",
        "\n",
        "model_card.model_parameters.data.eval.graphics.collection = [\n",
        "    {\"name\": \"Sensitive Features\", \"image\": sensitive_test},\n",
        "    {\"name\": \"Target Label\", \"image\": outcome_test}\n",
        "]"
      ]
    },
    {
      "cell_type": "markdown",
      "metadata": {
        "id": "frGlrXHAyn2C"
      },
      "source": [
        "In the last section, we fill out the `quantitative_analysis` section where we describe the model's performance metrics on the evaluation dataset. In particular, we want to report the model's disagregated performance with respect to our three metrics including false negative rate, which quantifies fairness-related harms."
      ]
    },
    {
      "cell_type": "code",
      "execution_count": null,
      "metadata": {
        "id": "1cyHIMlAJqod"
      },
      "outputs": [],
      "source": [
        "def metricframe_to_dictionary(mframe, feature_name):\n",
        "    \"\"\"\n",
        "    Converts a MetricFrame into a Dictionary object that can be accepted by the Model Card's\n",
        "    Quantitative Analysis section.\n",
        "    \"\"\"\n",
        "    group_metrics = mframe.by_group[feature_name].reset_index()\n",
        "    group_metrics = group_metrics.melt(id_vars=\"race\", var_name=\"type\", value_vars=feature_name).rename(columns={\"race\":\"slice\"})\n",
        "    return group_metrics.to_dict(orient=\"records\")"
      ]
    },
    {
      "cell_type": "code",
      "execution_count": null,
      "metadata": {
        "id": "kETWDtN68Gmq"
      },
      "outputs": [],
      "source": [
        "model_card.quantitative_analysis.graphics.description = (\n",
        "    f\"These graphs show the models performance on the test dataset for disagregated racial categories.\"\n",
        ")\n",
        "model_card.quantitative_analysis.performance_metrics = metricframe_to_dictionary(metricframe_postprocess, \"false_negative_rate\")\n",
        "model_card.quantitative_analysis.graphics.collection = [\n",
        "    {\"name\": \"ThresholdOptimizer\", \"image\": postprocess_performance}\n",
        "]"
      ]
    },
    {
      "cell_type": "markdown",
      "metadata": {
        "id": "WvL2mHlwp-l0"
      },
      "source": [
        "Finally, we pass our filled-out `model_card` to the `mct` object to generate an HTML version of the `model_card` that can be rendered within a Jupyter notebook."
      ]
    },
    {
      "cell_type": "code",
      "execution_count": null,
      "metadata": {
        "id": "A-j_4mBaPe5z"
      },
      "outputs": [],
      "source": [
        "mct.update_model_card_json(model_card)\n",
        "html_modelcard = mct.export_format()"
      ]
    },
    {
      "cell_type": "markdown",
      "metadata": {
        "id": "CkuNE_MvMy7P"
      },
      "source": [
        "### Display the model card"
      ]
    },
    {
      "cell_type": "code",
      "execution_count": null,
      "metadata": {
        "id": "89kqC0Jj9D6O"
      },
      "outputs": [],
      "source": [
        "display.HTML(html_modelcard)"
      ]
    },
    {
      "cell_type": "markdown",
      "metadata": {
        "id": "1j9WzWcCVbZV"
      },
      "source": [
        "# Discussion and conclusion"
      ]
    },
    {
      "cell_type": "markdown",
      "metadata": {
        "id": "xtvW54LtB8hp"
      },
      "source": [
        "In this tutorial we have explored in depth a health care scenario through all stages of the AI lifecycle except the model deployment stage. We have seen how fairness-related harms can arise at the stage of task definition, data collection, model training, and model evaluation. We have also seen how to use a variety of tools and practices, such as datasheets for datasets, Fairlearn, and model cards.\n",
        "\n",
        "Once the model is deployed, it is important to continue monitoring the key metrics to assess any performance difference as well as the potential for fairness related harms. As you learn more about how the model is used, you may need to revise the fairness metrics, update the model, consider additional sensitive features, update the task definition, or collect new data.\n",
        "\n",
        "Although we used a variety of software tools, fairness is a sociotechnical challenge, so mitigations cannot be purely technical, and need to be supported by processes and practices, including government regulation and organizational incentives.\n",
        "\n",
        "If you would like to learn more about fairness of AI systems, or to contribute to Fairlearn, we welcome you to join our community. Fairlearn is built and maintained by contributors with a variety of backgrounds and expertise.\n",
        "\n",
        "Further resources can also be found [on our website](https://fairlearn.org/main/user_guide/further_resources.html)."
      ]
    }
  ],
  "metadata": {
    "colab": {
      "collapsed_sections": [
        "4MMbl3u7-J-a",
        "ZVSerRqDG3we"
      ],
      "name": "SciPy 2021 Tutorial.ipynb",
      "provenance": [],
      "toc_visible": true,
      "include_colab_link": true
    },
    "interpreter": {
      "hash": "a025db62d48a12d86b0e6b0cb53f59776c5e11a448915a1ba45134646da53519"
    },
    "kernelspec": {
      "display_name": "Python 3.8.5 64-bit ('base': conda)",
      "name": "python3"
    },
    "language_info": {
      "name": "python",
      "version": ""
    }
  },
  "nbformat": 4,
  "nbformat_minor": 0
}